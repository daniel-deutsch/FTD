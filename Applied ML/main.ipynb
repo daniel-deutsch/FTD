{
 "cells": [
  {
   "cell_type": "markdown",
   "metadata": {},
   "source": [
    "# Applied Machine Learning: Credit Card Approval Prediction\n",
    "\n",
    "*By Daniel Deutsch and José Lucas Barretto*"
   ]
  },
  {
   "cell_type": "code",
   "execution_count": 1,
   "metadata": {},
   "outputs": [],
   "source": [
    "import numpy as np\n",
    "import pandas as pd\n",
    "import seaborn as sns\n",
    "from matplotlib import pyplot as plt\n",
    "from sklearn.ensemble import RandomForestClassifier\n",
    "from sklearn.inspection import permutation_importance\n",
    "from sklearn.metrics import classification_report\n",
    "from sklearn.model_selection import GridSearchCV, train_test_split\n",
    "from sklearn.preprocessing import OneHotEncoder, StandardScaler"
   ]
  },
  {
   "cell_type": "code",
   "execution_count": 2,
   "metadata": {},
   "outputs": [],
   "source": [
    "# Matplotlib styles\n",
    "plt.style.use('ggplot')\n",
    "plt.rcParams.update({\n",
    "    'figure.figsize': (15, 4),\n",
    "    'axes.prop_cycle': plt.cycler(color=[\"#4C72B0\", \"#C44E52\", \"#55A868\", \"#8172B2\", \"#CCB974\", \"#64B5CD\"]),\n",
    "    'axes.facecolor': \"#EAEAF2\"\n",
    "})\n",
    "\n",
    "# random state\n",
    "random_state=42"
   ]
  },
  {
   "cell_type": "markdown",
   "metadata": {},
   "source": [
    "## Data Processing\n",
    "\n",
    "At this staage the goal is to read both datasets and adapt its content for our classification models."
   ]
  },
  {
   "cell_type": "markdown",
   "metadata": {},
   "source": [
    "### Processing raw data"
   ]
  },
  {
   "cell_type": "markdown",
   "metadata": {},
   "source": [
    "#### Credit records"
   ]
  },
  {
   "cell_type": "code",
   "execution_count": 3,
   "metadata": {},
   "outputs": [],
   "source": [
    "# Reads the dataset\n",
    "df_credit_record = pd.read_csv(\"./datasets/credit_record.csv\")\n",
    "\n",
    "# Renames columns\n",
    "df_credit_record.rename(columns=str.lower, inplace=True)\n",
    "\n",
    "# Numericalize status\n",
    "df_credit_record.replace({'status': {'X': 0, 'C': 0, '0': 1, '1': 2, '2': 3, '3': 4, '4': 5, '5': 6}}, inplace=True)\n",
    "\n",
    "# Calculates the metric\n",
    "df_credit_record = df_credit_record.groupby('id')['status'].mean().reset_index()\n",
    "\n",
    "# Sets the label\n",
    "df_credit_record['is_good'] = 1*(df_credit_record['status'] <= 1)"
   ]
  },
  {
   "cell_type": "markdown",
   "metadata": {},
   "source": [
    "#### Application Records"
   ]
  },
  {
   "cell_type": "code",
   "execution_count": 4,
   "metadata": {},
   "outputs": [],
   "source": [
    "# Reads the dataset\n",
    "df_application_record = pd.read_csv(\"./datasets/application_record.csv\")\n",
    "\n",
    "# Renames columns\n",
    "df_application_record.rename(columns=str.lower, inplace=True)\n",
    "\n",
    "# numericalyze and rename education level\n",
    "df_application_record.replace({\n",
    "    'name_education_type': {\n",
    "        'Higher education': 4,\n",
    "        'Academic degree': 4,\n",
    "        'Incomplete higher': 3,\n",
    "        'Secondary / secondary special': 2,\n",
    "        'Lower secondary': 1, \n",
    "    }\n",
    "}, inplace=True)\n",
    "df_application_record.rename(columns={'name_education_type': 'education_level'}, inplace=True)\n",
    "\n",
    "# transform days employed into is_unemployed\n",
    "df_application_record['is_unemployed'] = 1*(df_application_record['days_employed'] > 0)\n",
    "\n",
    "# drop uninteresting columns - birthday, days employed\n",
    "df_application_record.drop(columns=['days_employed', 'days_birth'], inplace=True)"
   ]
  },
  {
   "cell_type": "markdown",
   "metadata": {},
   "source": [
    "#### Merging data"
   ]
  },
  {
   "cell_type": "code",
   "execution_count": 5,
   "metadata": {},
   "outputs": [],
   "source": [
    "df = pd.merge(df_credit_record, df_application_record, how='inner', on='id')\n",
    "\n",
    "del df_credit_record, df_application_record"
   ]
  },
  {
   "cell_type": "markdown",
   "metadata": {},
   "source": [
    "### Train-test split"
   ]
  },
  {
   "cell_type": "code",
   "execution_count": 7,
   "metadata": {},
   "outputs": [],
   "source": [
    "# define categorical, numerical, and other interesting vars\n",
    "categorical = [\n",
    "    'code_gender', \n",
    "    'flag_own_car', \n",
    "    'flag_own_realty', \n",
    "    'name_income_type',\n",
    "    'name_family_status', \n",
    "    'name_housing_type', \n",
    "    'flag_mobil', \n",
    "    'flag_work_phone',\n",
    "    'flag_phone', \n",
    "    'flag_email',\n",
    "    'occupation_type'\n",
    "]\n",
    "\n",
    "numerical = [\n",
    "    'cnt_children',\n",
    "    'amt_income_total',\n",
    "    'cnt_fam_members'\n",
    "]\n",
    "\n",
    "other = [\n",
    "    'is_unemployed',\n",
    "    'education_level'\n",
    "]\n",
    "\n",
    "# define X and y datasets\n",
    "X = df[categorical + numerical + other]\n",
    "y = df['is_good']\n",
    "\n",
    "# split between train and test sets\n",
    "X_train, X_test, y_train, y_test = train_test_split(X, y, test_size=0.3, random_state=random_state)"
   ]
  },
  {
   "cell_type": "markdown",
   "metadata": {},
   "source": [
    "### Processing features"
   ]
  },
  {
   "cell_type": "code",
   "execution_count": 8,
   "metadata": {},
   "outputs": [],
   "source": [
    "# initialize encoder for categorical vars\n",
    "enc = OneHotEncoder(drop='first', sparse=False)\n",
    "\n",
    "# fit transform encoder to train data\n",
    "X_train_categorical = pd.DataFrame(enc.fit_transform(X_train[categorical]), index=X_train.index, columns=enc.get_feature_names_out())\n",
    "\n",
    "# transform encoder to test data\n",
    "X_test_categorical = pd.DataFrame(enc.transform(X_test[categorical]), index=X_test.index, columns=enc.get_feature_names_out())"
   ]
  },
  {
   "cell_type": "code",
   "execution_count": 9,
   "metadata": {},
   "outputs": [],
   "source": [
    "# initialize scaler for numerical vars\n",
    "scaler = StandardScaler()\n",
    "\n",
    "# fit transform scaler to train data\n",
    "X_train_numerical = pd.DataFrame(scaler.fit_transform(X_train[numerical]), index=X_train.index, columns=numerical)\n",
    "\n",
    "# transform scaler to test data\n",
    "X_test_numerical = pd.DataFrame(scaler.transform(X_test[numerical]), index=X_test.index, columns=numerical)"
   ]
  },
  {
   "cell_type": "code",
   "execution_count": 10,
   "metadata": {},
   "outputs": [],
   "source": [
    "# concatenate numerical and categorical vars\n",
    "X_train_normal = pd.concat((X_train_numerical, X_train_categorical, X_train[other]), axis=1)\n",
    "X_test_normal = pd.concat((X_test_numerical, X_test_categorical, X_test[other]), axis=1)"
   ]
  },
  {
   "cell_type": "markdown",
   "metadata": {},
   "source": [
    "## Modeling, Feature Selection, Explainability"
   ]
  },
  {
   "cell_type": "markdown",
   "metadata": {},
   "source": [
    "### Random Forest"
   ]
  },
  {
   "cell_type": "markdown",
   "metadata": {},
   "source": [
    "#### Training and Evaluating the Model"
   ]
  },
  {
   "cell_type": "code",
   "execution_count": 12,
   "metadata": {},
   "outputs": [
    {
     "name": "stdout",
     "output_type": "stream",
     "text": [
      "Fitting 3 folds for each of 36 candidates, totalling 108 fits\n",
      "[CV 2/3] END max_depth=500, max_features=5, n_estimators=250;, score=0.700 total time=   3.8s\n",
      "[CV 1/3] END max_depth=500, max_features=5, n_estimators=250;, score=0.709 total time=   4.0s\n",
      "[CV 3/3] END max_depth=500, max_features=5, n_estimators=250;, score=0.703 total time=   4.2s\n",
      "[CV 1/3] END max_depth=500, max_features=5, n_estimators=300;, score=0.709 total time=   4.7s\n",
      "[CV 2/3] END max_depth=500, max_features=5, n_estimators=300;, score=0.699 total time=   4.9s\n",
      "[CV 3/3] END max_depth=500, max_features=5, n_estimators=300;, score=0.709 total time=   5.1s\n",
      "[CV 2/3] END max_depth=500, max_features=5, n_estimators=500;, score=0.695 total time=   7.6s\n",
      "[CV 1/3] END max_depth=500, max_features=5, n_estimators=500;, score=0.697 total time=   7.9s\n",
      "[CV 1/3] END max_depth=500, max_features=10, n_estimators=250;, score=0.704 total time=   5.2s\n",
      "[CV 2/3] END max_depth=500, max_features=10, n_estimators=250;, score=0.702 total time=   5.3s\n",
      "[CV 3/3] END max_depth=500, max_features=10, n_estimators=250;, score=0.715 total time=   5.2s\n",
      "[CV 1/3] END max_depth=500, max_features=10, n_estimators=300;, score=0.701 total time=   6.0s\n",
      "[CV 2/3] END max_depth=500, max_features=10, n_estimators=300;, score=0.700 total time=   6.4s\n",
      "[CV 3/3] END max_depth=500, max_features=5, n_estimators=500;, score=0.706 total time=   7.9s\n",
      "[CV 3/3] END max_depth=500, max_features=10, n_estimators=300;, score=0.714 total time=   6.0s\n",
      "[CV 1/3] END max_depth=500, max_features=20, n_estimators=250;, score=0.712 total time=   7.7s\n",
      "[CV 1/3] END max_depth=500, max_features=10, n_estimators=500;, score=0.708 total time=  10.1s\n",
      "[CV 2/3] END max_depth=500, max_features=20, n_estimators=250;, score=0.687 total time=   8.1s\n",
      "[CV 2/3] END max_depth=500, max_features=10, n_estimators=500;, score=0.693 total time=   9.9s\n",
      "[CV 3/3] END max_depth=500, max_features=20, n_estimators=250;, score=0.722 total time=   7.6s\n",
      "[CV 3/3] END max_depth=500, max_features=10, n_estimators=500;, score=0.715 total time=  10.3s\n",
      "[CV 1/3] END max_depth=500, max_features=20, n_estimators=300;, score=0.711 total time=   9.5s\n",
      "[CV 2/3] END max_depth=500, max_features=20, n_estimators=300;, score=0.695 total time=   9.6s\n",
      "[CV 3/3] END max_depth=500, max_features=20, n_estimators=300;, score=0.710 total time=   9.0s\n",
      "[CV 1/3] END max_depth=500, max_features=42, n_estimators=250;, score=0.704 total time=  13.4s\n",
      "[CV 1/3] END max_depth=500, max_features=20, n_estimators=500;, score=0.708 total time=  15.5s\n",
      "[CV 2/3] END max_depth=500, max_features=42, n_estimators=250;, score=0.689 total time=  14.3s\n",
      "[CV 2/3] END max_depth=500, max_features=20, n_estimators=500;, score=0.701 total time=  15.6s\n",
      "[CV 3/3] END max_depth=500, max_features=20, n_estimators=500;, score=0.709 total time=  16.0s\n",
      "[CV 3/3] END max_depth=500, max_features=42, n_estimators=250;, score=0.707 total time=  14.3s\n",
      "[CV 1/3] END max_depth=1000, max_features=5, n_estimators=250;, score=0.705 total time=   3.9s\n",
      "[CV 2/3] END max_depth=1000, max_features=5, n_estimators=250;, score=0.683 total time=   3.8s\n",
      "[CV 1/3] END max_depth=500, max_features=42, n_estimators=300;, score=0.703 total time=  16.5s\n",
      "[CV 3/3] END max_depth=1000, max_features=5, n_estimators=250;, score=0.701 total time=   3.7s\n",
      "[CV 2/3] END max_depth=500, max_features=42, n_estimators=300;, score=0.687 total time=  16.5s\n",
      "[CV 1/3] END max_depth=1000, max_features=5, n_estimators=300;, score=0.705 total time=   4.4s\n",
      "[CV 2/3] END max_depth=1000, max_features=5, n_estimators=300;, score=0.691 total time=   4.1s\n",
      "[CV 3/3] END max_depth=1000, max_features=5, n_estimators=300;, score=0.708 total time=   5.0s\n",
      "[CV 3/3] END max_depth=500, max_features=42, n_estimators=300;, score=0.711 total time=  17.4s\n",
      "[CV 1/3] END max_depth=1000, max_features=5, n_estimators=500;, score=0.709 total time=   8.0s\n",
      "[CV 2/3] END max_depth=1000, max_features=5, n_estimators=500;, score=0.701 total time=   7.5s\n",
      "[CV 3/3] END max_depth=1000, max_features=5, n_estimators=500;, score=0.715 total time=   7.5s\n",
      "[CV 1/3] END max_depth=1000, max_features=10, n_estimators=250;, score=0.709 total time=   5.2s\n",
      "[CV 2/3] END max_depth=1000, max_features=10, n_estimators=250;, score=0.689 total time=   5.3s\n",
      "[CV 3/3] END max_depth=1000, max_features=10, n_estimators=250;, score=0.713 total time=   5.0s\n",
      "[CV 1/3] END max_depth=1000, max_features=10, n_estimators=300;, score=0.700 total time=   6.4s\n",
      "[CV 2/3] END max_depth=1000, max_features=10, n_estimators=300;, score=0.690 total time=   6.5s\n",
      "[CV 3/3] END max_depth=1000, max_features=10, n_estimators=300;, score=0.716 total time=   6.2s\n",
      "[CV 1/3] END max_depth=500, max_features=42, n_estimators=500;, score=0.707 total time=  28.6s\n",
      "[CV 3/3] END max_depth=500, max_features=42, n_estimators=500;, score=0.709 total time=  29.2s\n",
      "[CV 2/3] END max_depth=500, max_features=42, n_estimators=500;, score=0.692 total time=  29.8s\n",
      "[CV 1/3] END max_depth=1000, max_features=10, n_estimators=500;, score=0.708 total time=  10.4s\n",
      "[CV 1/3] END max_depth=1000, max_features=20, n_estimators=250;, score=0.707 total time=   7.9s\n",
      "[CV 2/3] END max_depth=1000, max_features=10, n_estimators=500;, score=0.703 total time=  10.0s\n",
      "[CV 2/3] END max_depth=1000, max_features=20, n_estimators=250;, score=0.684 total time=   8.2s\n",
      "[CV 3/3] END max_depth=1000, max_features=10, n_estimators=500;, score=0.719 total time=  10.7s\n",
      "[CV 3/3] END max_depth=1000, max_features=20, n_estimators=250;, score=0.707 total time=   8.8s\n",
      "[CV 2/3] END max_depth=1000, max_features=20, n_estimators=300;, score=0.696 total time=   9.6s\n",
      "[CV 1/3] END max_depth=1000, max_features=20, n_estimators=300;, score=0.700 total time=  10.4s\n",
      "[CV 3/3] END max_depth=1000, max_features=20, n_estimators=300;, score=0.709 total time=  10.4s\n",
      "[CV 2/3] END max_depth=1000, max_features=20, n_estimators=500;, score=0.699 total time=  16.6s\n",
      "[CV 1/3] END max_depth=1000, max_features=20, n_estimators=500;, score=0.707 total time=  16.7s\n",
      "[CV 1/3] END max_depth=1000, max_features=42, n_estimators=250;, score=0.701 total time=  14.8s\n",
      "[CV 3/3] END max_depth=1000, max_features=20, n_estimators=500;, score=0.719 total time=  16.5s\n",
      "[CV 2/3] END max_depth=1000, max_features=42, n_estimators=250;, score=0.699 total time=  15.8s\n",
      "[CV 3/3] END max_depth=1000, max_features=42, n_estimators=250;, score=0.710 total time=  14.9s\n",
      "[CV 1/3] END max_depth=2000, max_features=5, n_estimators=250;, score=0.703 total time=   4.1s\n",
      "[CV 1/3] END max_depth=1000, max_features=42, n_estimators=300;, score=0.703 total time=  18.0s\n",
      "[CV 2/3] END max_depth=2000, max_features=5, n_estimators=250;, score=0.689 total time=   3.9s\n",
      "[CV 2/3] END max_depth=1000, max_features=42, n_estimators=300;, score=0.698 total time=  18.1s\n",
      "[CV 3/3] END max_depth=2000, max_features=5, n_estimators=250;, score=0.707 total time=   4.1s\n",
      "[CV 2/3] END max_depth=2000, max_features=5, n_estimators=300;, score=0.693 total time=   4.7s\n",
      "[CV 1/3] END max_depth=2000, max_features=5, n_estimators=300;, score=0.708 total time=   4.9s\n",
      "[CV 3/3] END max_depth=2000, max_features=5, n_estimators=300;, score=0.711 total time=   4.9s\n",
      "[CV 3/3] END max_depth=1000, max_features=42, n_estimators=300;, score=0.712 total time=  19.2s\n",
      "[CV 1/3] END max_depth=2000, max_features=5, n_estimators=500;, score=0.711 total time=   8.0s\n",
      "[CV 1/3] END max_depth=2000, max_features=10, n_estimators=250;, score=0.712 total time=   5.3s\n",
      "[CV 2/3] END max_depth=2000, max_features=5, n_estimators=500;, score=0.696 total time=   8.3s\n",
      "[CV 3/3] END max_depth=2000, max_features=5, n_estimators=500;, score=0.712 total time=   8.2s\n",
      "[CV 2/3] END max_depth=2000, max_features=10, n_estimators=250;, score=0.686 total time=   5.6s\n",
      "[CV 3/3] END max_depth=2000, max_features=10, n_estimators=250;, score=0.713 total time=   5.6s\n",
      "[CV 1/3] END max_depth=2000, max_features=10, n_estimators=300;, score=0.710 total time=   6.3s\n",
      "[CV 2/3] END max_depth=2000, max_features=10, n_estimators=300;, score=0.690 total time=   6.4s\n",
      "[CV 3/3] END max_depth=2000, max_features=10, n_estimators=300;, score=0.714 total time=   6.6s\n",
      "[CV 1/3] END max_depth=1000, max_features=42, n_estimators=500;, score=0.705 total time=  31.0s\n",
      "[CV 2/3] END max_depth=1000, max_features=42, n_estimators=500;, score=0.684 total time=  31.6s\n",
      "[CV 3/3] END max_depth=1000, max_features=42, n_estimators=500;, score=0.713 total time=  31.4s\n",
      "[CV 1/3] END max_depth=2000, max_features=10, n_estimators=500;, score=0.703 total time=  11.2s\n",
      "[CV 2/3] END max_depth=2000, max_features=10, n_estimators=500;, score=0.697 total time=  11.0s\n",
      "[CV 1/3] END max_depth=2000, max_features=20, n_estimators=250;, score=0.708 total time=   8.7s\n",
      "[CV 2/3] END max_depth=2000, max_features=20, n_estimators=250;, score=0.701 total time=   8.7s\n",
      "[CV 3/3] END max_depth=2000, max_features=10, n_estimators=500;, score=0.713 total time=  11.4s\n",
      "[CV 3/3] END max_depth=2000, max_features=20, n_estimators=250;, score=0.718 total time=   8.8s\n",
      "[CV 1/3] END max_depth=2000, max_features=20, n_estimators=300;, score=0.710 total time=  10.2s\n",
      "[CV 2/3] END max_depth=2000, max_features=20, n_estimators=300;, score=0.686 total time=  10.6s\n",
      "[CV 3/3] END max_depth=2000, max_features=20, n_estimators=300;, score=0.710 total time=  10.2s\n",
      "[CV 1/3] END max_depth=2000, max_features=20, n_estimators=500;, score=0.699 total time=  17.2s\n",
      "[CV 2/3] END max_depth=2000, max_features=20, n_estimators=500;, score=0.692 total time=  16.9s\n",
      "[CV 3/3] END max_depth=2000, max_features=20, n_estimators=500;, score=0.704 total time=  17.3s\n",
      "[CV 2/3] END max_depth=2000, max_features=42, n_estimators=250;, score=0.686 total time=  15.5s\n",
      "[CV 1/3] END max_depth=2000, max_features=42, n_estimators=250;, score=0.706 total time=  15.7s\n",
      "[CV 3/3] END max_depth=2000, max_features=42, n_estimators=250;, score=0.701 total time=  15.9s\n",
      "[CV 1/3] END max_depth=2000, max_features=42, n_estimators=300;, score=0.708 total time=  17.7s\n",
      "[CV 2/3] END max_depth=2000, max_features=42, n_estimators=300;, score=0.692 total time=  17.1s\n",
      "[CV 3/3] END max_depth=2000, max_features=42, n_estimators=300;, score=0.701 total time=  14.9s\n",
      "[CV 1/3] END max_depth=2000, max_features=42, n_estimators=500;, score=0.707 total time=  22.1s\n",
      "[CV 2/3] END max_depth=2000, max_features=42, n_estimators=500;, score=0.689 total time=  22.1s\n",
      "[CV 3/3] END max_depth=2000, max_features=42, n_estimators=500;, score=0.714 total time=  22.4s\n"
     ]
    },
    {
     "data": {
      "text/plain": [
       "RandomForestClassifier(max_depth=1000, max_features=10, n_estimators=500)"
      ]
     },
     "execution_count": 12,
     "metadata": {},
     "output_type": "execute_result"
    }
   ],
   "source": [
    "clf = RandomForestClassifier()\n",
    "\n",
    "param_grid = {\n",
    "    \"n_estimators\":[250, 300, 500],\n",
    "    \"max_depth\":[500, 1000, 2000],\n",
    "    \"max_features\":[5,10,20,X_train_normal.shape[1]]\n",
    "}\n",
    "\n",
    "clf = RandomForestClassifier()\n",
    "\n",
    "clf_tuned = GridSearchCV(\n",
    "    estimator=clf,\n",
    "    param_grid=param_grid,\n",
    "    scoring='roc_auc',\n",
    "    cv=3,\n",
    "    n_jobs=-1,\n",
    "    verbose=3,\n",
    ")\n",
    "\n",
    "clf_tuned.fit(X_train_normal, y_train)\n",
    "clf_tuned.best_estimator_"
   ]
  },
  {
   "cell_type": "code",
   "execution_count": 14,
   "metadata": {},
   "outputs": [
    {
     "name": "stdout",
     "output_type": "stream",
     "text": [
      "              precision    recall  f1-score   support\n",
      "\n",
      "           0       0.42      0.14      0.21       406\n",
      "           1       0.97      0.99      0.98     10532\n",
      "\n",
      "    accuracy                           0.96     10938\n",
      "   macro avg       0.69      0.57      0.60     10938\n",
      "weighted avg       0.95      0.96      0.95     10938\n",
      "\n"
     ]
    }
   ],
   "source": [
    "pred = clf_tuned.best_estimator_.predict(X_test_normal)\n",
    "print(classification_report(y_test, pred))"
   ]
  },
  {
   "cell_type": "markdown",
   "metadata": {},
   "source": [
    "#### Feature Importance"
   ]
  },
  {
   "cell_type": "markdown",
   "metadata": {},
   "source": [
    "##### Permutation Importance"
   ]
  },
  {
   "cell_type": "code",
   "execution_count": 15,
   "metadata": {},
   "outputs": [
    {
     "name": "stderr",
     "output_type": "stream",
     "text": [
      "A worker stopped while some jobs were given to the executor. This can be caused by a too short worker timeout or by a memory leak.\n"
     ]
    }
   ],
   "source": [
    "feature_names = X_train_normal.columns\n",
    "\n",
    "result = permutation_importance(\n",
    "    clf_tuned.best_estimator_, X_test_normal, y_test, n_repeats=10, n_jobs=-1, random_state=random_state\n",
    ")\n",
    "\n",
    "forest_importances = pd.Series(result.importances_mean, index=feature_names)"
   ]
  },
  {
   "cell_type": "code",
   "execution_count": 16,
   "metadata": {},
   "outputs": [
    {
     "data": {
      "image/png": "[encoded data removed]",
      "text/plain": [
       "<Figure size 1080x720 with 1 Axes>"
      ]
     },
     "metadata": {},
     "output_type": "display_data"
    }
   ],
   "source": [
    "fig, ax = plt.subplots(figsize=(15, 10))\n",
    "forest_importances.plot.bar(yerr=result.importances_std, ax=ax)\n",
    "ax.set_title(\"Feature importances using permutation on full model\")\n",
    "ax.set_ylabel(\"Mean accuracy decrease\")\n",
    "fig.tight_layout()\n",
    "plt.show()"
   ]
  },
  {
   "cell_type": "markdown",
   "metadata": {},
   "source": [
    "##### Synergy and Redundance"
   ]
  },
  {
   "cell_type": "code",
   "execution_count": 19,
   "metadata": {},
   "outputs": [
    {
     "ename": "ImportError",
     "evalue": "cannot import name 'LearnerRanker' from 'facet.selection' (/opt/anaconda3/envs/ml/lib/python3.8/site-packages/facet/selection/__init__.py)",
     "output_type": "error",
     "traceback": [
      "\u001b[0;31m---------------------------------------------------------------------------\u001b[0m",
      "\u001b[0;31mImportError\u001b[0m                               Traceback (most recent call last)",
      "\u001b[1;32m/Users/josebarretto/Documents/FTD/FTD/Applied ML/main.ipynb Cell 28'\u001b[0m in \u001b[0;36m<cell line: 2>\u001b[0;34m()\u001b[0m\n\u001b[1;32m      <a href='vscode-notebook-cell:/Users/josebarretto/Documents/FTD/FTD/Applied%20ML/main.ipynb#ch0000034?line=0'>1</a>\u001b[0m \u001b[39m# fit the model inspector\u001b[39;00m\n\u001b[0;32m----> <a href='vscode-notebook-cell:/Users/josebarretto/Documents/FTD/FTD/Applied%20ML/main.ipynb#ch0000034?line=1'>2</a>\u001b[0m \u001b[39mfrom\u001b[39;00m \u001b[39mfacet\u001b[39;00m\u001b[39m.\u001b[39;00m\u001b[39mselection\u001b[39;00m \u001b[39mimport\u001b[39;00m LearnerRanker, LearnerGrid\n\u001b[1;32m      <a href='vscode-notebook-cell:/Users/josebarretto/Documents/FTD/FTD/Applied%20ML/main.ipynb#ch0000034?line=2'>3</a>\u001b[0m \u001b[39mfrom\u001b[39;00m \u001b[39mfacet\u001b[39;00m\u001b[39m.\u001b[39;00m\u001b[39minspection\u001b[39;00m \u001b[39mimport\u001b[39;00m LearnerInspector\n\u001b[1;32m      <a href='vscode-notebook-cell:/Users/josebarretto/Documents/FTD/FTD/Applied%20ML/main.ipynb#ch0000034?line=3'>4</a>\u001b[0m inspector \u001b[39m=\u001b[39m LearnerInspector(n_jobs\u001b[39m=\u001b[39m\u001b[39m-\u001b[39m\u001b[39m3\u001b[39m)\n",
      "\u001b[0;31mImportError\u001b[0m: cannot import name 'LearnerRanker' from 'facet.selection' (/opt/anaconda3/envs/ml/lib/python3.8/site-packages/facet/selection/__init__.py)"
     ]
    }
   ],
   "source": [
    "# fit the model inspector\n",
    "from facet.selection import LearnerRanker, LearnerGrid\n",
    "from facet.inspection import LearnerInspector\n",
    "inspector = LearnerInspector(n_jobs=-3)\n",
    "inspector.fit(crossfit=ranker.best_model_crossfit_)"
   ]
  },
  {
   "cell_type": "code",
   "execution_count": null,
   "metadata": {},
   "outputs": [],
   "source": [
    "# visualise synergy as a matrix\n",
    "from pytools.viz.matrix import MatrixDrawer\n",
    "synergy_matrix = inspector.feature_synergy_matrix()\n",
    "MatrixDrawer(style=\"matplot%\").draw(synergy_matrix, title=\"Synergy Matrix\")"
   ]
  },
  {
   "cell_type": "code",
   "execution_count": 24,
   "metadata": {},
   "outputs": [
    {
     "name": "stdout",
     "output_type": "stream",
     "text": [
      "Package                       Version\n",
      "----------------------------- ---------\n",
      "appnope                       0.1.3\n",
      "argon2-cffi                   20.1.0\n",
      "asttokens                     2.0.5\n",
      "attrs                         21.4.0\n",
      "backcall                      0.2.0\n",
      "backports.functools-lru-cache 1.6.4\n",
      "beautifulsoup4                4.11.1\n",
      "bleach                        4.1.0\n",
      "Boruta                        0.3\n",
      "certifi                       2021.10.8\n",
      "cffi                          1.15.0\n",
      "cloudpickle                   2.0.0\n",
      "colorama                      0.4.4\n",
      "cycler                        0.11.0\n",
      "debugpy                       1.5.1\n",
      "decorator                     5.1.1\n",
      "defusedxml                    0.7.1\n",
      "entrypoints                   0.4\n",
      "executing                     0.8.3\n",
      "fastjsonschema                2.15.1\n",
      "fonttools                     4.25.0\n",
      "gamma-facet                   2.0.dev1\n",
      "gamma-pytools                 2.0.dev8\n",
      "importlib-resources           5.2.0\n",
      "ipykernel                     6.13.0\n",
      "ipython                       8.2.0\n",
      "ipython-genutils              0.2.0\n",
      "ipywidgets                    7.6.5\n",
      "jedi                          0.18.1\n",
      "Jinja2                        3.0.3\n",
      "joblib                        1.1.0\n",
      "jsonschema                    4.4.0\n",
      "jupyter                       1.0.0\n",
      "jupyter-client                7.2.2\n",
      "jupyter-console               6.4.3\n",
      "jupyter-core                  4.9.2\n",
      "jupyterlab-pygments           0.1.2\n",
      "jupyterlab-widgets            1.0.0\n",
      "kiwisolver                    1.3.2\n",
      "llvmlite                      0.38.0\n",
      "MarkupSafe                    2.0.1\n",
      "matplotlib                    3.4.3\n",
      "matplotlib-inline             0.1.3\n",
      "mistune                       0.8.4\n",
      "munkres                       1.1.4\n",
      "mypy-extensions               0.4.3\n",
      "nbclient                      0.5.13\n",
      "nbconvert                     6.4.4\n",
      "nbformat                      5.3.0\n",
      "nest-asyncio                  1.5.5\n",
      "notebook                      6.4.8\n",
      "numba                         0.55.1\n",
      "numpy                         1.20.3\n",
      "packaging                     21.3\n",
      "pandas                        1.4.1\n",
      "pandocfilters                 1.5.0\n",
      "parso                         0.8.3\n",
      "pexpect                       4.8.0\n",
      "pickleshare                   0.7.5\n",
      "Pillow                        9.0.1\n",
      "pip                           21.2.4\n",
      "prometheus-client             0.13.1\n",
      "prompt-toolkit                3.0.20\n",
      "psutil                        5.9.0\n",
      "ptyprocess                    0.7.0\n",
      "pure-eval                     0.2.2\n",
      "pycparser                     2.21\n",
      "Pygments                      2.11.2\n",
      "pyparsing                     3.0.8\n",
      "pyrsistent                    0.18.0\n",
      "python-dateutil               2.8.2\n",
      "pytz                          2022.1\n",
      "pyzmq                         22.3.0\n",
      "qtconsole                     5.3.0\n",
      "QtPy                          2.0.1\n",
      "scikit-learn                  1.0.2\n",
      "scipy                         1.8.0\n",
      "seaborn                       0.11.2\n",
      "Send2Trash                    1.8.0\n",
      "setuptools                    61.2.0\n",
      "shap                          0.40.0\n",
      "six                           1.16.0\n",
      "sklearndf                     2.0.dev3\n",
      "slicer                        0.0.7\n",
      "soupsieve                     2.3.1\n",
      "stack-data                    0.2.0\n",
      "terminado                     0.13.1\n",
      "testpath                      0.5.0\n",
      "threadpoolctl                 3.1.0\n",
      "tornado                       6.1\n",
      "tqdm                          4.64.0\n",
      "traitlets                     5.1.1\n",
      "typing_extensions             4.2.0\n",
      "typing-inspect                0.7.1\n",
      "wcwidth                       0.2.5\n",
      "webencodings                  0.5.1\n",
      "wheel                         0.37.1\n",
      "widgetsnbextension            3.5.2\n",
      "zipp                          3.7.0\n"
     ]
    }
   ],
   "source": [
    "!pip list"
   ]
  }
 ],
 "metadata": {
  "interpreter": {
   "hash": "30f29e61a2d73c2e554431b8182b4498d12c3b46a18a17a405eb97c1abf872bc"
  },
  "kernelspec": {
   "display_name": "Python 3.9.4 ('venv': venv)",
   "language": "python",
   "name": "python3"
  },
  "language_info": {
   "codemirror_mode": {
    "name": "ipython",
    "version": 3
   },
   "file_extension": ".py",
   "mimetype": "text/x-python",
   "name": "python",
   "nbconvert_exporter": "python",
   "pygments_lexer": "ipython3",
   "version": "3.9.7"
  },
  "orig_nbformat": 4
 },
 "nbformat": 4,
 "nbformat_minor": 2
}
