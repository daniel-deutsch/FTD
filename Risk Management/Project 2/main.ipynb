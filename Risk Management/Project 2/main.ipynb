{
 "cells": [
  {
   "cell_type": "markdown",
   "metadata": {},
   "source": [
    "# Bonds Project\n",
    "\n",
    "*By Daniel Deutsch and José Lucas Barretto*"
   ]
  },
  {
   "cell_type": "code",
   "execution_count": 32,
   "metadata": {},
   "outputs": [],
   "source": [
    "import matplotlib.pyplot as plt\n",
    "import pandas as pd\n",
    "import numpy as np"
   ]
  },
  {
   "cell_type": "code",
   "execution_count": 2,
   "metadata": {},
   "outputs": [],
   "source": [
    "# Matplotlib style\n",
    "plt.style.use('ggplot')\n",
    "plt.rcParams.update({\n",
    "    'figure.figsize': (15, 7),\n",
    "    'axes.prop_cycle': plt.cycler(color=['#4C72B0', '#C44E52', '#55A868', '#8172B2', '#CCB974', '#64B5CD']),\n",
    "    'axes.facecolor': '#EAEAF2'\n",
    "})"
   ]
  },
  {
   "cell_type": "markdown",
   "metadata": {},
   "source": [
    "# Question 1"
   ]
  },
  {
   "cell_type": "markdown",
   "metadata": {},
   "source": [
    "A bond is a fixed income security that represents a loan made by an investor to a borrower. A bond can be issued by governmental or corporate institutions to finance their operations. Investors that buy bonds are lending money to the bond issuer, and, in return, they receive a fixed interest (or coupons) for their investment.\n",
    "\n",
    "Bonds are issued with a given price, and pay back a given face-value at the date of maturity, as well as coupon rates (interest) on the given coupon dates.\n",
    "\n",
    "Because bonds are fixed income instruments, their price is closely related to interest rates. Moreover, bond prices vary inversely with interest rates. This happens because if interest rates move up, investors will prefer buying newly issued bonds that pay more interest, hence drawing down the price of bonds that pay less interest. The contrary example is also true."
   ]
  },
  {
   "cell_type": "markdown",
   "metadata": {},
   "source": [
    "# Question 2"
   ]
  },
  {
   "cell_type": "markdown",
   "metadata": {},
   "source": [
    "Once we accessed the [European Central Bank Website](https://drive.google.com/drive/u/0/folders/1SSQgOKYpzfZC_0HwGrV7tfcd9-6u5r8k) we selected the date Jan 4th 2010 for AAA rated bonds. This parameter selection provided us the following spot yields (for maturities 0.5m, 1y, 1.5y, ..., 5y):"
   ]
  },
  {
   "cell_type": "code",
   "execution_count": 3,
   "metadata": {},
   "outputs": [
    {
     "data": {
      "text/html": [
       "<div>\n",
       "<style scoped>\n",
       "    .dataframe tbody tr th:only-of-type {\n",
       "        vertical-align: middle;\n",
       "    }\n",
       "\n",
       "    .dataframe tbody tr th {\n",
       "        vertical-align: top;\n",
       "    }\n",
       "\n",
       "    .dataframe thead th {\n",
       "        text-align: right;\n",
       "    }\n",
       "</style>\n",
       "<table border=\"1\" class=\"dataframe\">\n",
       "  <thead>\n",
       "    <tr style=\"text-align: right;\">\n",
       "      <th></th>\n",
       "      <th>maturity</th>\n",
       "      <th>spot_rate</th>\n",
       "    </tr>\n",
       "  </thead>\n",
       "  <tbody>\n",
       "    <tr>\n",
       "      <th>0</th>\n",
       "      <td>0.5</td>\n",
       "      <td>0.00490</td>\n",
       "    </tr>\n",
       "    <tr>\n",
       "      <th>1</th>\n",
       "      <td>1.0</td>\n",
       "      <td>0.00833</td>\n",
       "    </tr>\n",
       "    <tr>\n",
       "      <th>2</th>\n",
       "      <td>1.5</td>\n",
       "      <td>0.01159</td>\n",
       "    </tr>\n",
       "    <tr>\n",
       "      <th>3</th>\n",
       "      <td>2.0</td>\n",
       "      <td>0.01446</td>\n",
       "    </tr>\n",
       "    <tr>\n",
       "      <th>4</th>\n",
       "      <td>2.5</td>\n",
       "      <td>0.01702</td>\n",
       "    </tr>\n",
       "    <tr>\n",
       "      <th>5</th>\n",
       "      <td>3.0</td>\n",
       "      <td>0.01933</td>\n",
       "    </tr>\n",
       "    <tr>\n",
       "      <th>6</th>\n",
       "      <td>3.5</td>\n",
       "      <td>0.02145</td>\n",
       "    </tr>\n",
       "    <tr>\n",
       "      <th>7</th>\n",
       "      <td>4.0</td>\n",
       "      <td>0.02339</td>\n",
       "    </tr>\n",
       "    <tr>\n",
       "      <th>8</th>\n",
       "      <td>4.5</td>\n",
       "      <td>0.02518</td>\n",
       "    </tr>\n",
       "    <tr>\n",
       "      <th>9</th>\n",
       "      <td>5.0</td>\n",
       "      <td>0.02683</td>\n",
       "    </tr>\n",
       "  </tbody>\n",
       "</table>\n",
       "</div>"
      ],
      "text/plain": [
       "   maturity  spot_rate\n",
       "0       0.5    0.00490\n",
       "1       1.0    0.00833\n",
       "2       1.5    0.01159\n",
       "3       2.0    0.01446\n",
       "4       2.5    0.01702\n",
       "5       3.0    0.01933\n",
       "6       3.5    0.02145\n",
       "7       4.0    0.02339\n",
       "8       4.5    0.02518\n",
       "9       5.0    0.02683"
      ]
     },
     "execution_count": 3,
     "metadata": {},
     "output_type": "execute_result"
    }
   ],
   "source": [
    "# Defines parameters\n",
    "n = 5     # Number of years \n",
    "m = 2     # Number of payment periods in a year (2 because its semi-annual payments)\n",
    "M = 100   # Par value (100$ According to the European Central Bank Website)\n",
    "\n",
    "# Obtains the spot yields from the European Central Bank Website\n",
    "df = pd.DataFrame([\n",
    "    (0.5, 0.00490),\n",
    "    (1, 0.00833),\n",
    "    (1.5, 0.01159),\n",
    "    (2, 0.01446),\n",
    "    (2.5, 0.01702),\n",
    "    (3, 0.01933),\n",
    "    (3.5, 0.02145),\n",
    "    (4, 0.02339),\n",
    "    (4.5, 0.02518),\n",
    "    (5, 0.02683),\n",
    "], columns=['maturity', 'spot_rate'])\n",
    "\n",
    "df"
   ]
  },
  {
   "cell_type": "markdown",
   "metadata": {},
   "source": [
    "# Question 3"
   ]
  },
  {
   "cell_type": "markdown",
   "metadata": {},
   "source": [
    "The spot rate represents the yield to maturity of a hypothetical zero-coupon bond. In other words, the spot rate represents the interest rate at which future returns are discounted in order to estimate their present value. These values are not always observable in the market, and must therefore be estimated from existing zero coupon bonds and fixed coupon bond prices or yields. It can be obtained through the following:\n",
    "\n",
    "\\begin{align*}\n",
    "    y & = m \\left[\\left(\\frac{M}{P}\\right)^{\\frac{1}{m*n}}-1\\right]\n",
    "\\end{align*}\n",
    "\n",
    "Therefore, the price $P$ of the STRIPS can be obtained through:\n",
    "\n",
    "\\begin{align*}\n",
    "    P & = \\frac{M}{\\left(1 + \\frac{y}{m}\\right)^{m*n}}\n",
    "\\end{align*}"
   ]
  },
  {
   "cell_type": "code",
   "execution_count": 4,
   "metadata": {},
   "outputs": [
    {
     "data": {
      "text/html": [
       "<div>\n",
       "<style scoped>\n",
       "    .dataframe tbody tr th:only-of-type {\n",
       "        vertical-align: middle;\n",
       "    }\n",
       "\n",
       "    .dataframe tbody tr th {\n",
       "        vertical-align: top;\n",
       "    }\n",
       "\n",
       "    .dataframe thead th {\n",
       "        text-align: right;\n",
       "    }\n",
       "</style>\n",
       "<table border=\"1\" class=\"dataframe\">\n",
       "  <thead>\n",
       "    <tr style=\"text-align: right;\">\n",
       "      <th></th>\n",
       "      <th>maturity</th>\n",
       "      <th>spot_rate</th>\n",
       "      <th>strip</th>\n",
       "    </tr>\n",
       "  </thead>\n",
       "  <tbody>\n",
       "    <tr>\n",
       "      <th>0</th>\n",
       "      <td>0.5</td>\n",
       "      <td>0.00490</td>\n",
       "      <td>97.582693</td>\n",
       "    </tr>\n",
       "    <tr>\n",
       "      <th>1</th>\n",
       "      <td>1.0</td>\n",
       "      <td>0.00833</td>\n",
       "      <td>95.928841</td>\n",
       "    </tr>\n",
       "    <tr>\n",
       "      <th>2</th>\n",
       "      <td>1.5</td>\n",
       "      <td>0.01159</td>\n",
       "      <td>94.385499</td>\n",
       "    </tr>\n",
       "    <tr>\n",
       "      <th>3</th>\n",
       "      <td>2.0</td>\n",
       "      <td>0.01446</td>\n",
       "      <td>93.049378</td>\n",
       "    </tr>\n",
       "    <tr>\n",
       "      <th>4</th>\n",
       "      <td>2.5</td>\n",
       "      <td>0.01702</td>\n",
       "      <td>91.875118</td>\n",
       "    </tr>\n",
       "    <tr>\n",
       "      <th>5</th>\n",
       "      <td>3.0</td>\n",
       "      <td>0.01933</td>\n",
       "      <td>90.829512</td>\n",
       "    </tr>\n",
       "    <tr>\n",
       "      <th>6</th>\n",
       "      <td>3.5</td>\n",
       "      <td>0.02145</td>\n",
       "      <td>89.881419</td>\n",
       "    </tr>\n",
       "    <tr>\n",
       "      <th>7</th>\n",
       "      <td>4.0</td>\n",
       "      <td>0.02339</td>\n",
       "      <td>89.023356</td>\n",
       "    </tr>\n",
       "    <tr>\n",
       "      <th>8</th>\n",
       "      <td>4.5</td>\n",
       "      <td>0.02518</td>\n",
       "      <td>88.239626</td>\n",
       "    </tr>\n",
       "    <tr>\n",
       "      <th>9</th>\n",
       "      <td>5.0</td>\n",
       "      <td>0.02683</td>\n",
       "      <td>87.523911</td>\n",
       "    </tr>\n",
       "  </tbody>\n",
       "</table>\n",
       "</div>"
      ],
      "text/plain": [
       "   maturity  spot_rate      strip\n",
       "0       0.5    0.00490  97.582693\n",
       "1       1.0    0.00833  95.928841\n",
       "2       1.5    0.01159  94.385499\n",
       "3       2.0    0.01446  93.049378\n",
       "4       2.5    0.01702  91.875118\n",
       "5       3.0    0.01933  90.829512\n",
       "6       3.5    0.02145  89.881419\n",
       "7       4.0    0.02339  89.023356\n",
       "8       4.5    0.02518  88.239626\n",
       "9       5.0    0.02683  87.523911"
      ]
     },
     "execution_count": 4,
     "metadata": {},
     "output_type": "execute_result"
    }
   ],
   "source": [
    "# Calculates the STRIP for each spot rate\n",
    "df['strip'] = M / (1 + df['spot_rate'] / m)**(m*n)\n",
    "\n",
    "df"
   ]
  },
  {
   "cell_type": "markdown",
   "metadata": {},
   "source": [
    "We can observe from the print above that the STRIPs are below the par value, which is a direct result from the inverse relationship between the interest rate (spot rate) and the bond price (STRIP). In other words, when interest rates rise, bond prices fall, which means that it is being traded at a discount. Consequently, when interest rates fall, bond prices rise, which means that it is being traded at a premium."
   ]
  },
  {
   "cell_type": "markdown",
   "metadata": {},
   "source": [
    "# Question 4"
   ]
  },
  {
   "cell_type": "markdown",
   "metadata": {},
   "source": [
    "\\begin{align*}\n",
    "    f(t) & = m * \\left(-1 + \\frac{\\left(1+\\frac{s_t}{m}\\right)^{l_{s_t}}}{\\left(1+\\frac{s_{t-1}}{m}\\right)^{l_{s_{t-1}}}}\\right)\n",
    "\\end{align*}"
   ]
  },
  {
   "cell_type": "code",
   "execution_count": 40,
   "metadata": {},
   "outputs": [
    {
     "data": {
      "text/html": [
       "<div>\n",
       "<style scoped>\n",
       "    .dataframe tbody tr th:only-of-type {\n",
       "        vertical-align: middle;\n",
       "    }\n",
       "\n",
       "    .dataframe tbody tr th {\n",
       "        vertical-align: top;\n",
       "    }\n",
       "\n",
       "    .dataframe thead th {\n",
       "        text-align: right;\n",
       "    }\n",
       "</style>\n",
       "<table border=\"1\" class=\"dataframe\">\n",
       "  <thead>\n",
       "    <tr style=\"text-align: right;\">\n",
       "      <th></th>\n",
       "      <th>maturity</th>\n",
       "      <th>spot_rate</th>\n",
       "      <th>strip</th>\n",
       "      <th>l</th>\n",
       "      <th>forward_rate</th>\n",
       "    </tr>\n",
       "  </thead>\n",
       "  <tbody>\n",
       "    <tr>\n",
       "      <th>0</th>\n",
       "      <td>0.5</td>\n",
       "      <td>0.00490</td>\n",
       "      <td>97.582693</td>\n",
       "      <td>1.0</td>\n",
       "      <td>NaN</td>\n",
       "    </tr>\n",
       "    <tr>\n",
       "      <th>1</th>\n",
       "      <td>1.0</td>\n",
       "      <td>0.00833</td>\n",
       "      <td>95.928841</td>\n",
       "      <td>2.0</td>\n",
       "      <td>0.000091</td>\n",
       "    </tr>\n",
       "    <tr>\n",
       "      <th>2</th>\n",
       "      <td>1.5</td>\n",
       "      <td>0.01159</td>\n",
       "      <td>94.385499</td>\n",
       "      <td>3.0</td>\n",
       "      <td>0.000194</td>\n",
       "    </tr>\n",
       "    <tr>\n",
       "      <th>3</th>\n",
       "      <td>2.0</td>\n",
       "      <td>0.01446</td>\n",
       "      <td>93.049378</td>\n",
       "      <td>4.0</td>\n",
       "      <td>0.000298</td>\n",
       "    </tr>\n",
       "    <tr>\n",
       "      <th>4</th>\n",
       "      <td>2.5</td>\n",
       "      <td>0.01702</td>\n",
       "      <td>91.875118</td>\n",
       "      <td>5.0</td>\n",
       "      <td>0.000401</td>\n",
       "    </tr>\n",
       "    <tr>\n",
       "      <th>5</th>\n",
       "      <td>3.0</td>\n",
       "      <td>0.01933</td>\n",
       "      <td>90.829512</td>\n",
       "      <td>6.0</td>\n",
       "      <td>0.000500</td>\n",
       "    </tr>\n",
       "    <tr>\n",
       "      <th>6</th>\n",
       "      <td>3.5</td>\n",
       "      <td>0.02145</td>\n",
       "      <td>89.881419</td>\n",
       "      <td>7.0</td>\n",
       "      <td>0.000601</td>\n",
       "    </tr>\n",
       "    <tr>\n",
       "      <th>7</th>\n",
       "      <td>4.0</td>\n",
       "      <td>0.02339</td>\n",
       "      <td>89.023356</td>\n",
       "      <td>8.0</td>\n",
       "      <td>0.000690</td>\n",
       "    </tr>\n",
       "    <tr>\n",
       "      <th>8</th>\n",
       "      <td>4.5</td>\n",
       "      <td>0.02518</td>\n",
       "      <td>88.239626</td>\n",
       "      <td>9.0</td>\n",
       "      <td>0.000776</td>\n",
       "    </tr>\n",
       "    <tr>\n",
       "      <th>9</th>\n",
       "      <td>5.0</td>\n",
       "      <td>0.02683</td>\n",
       "      <td>87.523911</td>\n",
       "      <td>10.0</td>\n",
       "      <td>0.000850</td>\n",
       "    </tr>\n",
       "  </tbody>\n",
       "</table>\n",
       "</div>"
      ],
      "text/plain": [
       "   maturity  spot_rate      strip     l  forward_rate\n",
       "0       0.5    0.00490  97.582693   1.0           NaN\n",
       "1       1.0    0.00833  95.928841   2.0      0.000091\n",
       "2       1.5    0.01159  94.385499   3.0      0.000194\n",
       "3       2.0    0.01446  93.049378   4.0      0.000298\n",
       "4       2.5    0.01702  91.875118   5.0      0.000401\n",
       "5       3.0    0.01933  90.829512   6.0      0.000500\n",
       "6       3.5    0.02145  89.881419   7.0      0.000601\n",
       "7       4.0    0.02339  89.023356   8.0      0.000690\n",
       "8       4.5    0.02518  88.239626   9.0      0.000776\n",
       "9       5.0    0.02683  87.523911  10.0      0.000850"
      ]
     },
     "execution_count": 40,
     "metadata": {},
     "output_type": "execute_result"
    }
   ],
   "source": [
    "# Obtains the total number of periods for the respective spot rate\n",
    "df['l'] = 2*df['maturity']\n",
    "\n",
    "# Calculates the forward rate\n",
    "df['forward_rate'] = m * (-1 + ((1 + df['spot_rate']/m)**(df['l']*df['spot_rate'])) / ((1 + df['spot_rate'].shift()/m)**(df['l']*df['spot_rate'].shift())) )\n",
    "\n",
    "df"
   ]
  },
  {
   "cell_type": "code",
   "execution_count": 41,
   "metadata": {},
   "outputs": [
    {
     "data": {
      "image/png": "[encoded data removed]",
      "text/plain": [
       "<Figure size 1080x504 with 1 Axes>"
      ]
     },
     "metadata": {},
     "output_type": "display_data"
    }
   ],
   "source": [
    "# Plots the forward yield curve\n",
    "df['forward_rate'].plot()\n",
    "plt.title(\"Forward Yield Curve\")\n",
    "plt.ylabel(\"Forward Rate\")\n",
    "plt.xlabel(\"\")\n",
    "plt.show()"
   ]
  },
  {
   "cell_type": "markdown",
   "metadata": {},
   "source": [
    "# Question 5"
   ]
  },
  {
   "cell_type": "code",
   "execution_count": 61,
   "metadata": {},
   "outputs": [],
   "source": [
    "def price_bond(C, M, y, m, N):\n",
    "    \"\"\"\n",
    "    Price a bond using the present value formula.\n",
    "\n",
    "    Args:\n",
    "        C (float): coupon\n",
    "        M (float): principal amount\n",
    "        y (float): list with according discount rates\n",
    "        m (int): number of payment periods per year\n",
    "        N (int): maturity period\n",
    "\n",
    "    Returns:\n",
    "        float: present value of the bond\n",
    "    \"\"\"\n",
    "\n",
    "    P = 0\n",
    "    for i in range(N):\n",
    "        P += C/(np.prod([(1+y[j]/m) for j in range(i+1)]))\n",
    "\n",
    "        if i == N-1:\n",
    "            P += M/(np.prod([(1+y[j]/m) for j in range(i+1)]))\n",
    "\n",
    "    return P"
   ]
  },
  {
   "cell_type": "code",
   "execution_count": 62,
   "metadata": {},
   "outputs": [],
   "source": [
    "# Defines parameters\n",
    "N = 3 # Maturity period\n",
    "M = 1000 # Par value\n",
    "C = 0.04*M/2 # Coupon\n",
    "m = 2 # Number of payments per period"
   ]
  },
  {
   "cell_type": "code",
   "execution_count": 63,
   "metadata": {},
   "outputs": [
    {
     "data": {
      "text/plain": [
       "1047.2680912998192"
      ]
     },
     "execution_count": 63,
     "metadata": {},
     "output_type": "execute_result"
    }
   ],
   "source": [
    "# Price bonds using spot rates\n",
    "y = df['spot_rate'].to_list()[:5]\n",
    "price_bond(C, M, y, m, N)"
   ]
  },
  {
   "cell_type": "code",
   "execution_count": 64,
   "metadata": {},
   "outputs": [
    {
     "data": {
      "text/plain": [
       "1057.263655420717"
      ]
     },
     "execution_count": 64,
     "metadata": {},
     "output_type": "execute_result"
    }
   ],
   "source": [
    "# Price bonds using forward rates\n",
    "\n",
    "# Sets the first forward rate as the spot rate\n",
    "df['forward_rate'].iloc[0] = df['spot_rate'].iloc[0]\n",
    "\n",
    "y = df['forward_rate'].to_list()[:5]\n",
    "price_bond(C, M, y, m, N)"
   ]
  },
  {
   "cell_type": "code",
   "execution_count": 37,
   "metadata": {},
   "outputs": [
    {
     "data": {
      "text/html": [
       "<div>\n",
       "<style scoped>\n",
       "    .dataframe tbody tr th:only-of-type {\n",
       "        vertical-align: middle;\n",
       "    }\n",
       "\n",
       "    .dataframe tbody tr th {\n",
       "        vertical-align: top;\n",
       "    }\n",
       "\n",
       "    .dataframe thead th {\n",
       "        text-align: right;\n",
       "    }\n",
       "</style>\n",
       "<table border=\"1\" class=\"dataframe\">\n",
       "  <thead>\n",
       "    <tr style=\"text-align: right;\">\n",
       "      <th></th>\n",
       "      <th>maturity</th>\n",
       "      <th>spot_rate</th>\n",
       "      <th>strip</th>\n",
       "      <th>l</th>\n",
       "      <th>forward_rate</th>\n",
       "    </tr>\n",
       "  </thead>\n",
       "  <tbody>\n",
       "    <tr>\n",
       "      <th>0</th>\n",
       "      <td>0.5</td>\n",
       "      <td>0.00490</td>\n",
       "      <td>97.582693</td>\n",
       "      <td>1.0</td>\n",
       "      <td>NaN</td>\n",
       "    </tr>\n",
       "    <tr>\n",
       "      <th>1</th>\n",
       "      <td>1.0</td>\n",
       "      <td>0.00833</td>\n",
       "      <td>95.928841</td>\n",
       "      <td>2.0</td>\n",
       "      <td>0.000091</td>\n",
       "    </tr>\n",
       "    <tr>\n",
       "      <th>2</th>\n",
       "      <td>1.5</td>\n",
       "      <td>0.01159</td>\n",
       "      <td>94.385499</td>\n",
       "      <td>3.0</td>\n",
       "      <td>0.000194</td>\n",
       "    </tr>\n",
       "    <tr>\n",
       "      <th>3</th>\n",
       "      <td>2.0</td>\n",
       "      <td>0.01446</td>\n",
       "      <td>93.049378</td>\n",
       "      <td>4.0</td>\n",
       "      <td>0.000298</td>\n",
       "    </tr>\n",
       "    <tr>\n",
       "      <th>4</th>\n",
       "      <td>2.5</td>\n",
       "      <td>0.01702</td>\n",
       "      <td>91.875118</td>\n",
       "      <td>5.0</td>\n",
       "      <td>0.000401</td>\n",
       "    </tr>\n",
       "    <tr>\n",
       "      <th>5</th>\n",
       "      <td>3.0</td>\n",
       "      <td>0.01933</td>\n",
       "      <td>90.829512</td>\n",
       "      <td>6.0</td>\n",
       "      <td>0.000500</td>\n",
       "    </tr>\n",
       "    <tr>\n",
       "      <th>6</th>\n",
       "      <td>3.5</td>\n",
       "      <td>0.02145</td>\n",
       "      <td>89.881419</td>\n",
       "      <td>7.0</td>\n",
       "      <td>0.000601</td>\n",
       "    </tr>\n",
       "    <tr>\n",
       "      <th>7</th>\n",
       "      <td>4.0</td>\n",
       "      <td>0.02339</td>\n",
       "      <td>89.023356</td>\n",
       "      <td>8.0</td>\n",
       "      <td>0.000690</td>\n",
       "    </tr>\n",
       "    <tr>\n",
       "      <th>8</th>\n",
       "      <td>4.5</td>\n",
       "      <td>0.02518</td>\n",
       "      <td>88.239626</td>\n",
       "      <td>9.0</td>\n",
       "      <td>0.000776</td>\n",
       "    </tr>\n",
       "    <tr>\n",
       "      <th>9</th>\n",
       "      <td>5.0</td>\n",
       "      <td>0.02683</td>\n",
       "      <td>87.523911</td>\n",
       "      <td>10.0</td>\n",
       "      <td>0.000850</td>\n",
       "    </tr>\n",
       "  </tbody>\n",
       "</table>\n",
       "</div>"
      ],
      "text/plain": [
       "   maturity  spot_rate      strip     l  forward_rate\n",
       "0       0.5    0.00490  97.582693   1.0           NaN\n",
       "1       1.0    0.00833  95.928841   2.0      0.000091\n",
       "2       1.5    0.01159  94.385499   3.0      0.000194\n",
       "3       2.0    0.01446  93.049378   4.0      0.000298\n",
       "4       2.5    0.01702  91.875118   5.0      0.000401\n",
       "5       3.0    0.01933  90.829512   6.0      0.000500\n",
       "6       3.5    0.02145  89.881419   7.0      0.000601\n",
       "7       4.0    0.02339  89.023356   8.0      0.000690\n",
       "8       4.5    0.02518  88.239626   9.0      0.000776\n",
       "9       5.0    0.02683  87.523911  10.0      0.000850"
      ]
     },
     "execution_count": 37,
     "metadata": {},
     "output_type": "execute_result"
    }
   ],
   "source": [
    "df"
   ]
  },
  {
   "cell_type": "markdown",
   "metadata": {},
   "source": [
    "# Question 6"
   ]
  },
  {
   "cell_type": "code",
   "execution_count": null,
   "metadata": {},
   "outputs": [],
   "source": []
  },
  {
   "cell_type": "markdown",
   "metadata": {},
   "source": [
    "# Question 7"
   ]
  },
  {
   "cell_type": "markdown",
   "metadata": {},
   "source": []
  }
 ],
 "metadata": {
  "interpreter": {
   "hash": "6f82866c063b4d5ead29fa5e2e374cc7387d19df5719ddc581568ad6a37cbe2c"
  },
  "kernelspec": {
   "display_name": "Python 3.9.4 ('venv': venv)",
   "language": "python",
   "name": "python3"
  },
  "language_info": {
   "codemirror_mode": {
    "name": "ipython",
    "version": 3
   },
   "file_extension": ".py",
   "mimetype": "text/x-python",
   "name": "python",
   "nbconvert_exporter": "python",
   "pygments_lexer": "ipython3",
   "version": "3.9.7"
  },
  "orig_nbformat": 4
 },
 "nbformat": 4,
 "nbformat_minor": 2
}
