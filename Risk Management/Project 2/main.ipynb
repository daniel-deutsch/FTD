{
 "cells": [
  {
   "cell_type": "markdown",
   "metadata": {},
   "source": [
    "# Bonds Project\n",
    "\n",
    "*By Daniel Deutsch and José Lucas Barretto*"
   ]
  },
  {
   "cell_type": "code",
   "execution_count": 24,
   "metadata": {},
   "outputs": [],
   "source": [
    "import matplotlib.pyplot as plt\n",
    "import numpy as np\n",
    "import pandas as pd\n",
    "from sympy import Eq, solve, symbols"
   ]
  },
  {
   "cell_type": "code",
   "execution_count": 2,
   "metadata": {},
   "outputs": [],
   "source": [
    "# Matplotlib style\n",
    "plt.style.use('ggplot')\n",
    "plt.rcParams.update({\n",
    "    'figure.figsize': (15, 7),\n",
    "    'axes.prop_cycle': plt.cycler(color=['#4C72B0', '#C44E52', '#55A868', '#8172B2', '#CCB974', '#64B5CD']),\n",
    "    'axes.facecolor': '#EAEAF2'\n",
    "})"
   ]
  },
  {
   "cell_type": "markdown",
   "metadata": {},
   "source": [
    "# Question 1"
   ]
  },
  {
   "cell_type": "markdown",
   "metadata": {},
   "source": [
    "A bond is a fixed income security that represents a loan made by an investor to a borrower. A bond can be issued by governmental or corporate institutions to finance their operations. Investors that buy bonds are lending money to the bond issuer, and, in return, they receive a fixed interest (or coupons) for their investment.\n",
    "\n",
    "Bonds are issued with a given price, and pay back a given face-value at the date of maturity, as well as coupon rates (interest) on the given coupon dates.\n",
    "\n",
    "Because bonds are fixed income instruments, their price is closely related to interest rates. Moreover, bond prices vary inversely with interest rates. This happens because if interest rates move up, investors will prefer buying newly issued bonds that pay more interest, hence drawing down the price of bonds that pay less interest. The contrary example is also true."
   ]
  },
  {
   "cell_type": "markdown",
   "metadata": {},
   "source": [
    "# Question 2"
   ]
  },
  {
   "cell_type": "markdown",
   "metadata": {},
   "source": [
    "Once we accessed the [European Central Bank Website](https://drive.google.com/drive/u/0/folders/1SSQgOKYpzfZC_0HwGrV7tfcd9-6u5r8k) we selected the date Jan 4th 2010 for AAA rated bonds. This parameter selection provided us the following spot yields (for maturities 0.5m, 1y, 1.5y, ..., 5y):"
   ]
  },
  {
   "cell_type": "code",
   "execution_count": 3,
   "metadata": {},
   "outputs": [
    {
     "data": {
      "text/html": [
       "<div>\n",
       "<style scoped>\n",
       "    .dataframe tbody tr th:only-of-type {\n",
       "        vertical-align: middle;\n",
       "    }\n",
       "\n",
       "    .dataframe tbody tr th {\n",
       "        vertical-align: top;\n",
       "    }\n",
       "\n",
       "    .dataframe thead th {\n",
       "        text-align: right;\n",
       "    }\n",
       "</style>\n",
       "<table border=\"1\" class=\"dataframe\">\n",
       "  <thead>\n",
       "    <tr style=\"text-align: right;\">\n",
       "      <th></th>\n",
       "      <th>maturity</th>\n",
       "      <th>spot_rate</th>\n",
       "    </tr>\n",
       "  </thead>\n",
       "  <tbody>\n",
       "    <tr>\n",
       "      <th>0</th>\n",
       "      <td>0.5</td>\n",
       "      <td>0.00490</td>\n",
       "    </tr>\n",
       "    <tr>\n",
       "      <th>1</th>\n",
       "      <td>1.0</td>\n",
       "      <td>0.00833</td>\n",
       "    </tr>\n",
       "    <tr>\n",
       "      <th>2</th>\n",
       "      <td>1.5</td>\n",
       "      <td>0.01159</td>\n",
       "    </tr>\n",
       "    <tr>\n",
       "      <th>3</th>\n",
       "      <td>2.0</td>\n",
       "      <td>0.01446</td>\n",
       "    </tr>\n",
       "    <tr>\n",
       "      <th>4</th>\n",
       "      <td>2.5</td>\n",
       "      <td>0.01702</td>\n",
       "    </tr>\n",
       "    <tr>\n",
       "      <th>5</th>\n",
       "      <td>3.0</td>\n",
       "      <td>0.01933</td>\n",
       "    </tr>\n",
       "    <tr>\n",
       "      <th>6</th>\n",
       "      <td>3.5</td>\n",
       "      <td>0.02145</td>\n",
       "    </tr>\n",
       "    <tr>\n",
       "      <th>7</th>\n",
       "      <td>4.0</td>\n",
       "      <td>0.02339</td>\n",
       "    </tr>\n",
       "    <tr>\n",
       "      <th>8</th>\n",
       "      <td>4.5</td>\n",
       "      <td>0.02518</td>\n",
       "    </tr>\n",
       "    <tr>\n",
       "      <th>9</th>\n",
       "      <td>5.0</td>\n",
       "      <td>0.02683</td>\n",
       "    </tr>\n",
       "  </tbody>\n",
       "</table>\n",
       "</div>"
      ],
      "text/plain": [
       "   maturity  spot_rate\n",
       "0       0.5    0.00490\n",
       "1       1.0    0.00833\n",
       "2       1.5    0.01159\n",
       "3       2.0    0.01446\n",
       "4       2.5    0.01702\n",
       "5       3.0    0.01933\n",
       "6       3.5    0.02145\n",
       "7       4.0    0.02339\n",
       "8       4.5    0.02518\n",
       "9       5.0    0.02683"
      ]
     },
     "execution_count": 3,
     "metadata": {},
     "output_type": "execute_result"
    }
   ],
   "source": [
    "# Defines parameters\n",
    "n = 5     # Number of years \n",
    "m = 2     # Number of payment periods in a year (2 because its semi-annual payments)\n",
    "M = 100   # Par value (100$ According to the European Central Bank Website)\n",
    "\n",
    "# Obtains the spot yields from the European Central Bank Website\n",
    "df = pd.DataFrame([\n",
    "    { 'maturity': 0.5, 'spot_rate': 0.00490 },\n",
    "    { 'maturity': 1, 'spot_rate': 0.00833 },\n",
    "    { 'maturity': 1.5, 'spot_rate': 0.01159 },\n",
    "    { 'maturity': 2, 'spot_rate': 0.01446 },\n",
    "    { 'maturity': 2.5, 'spot_rate': 0.01702 },\n",
    "    { 'maturity': 3, 'spot_rate': 0.01933 },\n",
    "    { 'maturity': 3.5, 'spot_rate': 0.02145 },\n",
    "    { 'maturity': 4, 'spot_rate': 0.02339 },\n",
    "    { 'maturity': 4.5, 'spot_rate': 0.02518 },\n",
    "    { 'maturity': 5, 'spot_rate': 0.02683 },\n",
    "])\n",
    "\n",
    "df"
   ]
  },
  {
   "cell_type": "markdown",
   "metadata": {},
   "source": [
    "# Question 3"
   ]
  },
  {
   "cell_type": "markdown",
   "metadata": {},
   "source": [
    "The spot rate represents the yield to maturity of a hypothetical zero-coupon bond. In other words, the spot rate represents the interest rate at which future returns are discounted in order to estimate their present value. These values are not always observable in the market, and must therefore be estimated from existing zero coupon bonds and fixed coupon bond prices or yields. It can be obtained through the following:\n",
    "\n",
    "\\begin{align*}\n",
    "    y & = m \\left[\\left(\\frac{M}{P}\\right)^{\\frac{1}{m*n}}-1\\right]\n",
    "\\end{align*}\n",
    "\n",
    "Therefore, the price $P$ of the STRIPS can be obtained through:\n",
    "\n",
    "\\begin{align*}\n",
    "    P & = \\frac{M}{\\left(1 + \\frac{y}{m}\\right)^{m*n}}\n",
    "\\end{align*}"
   ]
  },
  {
   "cell_type": "code",
   "execution_count": 4,
   "metadata": {},
   "outputs": [
    {
     "data": {
      "text/html": [
       "<div>\n",
       "<style scoped>\n",
       "    .dataframe tbody tr th:only-of-type {\n",
       "        vertical-align: middle;\n",
       "    }\n",
       "\n",
       "    .dataframe tbody tr th {\n",
       "        vertical-align: top;\n",
       "    }\n",
       "\n",
       "    .dataframe thead th {\n",
       "        text-align: right;\n",
       "    }\n",
       "</style>\n",
       "<table border=\"1\" class=\"dataframe\">\n",
       "  <thead>\n",
       "    <tr style=\"text-align: right;\">\n",
       "      <th></th>\n",
       "      <th>maturity</th>\n",
       "      <th>spot_rate</th>\n",
       "      <th>strip</th>\n",
       "    </tr>\n",
       "  </thead>\n",
       "  <tbody>\n",
       "    <tr>\n",
       "      <th>0</th>\n",
       "      <td>0.5</td>\n",
       "      <td>0.00490</td>\n",
       "      <td>97.582693</td>\n",
       "    </tr>\n",
       "    <tr>\n",
       "      <th>1</th>\n",
       "      <td>1.0</td>\n",
       "      <td>0.00833</td>\n",
       "      <td>95.928841</td>\n",
       "    </tr>\n",
       "    <tr>\n",
       "      <th>2</th>\n",
       "      <td>1.5</td>\n",
       "      <td>0.01159</td>\n",
       "      <td>94.385499</td>\n",
       "    </tr>\n",
       "    <tr>\n",
       "      <th>3</th>\n",
       "      <td>2.0</td>\n",
       "      <td>0.01446</td>\n",
       "      <td>93.049378</td>\n",
       "    </tr>\n",
       "    <tr>\n",
       "      <th>4</th>\n",
       "      <td>2.5</td>\n",
       "      <td>0.01702</td>\n",
       "      <td>91.875118</td>\n",
       "    </tr>\n",
       "    <tr>\n",
       "      <th>5</th>\n",
       "      <td>3.0</td>\n",
       "      <td>0.01933</td>\n",
       "      <td>90.829512</td>\n",
       "    </tr>\n",
       "    <tr>\n",
       "      <th>6</th>\n",
       "      <td>3.5</td>\n",
       "      <td>0.02145</td>\n",
       "      <td>89.881419</td>\n",
       "    </tr>\n",
       "    <tr>\n",
       "      <th>7</th>\n",
       "      <td>4.0</td>\n",
       "      <td>0.02339</td>\n",
       "      <td>89.023356</td>\n",
       "    </tr>\n",
       "    <tr>\n",
       "      <th>8</th>\n",
       "      <td>4.5</td>\n",
       "      <td>0.02518</td>\n",
       "      <td>88.239626</td>\n",
       "    </tr>\n",
       "    <tr>\n",
       "      <th>9</th>\n",
       "      <td>5.0</td>\n",
       "      <td>0.02683</td>\n",
       "      <td>87.523911</td>\n",
       "    </tr>\n",
       "  </tbody>\n",
       "</table>\n",
       "</div>"
      ],
      "text/plain": [
       "   maturity  spot_rate      strip\n",
       "0       0.5    0.00490  97.582693\n",
       "1       1.0    0.00833  95.928841\n",
       "2       1.5    0.01159  94.385499\n",
       "3       2.0    0.01446  93.049378\n",
       "4       2.5    0.01702  91.875118\n",
       "5       3.0    0.01933  90.829512\n",
       "6       3.5    0.02145  89.881419\n",
       "7       4.0    0.02339  89.023356\n",
       "8       4.5    0.02518  88.239626\n",
       "9       5.0    0.02683  87.523911"
      ]
     },
     "execution_count": 4,
     "metadata": {},
     "output_type": "execute_result"
    }
   ],
   "source": [
    "# Calculates the STRIP for each spot rate\n",
    "df['strip'] = M / (1 + df['spot_rate'] / m)**(m*n)\n",
    "\n",
    "df"
   ]
  },
  {
   "cell_type": "markdown",
   "metadata": {},
   "source": [
    "We can observe from the print above that the STRIPs are below the par value, which is a direct result from the inverse relationship between the interest rate (spot rate) and the bond price (STRIP). In other words, when interest rates rise, bond prices fall, which means that it is being traded at a discount. Consequently, when interest rates fall, bond prices rise, which means that it is being traded at a premium."
   ]
  },
  {
   "cell_type": "markdown",
   "metadata": {},
   "source": [
    "# Question 4"
   ]
  },
  {
   "cell_type": "markdown",
   "metadata": {},
   "source": [
    "Forward rates represent the interest rates of future periods (spot rates are today’s rates). It can be obtained through the following:\n",
    "\n",
    "\\begin{align*}\n",
    "    f(t) & = m * \\left(-1 + \\frac{\\left(1+\\frac{s_t}{m}\\right)^{l_{s_t}}}{\\left(1+\\frac{s_{t-1}}{m}\\right)^{l_{s_{t-1}}}}\\right)\n",
    "\\end{align*}"
   ]
  },
  {
   "cell_type": "code",
   "execution_count": 5,
   "metadata": {},
   "outputs": [
    {
     "data": {
      "text/html": [
       "<div>\n",
       "<style scoped>\n",
       "    .dataframe tbody tr th:only-of-type {\n",
       "        vertical-align: middle;\n",
       "    }\n",
       "\n",
       "    .dataframe tbody tr th {\n",
       "        vertical-align: top;\n",
       "    }\n",
       "\n",
       "    .dataframe thead th {\n",
       "        text-align: right;\n",
       "    }\n",
       "</style>\n",
       "<table border=\"1\" class=\"dataframe\">\n",
       "  <thead>\n",
       "    <tr style=\"text-align: right;\">\n",
       "      <th></th>\n",
       "      <th>maturity</th>\n",
       "      <th>spot_rate</th>\n",
       "      <th>strip</th>\n",
       "      <th>l</th>\n",
       "      <th>forward_rate</th>\n",
       "    </tr>\n",
       "  </thead>\n",
       "  <tbody>\n",
       "    <tr>\n",
       "      <th>0</th>\n",
       "      <td>0.5</td>\n",
       "      <td>0.00490</td>\n",
       "      <td>97.582693</td>\n",
       "      <td>1.0</td>\n",
       "      <td>NaN</td>\n",
       "    </tr>\n",
       "    <tr>\n",
       "      <th>1</th>\n",
       "      <td>1.0</td>\n",
       "      <td>0.00833</td>\n",
       "      <td>95.928841</td>\n",
       "      <td>2.0</td>\n",
       "      <td>0.011766</td>\n",
       "    </tr>\n",
       "    <tr>\n",
       "      <th>2</th>\n",
       "      <td>1.5</td>\n",
       "      <td>0.01159</td>\n",
       "      <td>94.385499</td>\n",
       "      <td>3.0</td>\n",
       "      <td>0.018126</td>\n",
       "    </tr>\n",
       "    <tr>\n",
       "      <th>3</th>\n",
       "      <td>2.0</td>\n",
       "      <td>0.01446</td>\n",
       "      <td>93.049378</td>\n",
       "      <td>4.0</td>\n",
       "      <td>0.023095</td>\n",
       "    </tr>\n",
       "    <tr>\n",
       "      <th>4</th>\n",
       "      <td>2.5</td>\n",
       "      <td>0.01702</td>\n",
       "      <td>91.875118</td>\n",
       "      <td>5.0</td>\n",
       "      <td>0.027293</td>\n",
       "    </tr>\n",
       "    <tr>\n",
       "      <th>5</th>\n",
       "      <td>3.0</td>\n",
       "      <td>0.01933</td>\n",
       "      <td>90.829512</td>\n",
       "      <td>6.0</td>\n",
       "      <td>0.030920</td>\n",
       "    </tr>\n",
       "    <tr>\n",
       "      <th>6</th>\n",
       "      <td>3.5</td>\n",
       "      <td>0.02145</td>\n",
       "      <td>89.881419</td>\n",
       "      <td>7.0</td>\n",
       "      <td>0.034217</td>\n",
       "    </tr>\n",
       "    <tr>\n",
       "      <th>7</th>\n",
       "      <td>4.0</td>\n",
       "      <td>0.02339</td>\n",
       "      <td>89.023356</td>\n",
       "      <td>8.0</td>\n",
       "      <td>0.037022</td>\n",
       "    </tr>\n",
       "    <tr>\n",
       "      <th>8</th>\n",
       "      <td>4.5</td>\n",
       "      <td>0.02518</td>\n",
       "      <td>88.239626</td>\n",
       "      <td>9.0</td>\n",
       "      <td>0.039557</td>\n",
       "    </tr>\n",
       "    <tr>\n",
       "      <th>9</th>\n",
       "      <td>5.0</td>\n",
       "      <td>0.02683</td>\n",
       "      <td>87.523911</td>\n",
       "      <td>10.0</td>\n",
       "      <td>0.041741</td>\n",
       "    </tr>\n",
       "  </tbody>\n",
       "</table>\n",
       "</div>"
      ],
      "text/plain": [
       "   maturity  spot_rate      strip     l  forward_rate\n",
       "0       0.5    0.00490  97.582693   1.0           NaN\n",
       "1       1.0    0.00833  95.928841   2.0      0.011766\n",
       "2       1.5    0.01159  94.385499   3.0      0.018126\n",
       "3       2.0    0.01446  93.049378   4.0      0.023095\n",
       "4       2.5    0.01702  91.875118   5.0      0.027293\n",
       "5       3.0    0.01933  90.829512   6.0      0.030920\n",
       "6       3.5    0.02145  89.881419   7.0      0.034217\n",
       "7       4.0    0.02339  89.023356   8.0      0.037022\n",
       "8       4.5    0.02518  88.239626   9.0      0.039557\n",
       "9       5.0    0.02683  87.523911  10.0      0.041741"
      ]
     },
     "execution_count": 5,
     "metadata": {},
     "output_type": "execute_result"
    }
   ],
   "source": [
    "# Obtains the total number of periods for the respective spot rate\n",
    "df['l'] = 2*df['maturity']\n",
    "\n",
    "# Calculates the forward rate\n",
    "df['forward_rate'] = m * (-1 + ((1 + df['spot_rate']/m)**(df['l'])) / ((1 + df['spot_rate'].shift()/m)**(df['l'].shift())) )\n",
    "\n",
    "df"
   ]
  },
  {
   "cell_type": "code",
   "execution_count": 6,
   "metadata": {},
   "outputs": [
    {
     "data": {
      "image/png": "[encoded data removed]",
      "text/plain": [
       "<Figure size 1080x504 with 1 Axes>"
      ]
     },
     "metadata": {},
     "output_type": "display_data"
    }
   ],
   "source": [
    "# Plots the forward yield curve\n",
    "plt.plot(df['maturity'], df['forward_rate'])\n",
    "plt.title(\"Forward Yield Curve\")\n",
    "plt.ylabel(\"Forward Rate\")\n",
    "plt.xlabel(\"Maturity\")\n",
    "plt.show()"
   ]
  },
  {
   "cell_type": "markdown",
   "metadata": {},
   "source": [
    "# Question 5"
   ]
  },
  {
   "cell_type": "markdown",
   "metadata": {},
   "source": [
    "## a) and b) Bond Price Using Spot and Forward Rates"
   ]
  },
  {
   "cell_type": "markdown",
   "metadata": {},
   "source": [
    "The price of a bond depends on its par value, its coupon, its discount rate and its maturity. Mathematically, it is defined as follows:\n",
    "\n",
    "\\begin{align*}\n",
    "    P & = \\frac{M}{\\left(1 + \\frac{y}{m}\\right)^N} + \\sum^{N}_{i=1} \\frac{C}{\\left(1 + \\frac{y}{m}\\right)^i}\n",
    "\\end{align*}\n",
    "\n",
    "When using forward rates, the formula is different, because we have to account for the product of all forward rate discount rates.\n",
    "\n",
    "We can translate that into code by the following function:"
   ]
  },
  {
   "cell_type": "code",
   "execution_count": 7,
   "metadata": {},
   "outputs": [],
   "source": [
    "def bond_price(C, M, y, m, forward):\n",
    "    \"\"\"\n",
    "    Price a bond using the present value formula.\n",
    "\n",
    "    Args:\n",
    "        C (float): coupon\n",
    "        M (float): principal amount\n",
    "        y (float): list with according discount rates\n",
    "        m (int): number of payment periods per year\n",
    "        forward (bool): if True yields are interpreted as forward rates\n",
    "\n",
    "    Returns:\n",
    "        float: present value of the bond\n",
    "    \"\"\"\n",
    "    # Number periods to maturity\n",
    "    N = len(y)\n",
    "\n",
    "    # Calculates price using spot rates\n",
    "    if forward:\n",
    "        P = M / np.prod([(1+y[j]/m) for j in range(N)])\n",
    "        for i in range(N):\n",
    "            P += C / np.prod([(1+y[j]/m) for j in range(i+1)])\n",
    "\n",
    "    # Calculates price using forward rates\n",
    "    else:\n",
    "        P = M / ((1+y[N-1]/m)**N)\n",
    "        for i in range(N):\n",
    "            P += C / ((1+y[i]/m)**(i+1))\n",
    "    \n",
    "    return P"
   ]
  },
  {
   "cell_type": "markdown",
   "metadata": {},
   "source": [
    "Now, assuming that the French government issued today (1st of January 2022) a 3-year government bond that pays semi-annually a 4% coupon (par value = 1,000€), we have the following:"
   ]
  },
  {
   "cell_type": "code",
   "execution_count": 8,
   "metadata": {},
   "outputs": [
    {
     "name": "stdout",
     "output_type": "stream",
     "text": [
      "Bond price with spot rate: 1060.8447\n",
      "Bond price with forward rate: 1060.8447\n"
     ]
    }
   ],
   "source": [
    "# Defines parameters\n",
    "maturity = 3     # Maturity period\n",
    "M = 1000         # Par value\n",
    "C = 0.04 * M/2   # Coupon\n",
    "m = 2            # Number of payments per period\n",
    "\n",
    "# Calculates bond price using spot rates\n",
    "y = df[df['maturity'] <= maturity]['spot_rate']\n",
    "P = bond_price(C, M, y, m, forward=False)\n",
    "print(f\"Bond price with spot rate: {P:.4f}\")\n",
    "\n",
    "# Calculates bond price using forward rates\n",
    "y = df[df['maturity'] <= maturity]['forward_rate'].tolist()\n",
    "y[0] = df['spot_rate'].iloc[0]\n",
    "P = bond_price(C, M, y, m, forward=True)\n",
    "print(f\"Bond price with forward rate: {P:.4f}\")"
   ]
  },
  {
   "cell_type": "markdown",
   "metadata": {},
   "source": [
    "## c) Observations\n",
    "\n",
    "We can see that, as expected, we obtain the same present value bond price when using forward and spot rates."
   ]
  },
  {
   "cell_type": "markdown",
   "metadata": {},
   "source": [
    "# Question 6"
   ]
  },
  {
   "cell_type": "markdown",
   "metadata": {},
   "source": [
    "## Dirty Price of the Bond\n",
    "\n",
    "The dirty bond pricing equation using a different spot rate per period becomes:\n",
    "\n",
    "\\begin{align*}\n",
    "    P & = \\frac{M}{\\left(1 + \\frac{s_N}{m}\\right)^{N-1+w}} + \\sum_{i=1}^{N-1} \\frac{C}{\\left(1 + \\frac{s_i}{m}\\right)^{i+w}}\n",
    "\\end{align*}\n",
    "\n",
    "We know that coupon are paid semi-annualy, so we can calculate the dirty and clean prices of the bond 45 days after it was issued. Since we're dealing with a US bond, we use the 30/360 day count convention."
   ]
  },
  {
   "cell_type": "code",
   "execution_count": 9,
   "metadata": {},
   "outputs": [],
   "source": [
    "# Defines parameters\n",
    "maturity = 3                                    # Maturity period\n",
    "M = 1000                                        # Par value\n",
    "C = 0.04 * M/2                                  # Coupon\n",
    "m = 2                                           # Number of payments per period\n",
    "w = (180 - 45)/180                              # days until next pay\n",
    "y = df[df['maturity'] <= maturity]['spot_rate'] # spot yields"
   ]
  },
  {
   "cell_type": "code",
   "execution_count": 10,
   "metadata": {},
   "outputs": [
    {
     "name": "stdout",
     "output_type": "stream",
     "text": [
      "Dirty price: 1062.5720\n"
     ]
    }
   ],
   "source": [
    "# Dirty price using spot rates\n",
    "N = len(y)\n",
    "dirty_price = M / ((1+y[N-1]/m)**(N-1+w))\n",
    "for i in range(N):\n",
    "    dirty_price += C / ((1+y[i]/m)**(i+1+w))\n",
    "\n",
    "print(f\"Dirty price: {dirty_price:.4f}\")"
   ]
  },
  {
   "cell_type": "markdown",
   "metadata": {},
   "source": [
    "## Clean Price of the Bond"
   ]
  },
  {
   "cell_type": "markdown",
   "metadata": {},
   "source": [
    "Here we will assume that the first coupon is paid at time 0, when the bond is issued. If that is not the case, and the first coupon is only paid after six months, then there would be no accrued interest (since the bond holder did not receive a coupon), and the clean price would be the same as the clean price."
   ]
  },
  {
   "cell_type": "code",
   "execution_count": 11,
   "metadata": {},
   "outputs": [
    {
     "name": "stdout",
     "output_type": "stream",
     "text": [
      "Clean price: 1057.5720\n"
     ]
    }
   ],
   "source": [
    "accrued_interest = C*(45/180)\n",
    "clean_price = dirty_price - accrued_interest\n",
    "print(f\"Clean price: {clean_price:.4f}\")"
   ]
  },
  {
   "cell_type": "markdown",
   "metadata": {},
   "source": [
    "# Question 7"
   ]
  },
  {
   "cell_type": "markdown",
   "metadata": {},
   "source": [
    "We start by pricing the bond using spot rates."
   ]
  },
  {
   "cell_type": "code",
   "execution_count": 12,
   "metadata": {},
   "outputs": [
    {
     "name": "stdout",
     "output_type": "stream",
     "text": [
      "Bond price with spot rate: 1060.8447\n"
     ]
    }
   ],
   "source": [
    "# Defines parameters\n",
    "maturity = 3       # Maturity period\n",
    "M = 1000           # Par value\n",
    "C = 0.04 * M/2     # Coupon\n",
    "m = 2              # Number of payments per period\n",
    "N = len(y)         # Number of periods until maturity\n",
    "\n",
    "# Calculates bond price using spot rates\n",
    "y = df[df['maturity'] <= maturity]['spot_rate']\n",
    "P = bond_price(C, M, y, m, forward=False)\n",
    "print(f\"Bond price with spot rate: {P:.4f}\")"
   ]
  },
  {
   "cell_type": "markdown",
   "metadata": {},
   "source": [
    "Now, we set up the equation that we want to solve.\n",
    "\n",
    "\\begin{align*}\n",
    "    P & = \\frac{M}{\\left(1 + ytm\\right)^{N}} + \\sum_{i=1}^{N-1} \\frac{C}{\\left(1 + ytm\\right)^{i}}\n",
    "\\end{align*}\n",
    "\n",
    "or rewriting it:\n",
    "\n",
    "\\begin{align*}\n",
    "    0 & = \\frac{M}{\\left(1 + ytm\\right)^{N}} + \\sum_{i=1}^{N-1} \\frac{C}{\\left(1 + ytm\\right)^{i}} - P\n",
    "\\end{align*}\n"
   ]
  },
  {
   "cell_type": "code",
   "execution_count": 13,
   "metadata": {},
   "outputs": [
    {
     "data": {
      "text/latex": [
       "$\\displaystyle -1060.84467365362 + \\frac{20.0}{ytm + 1} + \\frac{20.0}{\\left(ytm + 1\\right)^{2}} + \\frac{20.0}{\\left(ytm + 1\\right)^{3}} + \\frac{20.0}{\\left(ytm + 1\\right)^{4}} + \\frac{20.0}{\\left(ytm + 1\\right)^{5}} + \\frac{1020.0}{\\left(ytm + 1\\right)^{6}}$"
      ],
      "text/plain": [
       "-1060.84467365362 + 20.0/(ytm + 1) + 20.0/(ytm + 1)**2 + 20.0/(ytm + 1)**3 + 20.0/(ytm + 1)**4 + 20.0/(ytm + 1)**5 + 1020.0/(ytm + 1)**6"
      ]
     },
     "execution_count": 13,
     "metadata": {},
     "output_type": "execute_result"
    }
   ],
   "source": [
    "ytm = symbols('ytm')\n",
    "eq = M / ((1+ytm)**(N))\n",
    "eq += sum([C/((1+ytm)**(i+1)) for i in range(N)]) - P\n",
    "eq"
   ]
  },
  {
   "cell_type": "markdown",
   "metadata": {},
   "source": [
    "Now, let's solve the equation numerically."
   ]
  },
  {
   "cell_type": "code",
   "execution_count": 14,
   "metadata": {},
   "outputs": [
    {
     "data": {
      "text/plain": [
       "[-1.99029825542637,\n",
       " 0.00951870907064098,\n",
       " -1.49519576541833 - 0.857597036341344*I,\n",
       " -1.49519576541833 + 0.857597036341344*I,\n",
       " -0.504988010719412 - 0.857707264103895*I,\n",
       " -0.504988010719412 + 0.857707264103895*I]"
      ]
     },
     "execution_count": 14,
     "metadata": {},
     "output_type": "execute_result"
    }
   ],
   "source": [
    "sol = solve(eq, ytm)\n",
    "sol"
   ]
  },
  {
   "cell_type": "markdown",
   "metadata": {},
   "source": [
    "We see that the only real and positive solution gives us:"
   ]
  },
  {
   "cell_type": "code",
   "execution_count": 15,
   "metadata": {},
   "outputs": [
    {
     "name": "stdout",
     "output_type": "stream",
     "text": [
      "Yield-to-maturity: 0.0095\n"
     ]
    }
   ],
   "source": [
    "ytm = float(sol[1])\n",
    "print(f\"Yield-to-maturity: {ytm:.4f}\")"
   ]
  },
  {
   "cell_type": "markdown",
   "metadata": {},
   "source": [
    "This means that the total anticipated return on the bond if we hold it until maturity and reinvest the coupons is around 0.0095."
   ]
  },
  {
   "cell_type": "markdown",
   "metadata": {},
   "source": [
    "# Question 8"
   ]
  },
  {
   "cell_type": "markdown",
   "metadata": {},
   "source": [
    "a) Calculate DV01 for a one basis point decrease in YTM. Interpret."
   ]
  },
  {
   "cell_type": "code",
   "execution_count": 16,
   "metadata": {},
   "outputs": [
    {
     "name": "stdout",
     "output_type": "stream",
     "text": [
      "Dollar value of a 1 basis point decrease in YTM: 0.6016\n"
     ]
    }
   ],
   "source": [
    "# Decrease of 1 basis point to YTM\n",
    "new_ytm = ytm - 0.0001\n",
    "\n",
    "# Calculate price with new YTM\n",
    "new_P = M / ((1+new_ytm)**(N))\n",
    "new_P += sum([C/((1+new_ytm)**(i+1)) for i in range(N)])\n",
    "\n",
    "DV01 = - (new_P - P)/(10000*(new_ytm - ytm))\n",
    "print(f\"Dollar value of a 1 basis point decrease in YTM: {DV01:.4f}\")"
   ]
  },
  {
   "cell_type": "markdown",
   "metadata": {},
   "source": [
    "This means that for every 1 basis point decrease in YTM, the value of the bond increases by €0.6016. This estimate, however, considers only a linear relationship between YTM and price, and, thus, is only good for small variations in YTM."
   ]
  },
  {
   "cell_type": "markdown",
   "metadata": {},
   "source": [
    "b) Calculate duration and convexity for a 2% increase and decrease in YTM. Interpret."
   ]
  },
  {
   "cell_type": "code",
   "execution_count": 17,
   "metadata": {},
   "outputs": [
    {
     "name": "stdout",
     "output_type": "stream",
     "text": [
      "Duration for a 2% variation in YTM: 5.6897%\n",
      "Convexity for a 2% variation in YTM: 38.7723\n"
     ]
    }
   ],
   "source": [
    "ytm_delta = 0.02\n",
    "\n",
    "# Price for 2% decrease in YTM\n",
    "new_ytm = ytm - ytm_delta\n",
    "decrease_P = M / ((1+new_ytm)**(N))\n",
    "decrease_P += sum([C/((1+new_ytm)**(i+1)) for i in range(N)])\n",
    "\n",
    "# Price for 2% increase in YTM\n",
    "new_ytm = ytm + ytm_delta\n",
    "increase_P = M / ((1+new_ytm)**(N))\n",
    "increase_P += sum([C/((1+new_ytm)**(i+1)) for i in range(N)])\n",
    "\n",
    "# Calculate duration\n",
    "D = (decrease_P - increase_P)/(2*P*ytm_delta)\n",
    "\n",
    "# Calculate convexity\n",
    "Cx = (decrease_P + increase_P - 2*P)/(P*(ytm_delta**2))\n",
    "\n",
    "print(f\"Duration for a 2% variation in YTM: {D:.4f}%\")\n",
    "print(f\"Convexity for a 2% variation in YTM: {Cx:.4f}\")"
   ]
  },
  {
   "cell_type": "markdown",
   "metadata": {},
   "source": [
    "The duration tells us that for a 2% change in YTM, the bond price will vary inversely by 6.0439%. This is a good estimate for small variations in YTM. The convexity, on the hand, does not tell us much by itself. However, it can be compared to other convexity values to evaluate the effects of big changes to YTM, because it accounts for non-linear effects."
   ]
  },
  {
   "cell_type": "markdown",
   "metadata": {},
   "source": [
    "c) Calculate the change in bond price for a 2% increase and decrease in YTM using the duration/convexity approach. Interpret."
   ]
  },
  {
   "cell_type": "code",
   "execution_count": 18,
   "metadata": {},
   "outputs": [
    {
     "name": "stdout",
     "output_type": "stream",
     "text": [
      "Variation in price for a 2% decrease in YTM: 106.0397%\n",
      "Variation in price for a 2% increase in YTM: -106.0397%\n"
     ]
    }
   ],
   "source": [
    "deltaP_neg = (-D)*(-ytm_delta)*M + 0.5*Cx*(-ytm_delta**2)*M\n",
    "deltaP_pos = (-D)*(ytm_delta)*M + 0.5*Cx*(ytm_delta**2)*M\n",
    "\n",
    "print(f\"Variation in price for a 2% decrease in YTM: {deltaP_neg:.4f}%\")\n",
    "print(f\"Variation in price for a 2% increase in YTM: {deltaP_pos:.4f}%\")"
   ]
  },
  {
   "cell_type": "markdown",
   "metadata": {},
   "source": [
    "This indicates that an 2% decrease (increase) in YTM is associated to a 10.0261% increase (decrease) in bond price. This estimate is also more well suited for large changes in interest rates, since it considers both duration (small variations) and convexity (large variations)."
   ]
  },
  {
   "cell_type": "markdown",
   "metadata": {},
   "source": [
    "# Question 9"
   ]
  },
  {
   "cell_type": "markdown",
   "metadata": {},
   "source": [
    "## a) Create a hedging strategy with the first bond using the DV01 measure\n",
    "\n",
    "The objective of a hedging strategy is to produce a combined position (the original position + a hedging position), so that the change in interest rate does not change the value of an investor's portfolio of fixed income securities. This is expressed as follows:\n",
    "\n",
    "\\begin{align*}\n",
    "    \\text{Dollar price change of position} & = \\text{Dollar price change of hedging instrument}\n",
    "\\end{align*}\n",
    "\n",
    "To hedge a position using the DV01 measure, the following equation is used:\n",
    "\n",
    "\\begin{align*}\n",
    "    HR & = \\frac{DV01_{op}}{DV01_{HI}}\n",
    "\\end{align*}\n",
    "\n",
    "Assuming that the goal is to purchase $15M of the bond calculated in question 5:"
   ]
  },
  {
   "cell_type": "code",
   "execution_count": 20,
   "metadata": {},
   "outputs": [
    {
     "name": "stdout",
     "output_type": "stream",
     "text": [
      "Interpretation: For every $1 par value of the bond, short $951.8130 of par (= $1000*0.9518) of the hedging instrument bond.\n",
      "Interpretation: In order to hedge this $15000000.0 option position, the investor must short $14277194.6883 in face value of the bond.\n"
     ]
    }
   ],
   "source": [
    "# Sets the value of the operation and the par value\n",
    "V_op = 15E6\n",
    "M = 1000\n",
    "\n",
    "# Sets the DV01 of the bonds\n",
    "DV01_op = DV01   # DV01 of the bond calculated in question 5\n",
    "DV01_hi = 0.6321 # Random DV01 of the hedging instrument\n",
    "\n",
    "# Calculates the hedge ratio\n",
    "hr = DV01_op / DV01_hi\n",
    "print(f\"Interpretation: For every $1 par value of the bond, short ${M*hr:.4f} of par (= ${M}*{hr:.4f}) of the hedging instrument bond.\")\n",
    "\n",
    "# Calculates the face value\n",
    "fv = V_op * hr\n",
    "print(f\"Interpretation: In order to hedge this ${V_op} option position, the investor must short ${fv:.4f} in face value of the bond.\")"
   ]
  },
  {
   "cell_type": "markdown",
   "metadata": {},
   "source": [
    "## b) Create a hedging strategy with the second bond using the duration measure\n",
    "\n",
    "To hedge a position using the \"duration\" measure, we need to know the \"duration\" of our current bond position and the \"duration\" of the hedging instrument.\n",
    "\n",
    "Using these two parameters, we can determine the $ value of the hedging instrument that we need to sell or buy in order to have a perfect hedge. This value is estimated by the following equation:\n",
    "\n",
    "\\begin{align*}\n",
    "    V_{HI} & = - \\frac{D_{OP} \\ * \\ V_{OP}}{D_{HI}}\n",
    "\\end{align*}\n",
    "\n",
    "Assuming that the goal is to purchase $15M of the bond calculated in question 5:"
   ]
  },
  {
   "cell_type": "code",
   "execution_count": 23,
   "metadata": {},
   "outputs": [
    {
     "name": "stdout",
     "output_type": "stream",
     "text": [
      "Interpretation: For every $1 par value of the bond, short $94.8285 of par (= $100*0.9483) of the hedging instrument bond.\n",
      "Interpretation: The bank would have to short $14224275.9967 of this bond to cover its position.\n"
     ]
    }
   ],
   "source": [
    "# Sets the value of the operation and the par value\n",
    "V_op = 15E6\n",
    "M = 1000\n",
    "\n",
    "# Sets the duration of the bonds\n",
    "duration_op = D    # Duration of the bond calculated in question 5\n",
    "duration_hi = 6    # Random duration of the hedging instrument\n",
    "\n",
    "# Calculates the hedge ratio\n",
    "hr = duration_op / duration_hi\n",
    "print(f\"Interpretation: For every $1 par value of the bond, short ${M*hr:.4f} of par (= ${M}*{hr:.4f}) of the hedging instrument bond.\")\n",
    "\n",
    "# Calculates the face value\n",
    "fv = V_op * hr\n",
    "print(f\"Interpretation: The bank would have to short ${fv:.4f} of this bond to cover its position.\")"
   ]
  },
  {
   "cell_type": "markdown",
   "metadata": {},
   "source": [
    "## c) Create a hedging strategy with the two bonds using the duration/convexity approach\n",
    "\n",
    "This is a process in which both measures must be hedged simultaneously. To do this, the investor must use two hedging instruments (two bonds) - one per measure. To create a perfect hedge, an investor should know the ”duration” and the “convexity” of each of the hedging instruments. The following two equations must be satisfied for a position to be hedged.\n",
    "\n",
    "\\begin{cases}\n",
    "    V_{OP} * D_{OP} - V_{HI1} * D_{HI1} - V_{HI2} * D_{HI2} & = 0 \\\\\n",
    "    V_{OP} * {Cx}_{OP} - V_{HI1} * {Cx}_{HI1} - V_{HI2} * {Cx}_{HI2} & = 0 \n",
    "\\end{cases}\n"
   ]
  },
  {
   "cell_type": "code",
   "execution_count": 29,
   "metadata": {},
   "outputs": [
    {
     "name": "stdout",
     "output_type": "stream",
     "text": [
      "Therefore, for the bank to hedge its position, it must take a long position of $23053797.7418 in the first bond and a short position of $-7568161.4958 in the second bond. In other words, by combining these positions, there is no duration or convexity exposure, and thus the bank is hedged against small and big changes in interest rates.\n"
     ]
    }
   ],
   "source": [
    "# Sets the value of the operation and the par value\n",
    "V_op = 15E6\n",
    "M = 1000\n",
    "\n",
    "# Sets the duration of the bonds\n",
    "duration_op = D     # Duration of the bond calculated in question 5\n",
    "duration_hi1 = 6    # Random duration of the hedging instrument 1\n",
    "duration_hi2 = 7    # Random duration of the hedging instrument 2\n",
    "\n",
    "# Sets the convexity of the bonds\n",
    "convexity_op = Cx     # Convexity of the bond calculated in question 5\n",
    "convexity_hi1 = 40    # Random convexity of the hedging instrument 1\n",
    "convexity_hi2 = 45    # Random convexity of the hedging instrument 2\n",
    "\n",
    "# Obtains V_HI1 and V_HI2\n",
    "V_hi1, V_hi2 = symbols('V_HI1 V_HI2')\n",
    "eq1 = Eq(V_op * duration_op - V_hi1 * duration_hi1 - V_hi2 * duration_hi2, 0)\n",
    "eq2 = Eq(V_op * convexity_op - V_hi1 * convexity_hi1 - V_hi2 * convexity_hi2, 0)\n",
    "V_hi1, V_hi2 = tuple(solve((eq1, eq2), (V_hi1, V_hi2)).values())\n",
    "\n",
    "print(f\"Therefore, for the bank to hedge its position, it must take a long position of ${V_hi1:.4f} in the first bond and a short position of ${V_hi2:.4f} in the second bond. In other words, by combining these positions, there is no duration or convexity exposure, and thus the bank is hedged against small and big changes in interest rates.\")"
   ]
  }
 ],
 "metadata": {
  "interpreter": {
   "hash": "c3bff2c7d26c1785fda759cac4d8031bd96222f702abd1309d35d8a56a9ef905"
  },
  "kernelspec": {
   "display_name": "Python 3.9.4 ('venv': venv)",
   "language": "python",
   "name": "python3"
  },
  "language_info": {
   "codemirror_mode": {
    "name": "ipython",
    "version": 3
   },
   "file_extension": ".py",
   "mimetype": "text/x-python",
   "name": "python",
   "nbconvert_exporter": "python",
   "pygments_lexer": "ipython3",
   "version": "3.9.4"
  },
  "orig_nbformat": 4
 },
 "nbformat": 4,
 "nbformat_minor": 2
}
