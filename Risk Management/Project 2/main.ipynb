{
 "cells": [
  {
   "cell_type": "markdown",
   "metadata": {},
   "source": [
    "# Bonds Project\n",
    "\n",
    "*By Daniel Deutsch and José Lucas Barretto*"
   ]
  },
  {
   "cell_type": "code",
   "execution_count": 1,
   "metadata": {},
   "outputs": [],
   "source": [
    "import matplotlib.pyplot as plt\n",
    "import pandas as pd\n",
    "import numpy as np"
   ]
  },
  {
   "cell_type": "code",
   "execution_count": 2,
   "metadata": {},
   "outputs": [],
   "source": [
    "# Matplotlib style\n",
    "plt.style.use('ggplot')\n",
    "plt.rcParams.update({\n",
    "    'figure.figsize': (15, 7),\n",
    "    'axes.prop_cycle': plt.cycler(color=['#4C72B0', '#C44E52', '#55A868', '#8172B2', '#CCB974', '#64B5CD']),\n",
    "    'axes.facecolor': '#EAEAF2'\n",
    "})"
   ]
  },
  {
   "cell_type": "markdown",
   "metadata": {},
   "source": [
    "# Question 1"
   ]
  },
  {
   "cell_type": "markdown",
   "metadata": {},
   "source": [
    "A bond is a fixed income security that represents a loan made by an investor to a borrower. A bond can be issued by governmental or corporate institutions to finance their operations. Investors that buy bonds are lending money to the bond issuer, and, in return, they receive a fixed interest (or coupons) for their investment.\n",
    "\n",
    "Bonds are issued with a given price, and pay back a given face-value at the date of maturity, as well as coupon rates (interest) on the given coupon dates.\n",
    "\n",
    "Because bonds are fixed income instruments, their price is closely related to interest rates. Moreover, bond prices vary inversely with interest rates. This happens because if interest rates move up, investors will prefer buying newly issued bonds that pay more interest, hence drawing down the price of bonds that pay less interest. The contrary example is also true."
   ]
  },
  {
   "cell_type": "markdown",
   "metadata": {},
   "source": [
    "# Question 2"
   ]
  },
  {
   "cell_type": "markdown",
   "metadata": {},
   "source": [
    "Once we accessed the [European Central Bank Website](https://drive.google.com/drive/u/0/folders/1SSQgOKYpzfZC_0HwGrV7tfcd9-6u5r8k) we selected the date Jan 4th 2010 for AAA rated bonds. This parameter selection provided us the following spot yields (for maturities 0.5m, 1y, 1.5y, ..., 5y):"
   ]
  },
  {
   "cell_type": "code",
   "execution_count": 3,
   "metadata": {},
   "outputs": [
    {
     "data": {
      "text/html": [
       "<div>\n",
       "<style scoped>\n",
       "    .dataframe tbody tr th:only-of-type {\n",
       "        vertical-align: middle;\n",
       "    }\n",
       "\n",
       "    .dataframe tbody tr th {\n",
       "        vertical-align: top;\n",
       "    }\n",
       "\n",
       "    .dataframe thead th {\n",
       "        text-align: right;\n",
       "    }\n",
       "</style>\n",
       "<table border=\"1\" class=\"dataframe\">\n",
       "  <thead>\n",
       "    <tr style=\"text-align: right;\">\n",
       "      <th></th>\n",
       "      <th>maturity</th>\n",
       "      <th>spot_rate</th>\n",
       "    </tr>\n",
       "  </thead>\n",
       "  <tbody>\n",
       "    <tr>\n",
       "      <th>0</th>\n",
       "      <td>0.5</td>\n",
       "      <td>0.00490</td>\n",
       "    </tr>\n",
       "    <tr>\n",
       "      <th>1</th>\n",
       "      <td>1.0</td>\n",
       "      <td>0.00833</td>\n",
       "    </tr>\n",
       "    <tr>\n",
       "      <th>2</th>\n",
       "      <td>1.5</td>\n",
       "      <td>0.01159</td>\n",
       "    </tr>\n",
       "    <tr>\n",
       "      <th>3</th>\n",
       "      <td>2.0</td>\n",
       "      <td>0.01446</td>\n",
       "    </tr>\n",
       "    <tr>\n",
       "      <th>4</th>\n",
       "      <td>2.5</td>\n",
       "      <td>0.01702</td>\n",
       "    </tr>\n",
       "    <tr>\n",
       "      <th>5</th>\n",
       "      <td>3.0</td>\n",
       "      <td>0.01933</td>\n",
       "    </tr>\n",
       "    <tr>\n",
       "      <th>6</th>\n",
       "      <td>3.5</td>\n",
       "      <td>0.02145</td>\n",
       "    </tr>\n",
       "    <tr>\n",
       "      <th>7</th>\n",
       "      <td>4.0</td>\n",
       "      <td>0.02339</td>\n",
       "    </tr>\n",
       "    <tr>\n",
       "      <th>8</th>\n",
       "      <td>4.5</td>\n",
       "      <td>0.02518</td>\n",
       "    </tr>\n",
       "    <tr>\n",
       "      <th>9</th>\n",
       "      <td>5.0</td>\n",
       "      <td>0.02683</td>\n",
       "    </tr>\n",
       "  </tbody>\n",
       "</table>\n",
       "</div>"
      ],
      "text/plain": [
       "   maturity  spot_rate\n",
       "0       0.5    0.00490\n",
       "1       1.0    0.00833\n",
       "2       1.5    0.01159\n",
       "3       2.0    0.01446\n",
       "4       2.5    0.01702\n",
       "5       3.0    0.01933\n",
       "6       3.5    0.02145\n",
       "7       4.0    0.02339\n",
       "8       4.5    0.02518\n",
       "9       5.0    0.02683"
      ]
     },
     "execution_count": 3,
     "metadata": {},
     "output_type": "execute_result"
    }
   ],
   "source": [
    "# Defines parameters\n",
    "n = 5     # Number of years \n",
    "m = 2     # Number of payment periods in a year (2 because its semi-annual payments)\n",
    "M = 100   # Par value (100$ According to the European Central Bank Website)\n",
    "\n",
    "# Obtains the spot yields from the European Central Bank Website\n",
    "df = pd.DataFrame([\n",
    "    { 'maturity': 0.5, 'spot_rate': 0.00490 },\n",
    "    { 'maturity': 1, 'spot_rate': 0.00833 },\n",
    "    { 'maturity': 1.5, 'spot_rate': 0.01159 },\n",
    "    { 'maturity': 2, 'spot_rate': 0.01446 },\n",
    "    { 'maturity': 2.5, 'spot_rate': 0.01702 },\n",
    "    { 'maturity': 3, 'spot_rate': 0.01933 },\n",
    "    { 'maturity': 3.5, 'spot_rate': 0.02145 },\n",
    "    { 'maturity': 4, 'spot_rate': 0.02339 },\n",
    "    { 'maturity': 4.5, 'spot_rate': 0.02518 },\n",
    "    { 'maturity': 5, 'spot_rate': 0.02683 },\n",
    "])\n",
    "\n",
    "df"
   ]
  },
  {
   "cell_type": "markdown",
   "metadata": {},
   "source": [
    "# Question 3"
   ]
  },
  {
   "cell_type": "markdown",
   "metadata": {},
   "source": [
    "The spot rate represents the yield to maturity of a hypothetical zero-coupon bond. In other words, the spot rate represents the interest rate at which future returns are discounted in order to estimate their present value. These values are not always observable in the market, and must therefore be estimated from existing zero coupon bonds and fixed coupon bond prices or yields. It can be obtained through the following:\n",
    "\n",
    "\\begin{align*}\n",
    "    y & = m \\left[\\left(\\frac{M}{P}\\right)^{\\frac{1}{m*n}}-1\\right]\n",
    "\\end{align*}\n",
    "\n",
    "Therefore, the price $P$ of the STRIPS can be obtained through:\n",
    "\n",
    "\\begin{align*}\n",
    "    P & = \\frac{M}{\\left(1 + \\frac{y}{m}\\right)^{m*n}}\n",
    "\\end{align*}"
   ]
  },
  {
   "cell_type": "code",
   "execution_count": 4,
   "metadata": {},
   "outputs": [
    {
     "data": {
      "text/html": [
       "<div>\n",
       "<style scoped>\n",
       "    .dataframe tbody tr th:only-of-type {\n",
       "        vertical-align: middle;\n",
       "    }\n",
       "\n",
       "    .dataframe tbody tr th {\n",
       "        vertical-align: top;\n",
       "    }\n",
       "\n",
       "    .dataframe thead th {\n",
       "        text-align: right;\n",
       "    }\n",
       "</style>\n",
       "<table border=\"1\" class=\"dataframe\">\n",
       "  <thead>\n",
       "    <tr style=\"text-align: right;\">\n",
       "      <th></th>\n",
       "      <th>maturity</th>\n",
       "      <th>spot_rate</th>\n",
       "      <th>strip</th>\n",
       "    </tr>\n",
       "  </thead>\n",
       "  <tbody>\n",
       "    <tr>\n",
       "      <th>0</th>\n",
       "      <td>0.5</td>\n",
       "      <td>0.00490</td>\n",
       "      <td>97.582693</td>\n",
       "    </tr>\n",
       "    <tr>\n",
       "      <th>1</th>\n",
       "      <td>1.0</td>\n",
       "      <td>0.00833</td>\n",
       "      <td>95.928841</td>\n",
       "    </tr>\n",
       "    <tr>\n",
       "      <th>2</th>\n",
       "      <td>1.5</td>\n",
       "      <td>0.01159</td>\n",
       "      <td>94.385499</td>\n",
       "    </tr>\n",
       "    <tr>\n",
       "      <th>3</th>\n",
       "      <td>2.0</td>\n",
       "      <td>0.01446</td>\n",
       "      <td>93.049378</td>\n",
       "    </tr>\n",
       "    <tr>\n",
       "      <th>4</th>\n",
       "      <td>2.5</td>\n",
       "      <td>0.01702</td>\n",
       "      <td>91.875118</td>\n",
       "    </tr>\n",
       "    <tr>\n",
       "      <th>5</th>\n",
       "      <td>3.0</td>\n",
       "      <td>0.01933</td>\n",
       "      <td>90.829512</td>\n",
       "    </tr>\n",
       "    <tr>\n",
       "      <th>6</th>\n",
       "      <td>3.5</td>\n",
       "      <td>0.02145</td>\n",
       "      <td>89.881419</td>\n",
       "    </tr>\n",
       "    <tr>\n",
       "      <th>7</th>\n",
       "      <td>4.0</td>\n",
       "      <td>0.02339</td>\n",
       "      <td>89.023356</td>\n",
       "    </tr>\n",
       "    <tr>\n",
       "      <th>8</th>\n",
       "      <td>4.5</td>\n",
       "      <td>0.02518</td>\n",
       "      <td>88.239626</td>\n",
       "    </tr>\n",
       "    <tr>\n",
       "      <th>9</th>\n",
       "      <td>5.0</td>\n",
       "      <td>0.02683</td>\n",
       "      <td>87.523911</td>\n",
       "    </tr>\n",
       "  </tbody>\n",
       "</table>\n",
       "</div>"
      ],
      "text/plain": [
       "   maturity  spot_rate      strip\n",
       "0       0.5    0.00490  97.582693\n",
       "1       1.0    0.00833  95.928841\n",
       "2       1.5    0.01159  94.385499\n",
       "3       2.0    0.01446  93.049378\n",
       "4       2.5    0.01702  91.875118\n",
       "5       3.0    0.01933  90.829512\n",
       "6       3.5    0.02145  89.881419\n",
       "7       4.0    0.02339  89.023356\n",
       "8       4.5    0.02518  88.239626\n",
       "9       5.0    0.02683  87.523911"
      ]
     },
     "execution_count": 4,
     "metadata": {},
     "output_type": "execute_result"
    }
   ],
   "source": [
    "# Calculates the STRIP for each spot rate\n",
    "df['strip'] = M / (1 + df['spot_rate'] / m)**(m*n)\n",
    "\n",
    "df"
   ]
  },
  {
   "cell_type": "markdown",
   "metadata": {},
   "source": [
    "We can observe from the print above that the STRIPs are below the par value, which is a direct result from the inverse relationship between the interest rate (spot rate) and the bond price (STRIP). In other words, when interest rates rise, bond prices fall, which means that it is being traded at a discount. Consequently, when interest rates fall, bond prices rise, which means that it is being traded at a premium."
   ]
  },
  {
   "cell_type": "markdown",
   "metadata": {},
   "source": [
    "# Question 4"
   ]
  },
  {
   "cell_type": "markdown",
   "metadata": {},
   "source": [
    "Forward rates represent the interest rates of future periods (spot rates are today’s rates). It can be obtained through the following:\n",
    "\n",
    "\\begin{align*}\n",
    "    f(t) & = m * \\left(-1 + \\frac{\\left(1+\\frac{s_t}{m}\\right)^{l_{s_t}}}{\\left(1+\\frac{s_{t-1}}{m}\\right)^{l_{s_{t-1}}}}\\right)\n",
    "\\end{align*}"
   ]
  },
  {
   "cell_type": "code",
   "execution_count": 5,
   "metadata": {},
   "outputs": [
    {
     "data": {
      "text/html": [
       "<div>\n",
       "<style scoped>\n",
       "    .dataframe tbody tr th:only-of-type {\n",
       "        vertical-align: middle;\n",
       "    }\n",
       "\n",
       "    .dataframe tbody tr th {\n",
       "        vertical-align: top;\n",
       "    }\n",
       "\n",
       "    .dataframe thead th {\n",
       "        text-align: right;\n",
       "    }\n",
       "</style>\n",
       "<table border=\"1\" class=\"dataframe\">\n",
       "  <thead>\n",
       "    <tr style=\"text-align: right;\">\n",
       "      <th></th>\n",
       "      <th>maturity</th>\n",
       "      <th>spot_rate</th>\n",
       "      <th>strip</th>\n",
       "      <th>l</th>\n",
       "      <th>forward_rate</th>\n",
       "    </tr>\n",
       "  </thead>\n",
       "  <tbody>\n",
       "    <tr>\n",
       "      <th>0</th>\n",
       "      <td>0.5</td>\n",
       "      <td>0.00490</td>\n",
       "      <td>97.582693</td>\n",
       "      <td>1.0</td>\n",
       "      <td>NaN</td>\n",
       "    </tr>\n",
       "    <tr>\n",
       "      <th>1</th>\n",
       "      <td>1.0</td>\n",
       "      <td>0.00833</td>\n",
       "      <td>95.928841</td>\n",
       "      <td>2.0</td>\n",
       "      <td>0.000091</td>\n",
       "    </tr>\n",
       "    <tr>\n",
       "      <th>2</th>\n",
       "      <td>1.5</td>\n",
       "      <td>0.01159</td>\n",
       "      <td>94.385499</td>\n",
       "      <td>3.0</td>\n",
       "      <td>0.000194</td>\n",
       "    </tr>\n",
       "    <tr>\n",
       "      <th>3</th>\n",
       "      <td>2.0</td>\n",
       "      <td>0.01446</td>\n",
       "      <td>93.049378</td>\n",
       "      <td>4.0</td>\n",
       "      <td>0.000298</td>\n",
       "    </tr>\n",
       "    <tr>\n",
       "      <th>4</th>\n",
       "      <td>2.5</td>\n",
       "      <td>0.01702</td>\n",
       "      <td>91.875118</td>\n",
       "      <td>5.0</td>\n",
       "      <td>0.000401</td>\n",
       "    </tr>\n",
       "    <tr>\n",
       "      <th>5</th>\n",
       "      <td>3.0</td>\n",
       "      <td>0.01933</td>\n",
       "      <td>90.829512</td>\n",
       "      <td>6.0</td>\n",
       "      <td>0.000500</td>\n",
       "    </tr>\n",
       "    <tr>\n",
       "      <th>6</th>\n",
       "      <td>3.5</td>\n",
       "      <td>0.02145</td>\n",
       "      <td>89.881419</td>\n",
       "      <td>7.0</td>\n",
       "      <td>0.000601</td>\n",
       "    </tr>\n",
       "    <tr>\n",
       "      <th>7</th>\n",
       "      <td>4.0</td>\n",
       "      <td>0.02339</td>\n",
       "      <td>89.023356</td>\n",
       "      <td>8.0</td>\n",
       "      <td>0.000690</td>\n",
       "    </tr>\n",
       "    <tr>\n",
       "      <th>8</th>\n",
       "      <td>4.5</td>\n",
       "      <td>0.02518</td>\n",
       "      <td>88.239626</td>\n",
       "      <td>9.0</td>\n",
       "      <td>0.000776</td>\n",
       "    </tr>\n",
       "    <tr>\n",
       "      <th>9</th>\n",
       "      <td>5.0</td>\n",
       "      <td>0.02683</td>\n",
       "      <td>87.523911</td>\n",
       "      <td>10.0</td>\n",
       "      <td>0.000850</td>\n",
       "    </tr>\n",
       "  </tbody>\n",
       "</table>\n",
       "</div>"
      ],
      "text/plain": [
       "   maturity  spot_rate      strip     l  forward_rate\n",
       "0       0.5    0.00490  97.582693   1.0           NaN\n",
       "1       1.0    0.00833  95.928841   2.0      0.000091\n",
       "2       1.5    0.01159  94.385499   3.0      0.000194\n",
       "3       2.0    0.01446  93.049378   4.0      0.000298\n",
       "4       2.5    0.01702  91.875118   5.0      0.000401\n",
       "5       3.0    0.01933  90.829512   6.0      0.000500\n",
       "6       3.5    0.02145  89.881419   7.0      0.000601\n",
       "7       4.0    0.02339  89.023356   8.0      0.000690\n",
       "8       4.5    0.02518  88.239626   9.0      0.000776\n",
       "9       5.0    0.02683  87.523911  10.0      0.000850"
      ]
     },
     "execution_count": 5,
     "metadata": {},
     "output_type": "execute_result"
    }
   ],
   "source": [
    "# Obtains the total number of periods for the respective spot rate\n",
    "df['l'] = 2*df['maturity']\n",
    "\n",
    "# Calculates the forward rate\n",
    "df['forward_rate'] = m * (-1 + ((1 + df['spot_rate']/m)**(df['l']*df['spot_rate'])) / ((1 + df['spot_rate'].shift()/m)**(df['l']*df['spot_rate'].shift())) )\n",
    "\n",
    "df"
   ]
  },
  {
   "cell_type": "code",
   "execution_count": 6,
   "metadata": {},
   "outputs": [
    {
     "data": {
      "image/png": "[encoded data removed]",
      "text/plain": [
       "<Figure size 1080x504 with 1 Axes>"
      ]
     },
     "metadata": {},
     "output_type": "display_data"
    }
   ],
   "source": [
    "# Plots the forward yield curve\n",
    "plt.plot(df['maturity'], df['forward_rate'])\n",
    "plt.title(\"Forward Yield Curve\")\n",
    "plt.ylabel(\"Forward Rate\")\n",
    "plt.xlabel(\"Maturity\")\n",
    "plt.show()"
   ]
  },
  {
   "cell_type": "markdown",
   "metadata": {},
   "source": [
    "# Question 5"
   ]
  },
  {
   "cell_type": "markdown",
   "metadata": {},
   "source": [
    "## a) Bond Price Using Spot Rates"
   ]
  },
  {
   "cell_type": "markdown",
   "metadata": {},
   "source": [
    "The price of a bond depends on its par value, its coupon, its discount rate and its maturity. Mathematically, it is defined as follows:\n",
    "\n",
    "\\begin{align*}\n",
    "    P & = \\frac{M}{\\left(1 + \\frac{y}{m}\\right)^N} + \\sum^{N}_{i=1} \\frac{C}{\\left(1 + \\frac{y}{m}\\right)^i}\n",
    "\\end{align*}\n",
    "\n",
    "We can translate that into code by the following function:"
   ]
  },
  {
   "cell_type": "code",
   "execution_count": 7,
   "metadata": {},
   "outputs": [],
   "source": [
    "def bond_price(C, M, y, m, N):\n",
    "    \"\"\"\n",
    "    Price a bond using the present value formula.\n",
    "\n",
    "    Args:\n",
    "        C (float): coupon\n",
    "        M (float): principal amount\n",
    "        y (float): list with according discount rates\n",
    "        m (int): number of payment periods per year\n",
    "        N (int): maturity period\n",
    "\n",
    "    Returns:\n",
    "        float: present value of the bond\n",
    "    \"\"\"\n",
    "\n",
    "    P = M / np.prod([(1+y[j]/m) for j in range(N)])\n",
    "    for i in range(N):\n",
    "        P += C / np.prod([(1+y[j]/m) for j in range(i+1)])\n",
    "    return P"
   ]
  },
  {
   "cell_type": "markdown",
   "metadata": {},
   "source": [
    "Now, assuming that the French government issued today (1st of January 2022) a 3-year government bond that pays semi-annually a 4% coupon (par value = 1,000€), we have the following:"
   ]
  },
  {
   "cell_type": "code",
   "execution_count": 11,
   "metadata": {},
   "outputs": [
    {
     "name": "stdout",
     "output_type": "stream",
     "text": [
      "Bond price with spot rate: 1047.2681\n",
      "Bond price with forward rate: 1057.2637\n"
     ]
    }
   ],
   "source": [
    "# Defines parameters\n",
    "N = 3            # Maturity period\n",
    "M = 1000         # Par value\n",
    "C = 0.04 * M/2   # Coupon\n",
    "m = 2            # Number of payments per period\n",
    "\n",
    "# Calculates bond price using spot rates\n",
    "y = df[df['maturity'] <= 3]['spot_rate']\n",
    "P = bond_price(C, M, y, m, N)\n",
    "print(f\"Bond price with spot rate: {P:.4f}\")\n",
    "\n",
    "# Calculates bond price using forward rates\n",
    "y = df[df['maturity'] <= 3]['forward_rate'].tolist()\n",
    "y[0] = df['spot_rate'].iloc[0]\n",
    "P = bond_price(C, M, y, m, N)\n",
    "print(f\"Bond price with forward rate: {P:.4f}\")"
   ]
  },
  {
   "cell_type": "markdown",
   "metadata": {},
   "source": [
    "# Question 6"
   ]
  },
  {
   "cell_type": "markdown",
   "metadata": {},
   "source": [
    "## Dirty Price of the Bond\n",
    "\n",
    "The dirty bond pricing equation using a different spot rate per period becomes:\n",
    "\n",
    "\\begin{align*}\n",
    "    P & = \\frac{M}{\\left(1 + \\frac{s_N}{m}\\right)^{N-1+w}} + \\sum_{C}^{N-1} \\frac{C}{\\left(1 + \\frac{s_i}{m}\\right)^{i+w}}\n",
    "\\end{align*}"
   ]
  },
  {
   "cell_type": "code",
   "execution_count": null,
   "metadata": {},
   "outputs": [],
   "source": []
  },
  {
   "cell_type": "markdown",
   "metadata": {},
   "source": [
    "## Clean Price of the Bond"
   ]
  },
  {
   "cell_type": "code",
   "execution_count": null,
   "metadata": {},
   "outputs": [],
   "source": []
  },
  {
   "cell_type": "markdown",
   "metadata": {},
   "source": [
    "# Question 7"
   ]
  },
  {
   "cell_type": "code",
   "execution_count": null,
   "metadata": {},
   "outputs": [],
   "source": []
  },
  {
   "cell_type": "markdown",
   "metadata": {},
   "source": [
    "# Question 8"
   ]
  },
  {
   "cell_type": "code",
   "execution_count": null,
   "metadata": {},
   "outputs": [],
   "source": []
  },
  {
   "cell_type": "markdown",
   "metadata": {},
   "source": [
    "# Question 9"
   ]
  },
  {
   "cell_type": "code",
   "execution_count": null,
   "metadata": {},
   "outputs": [],
   "source": []
  }
 ],
 "metadata": {
  "interpreter": {
   "hash": "c3bff2c7d26c1785fda759cac4d8031bd96222f702abd1309d35d8a56a9ef905"
  },
  "kernelspec": {
   "display_name": "Python 3.9.4 ('venv': venv)",
   "language": "python",
   "name": "python3"
  },
  "language_info": {
   "codemirror_mode": {
    "name": "ipython",
    "version": 3
   },
   "file_extension": ".py",
   "mimetype": "text/x-python",
   "name": "python",
   "nbconvert_exporter": "python",
   "pygments_lexer": "ipython3",
   "version": "3.9.4"
  },
  "orig_nbformat": 4
 },
 "nbformat": 4,
 "nbformat_minor": 2
}
