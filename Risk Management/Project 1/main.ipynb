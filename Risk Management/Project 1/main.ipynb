{
 "cells": [
  {
   "cell_type": "markdown",
   "metadata": {},
   "source": [
    "# Options Project\n",
    "\n",
    "*By Daniel Deutsch and José Lucas Barretto*"
   ]
  },
  {
   "cell_type": "code",
   "execution_count": 1,
   "metadata": {},
   "outputs": [],
   "source": [
    "import pandas as pd\n",
    "import numpy as np\n",
    "import networkx as nx\n",
    "import yfinance as yf\n",
    "from scipy import stats\n",
    "from matplotlib import pyplot as plt"
   ]
  },
  {
   "cell_type": "code",
   "execution_count": 2,
   "metadata": {},
   "outputs": [],
   "source": [
    "plt.style.use('ggplot')\n",
    "plt.rcParams.update({\n",
    "    'figure.figsize': (15, 4),\n",
    "    'axes.prop_cycle': plt.cycler(color=[\"#4C72B0\", \"#C44E52\", \"#55A868\", \"#8172B2\", \"#CCB974\", \"#64B5CD\"]),\n",
    "    'axes.facecolor': \"#EAEAF2\"\n",
    "})"
   ]
  },
  {
   "cell_type": "markdown",
   "metadata": {},
   "source": [
    "# Question 1\n",
    "\n",
    "For this project we decided to use Apple stocks as our underlying asset for the option we intend to create. Thus, we download its historical data through YahooFinance's python library and use __ as the risk free rate."
   ]
  },
  {
   "cell_type": "code",
   "execution_count": 3,
   "metadata": {},
   "outputs": [
    {
     "data": {
      "text/html": [
       "<div>\n",
       "<style scoped>\n",
       "    .dataframe tbody tr th:only-of-type {\n",
       "        vertical-align: middle;\n",
       "    }\n",
       "\n",
       "    .dataframe tbody tr th {\n",
       "        vertical-align: top;\n",
       "    }\n",
       "\n",
       "    .dataframe thead th {\n",
       "        text-align: right;\n",
       "    }\n",
       "</style>\n",
       "<table border=\"1\" class=\"dataframe\">\n",
       "  <thead>\n",
       "    <tr style=\"text-align: right;\">\n",
       "      <th></th>\n",
       "      <th>close</th>\n",
       "      <th>adj close</th>\n",
       "    </tr>\n",
       "    <tr>\n",
       "      <th>Date</th>\n",
       "      <th></th>\n",
       "      <th></th>\n",
       "    </tr>\n",
       "  </thead>\n",
       "  <tbody>\n",
       "    <tr>\n",
       "      <th>2021-03-11</th>\n",
       "      <td>121.959999</td>\n",
       "      <td>121.239403</td>\n",
       "    </tr>\n",
       "    <tr>\n",
       "      <th>2021-03-12</th>\n",
       "      <td>121.029999</td>\n",
       "      <td>120.314911</td>\n",
       "    </tr>\n",
       "    <tr>\n",
       "      <th>2021-03-15</th>\n",
       "      <td>123.989998</td>\n",
       "      <td>123.257416</td>\n",
       "    </tr>\n",
       "    <tr>\n",
       "      <th>2021-03-16</th>\n",
       "      <td>125.570000</td>\n",
       "      <td>124.828079</td>\n",
       "    </tr>\n",
       "    <tr>\n",
       "      <th>2021-03-17</th>\n",
       "      <td>124.760002</td>\n",
       "      <td>124.022865</td>\n",
       "    </tr>\n",
       "    <tr>\n",
       "      <th>...</th>\n",
       "      <td>...</td>\n",
       "      <td>...</td>\n",
       "    </tr>\n",
       "    <tr>\n",
       "      <th>2022-03-07</th>\n",
       "      <td>159.300003</td>\n",
       "      <td>159.300003</td>\n",
       "    </tr>\n",
       "    <tr>\n",
       "      <th>2022-03-08</th>\n",
       "      <td>157.440002</td>\n",
       "      <td>157.440002</td>\n",
       "    </tr>\n",
       "    <tr>\n",
       "      <th>2022-03-09</th>\n",
       "      <td>162.949997</td>\n",
       "      <td>162.949997</td>\n",
       "    </tr>\n",
       "    <tr>\n",
       "      <th>2022-03-10</th>\n",
       "      <td>158.520004</td>\n",
       "      <td>158.520004</td>\n",
       "    </tr>\n",
       "    <tr>\n",
       "      <th>2022-03-11</th>\n",
       "      <td>154.729996</td>\n",
       "      <td>154.729996</td>\n",
       "    </tr>\n",
       "  </tbody>\n",
       "</table>\n",
       "<p>254 rows × 2 columns</p>\n",
       "</div>"
      ],
      "text/plain": [
       "                 close   adj close\n",
       "Date                              \n",
       "2021-03-11  121.959999  121.239403\n",
       "2021-03-12  121.029999  120.314911\n",
       "2021-03-15  123.989998  123.257416\n",
       "2021-03-16  125.570000  124.828079\n",
       "2021-03-17  124.760002  124.022865\n",
       "...                ...         ...\n",
       "2022-03-07  159.300003  159.300003\n",
       "2022-03-08  157.440002  157.440002\n",
       "2022-03-09  162.949997  162.949997\n",
       "2022-03-10  158.520004  158.520004\n",
       "2022-03-11  154.729996  154.729996\n",
       "\n",
       "[254 rows x 2 columns]"
      ]
     },
     "execution_count": 3,
     "metadata": {},
     "output_type": "execute_result"
    }
   ],
   "source": [
    "df = yf.download('AAPL', progress=False, show_errors=False)\n",
    "df.rename(columns=str.lower, inplace=True)\n",
    "df = df.loc['2021-03-11':'2022-03-11', ['close', 'adj close']]\n",
    "df"
   ]
  },
  {
   "cell_type": "markdown",
   "metadata": {},
   "source": [
    "# Question 2"
   ]
  },
  {
   "cell_type": "markdown",
   "metadata": {},
   "source": [
    "## a) Risk-Free Rate\n",
    "\n",
    "For the risk-free rate we decided to use [Market Yield on U.S. Treasury Securities at 1-Year Constant Maturity](https://fred.stlouisfed.org/series/DGS1). The value we are using is for March 11th 2022."
   ]
  },
  {
   "cell_type": "code",
   "execution_count": 4,
   "metadata": {},
   "outputs": [],
   "source": [
    "r = 0.0122"
   ]
  },
  {
   "cell_type": "markdown",
   "metadata": {},
   "source": [
    "## b) Projection Period\n",
    "\n",
    "The projection period used in this project should match the maturity of the risk-free rate chosen. Therefore, in our case, T should be 1 year."
   ]
  },
  {
   "cell_type": "code",
   "execution_count": 5,
   "metadata": {},
   "outputs": [],
   "source": [
    "T = 1"
   ]
  },
  {
   "cell_type": "markdown",
   "metadata": {},
   "source": [
    "## c) Annualized Volatility\n",
    "\n",
    "The annualized volatility can be calculated through the following formula:\n",
    "\n",
    "\\begin{align*}\n",
    "    \\sigma_a & = \\sigma_{daily} * \\sqrt{\\text{trading days in a year}}\n",
    "\\end{align*}\n",
    "\n",
    "Note that the standar deviation is calculated using data covering a period equal to the length of the maturity T, so we will consider AAPL stock prices from 11 March 2021 to 11 March 2022."
   ]
  },
  {
   "cell_type": "code",
   "execution_count": 6,
   "metadata": {},
   "outputs": [],
   "source": [
    "sigma = df['close'].pct_change().std()*np.sqrt(253)"
   ]
  },
  {
   "cell_type": "markdown",
   "metadata": {},
   "source": [
    "# Question 3"
   ]
  },
  {
   "cell_type": "code",
   "execution_count": 7,
   "metadata": {},
   "outputs": [],
   "source": [
    "# Obtains the strike prices as requested\n",
    "X1 = df['close'].mean()\n",
    "X2 = 1.1*df['close'].iloc[-1]"
   ]
  },
  {
   "cell_type": "markdown",
   "metadata": {},
   "source": [
    "## a) American Options Using Two-Step BOPM"
   ]
  },
  {
   "cell_type": "code",
   "execution_count": 8,
   "metadata": {},
   "outputs": [],
   "source": [
    "def BOPM(S, X, sigma, r, T, N, _type='american', _action='call'):\n",
    "    \"\"\"_summary_\n",
    "\n",
    "    Args:\n",
    "        S (float): Market price of the underlying at initial date\n",
    "        X (float): Strike price of the underlying at maturity T\n",
    "        sigma (float): annualized volatility of the underlying asset's returns\n",
    "        r (float): risk free rate\n",
    "        T (int): Maturity\n",
    "        N (int): Number of timesteps\n",
    "        _type (str, optional): Type of the option (either 'american' or 'european'). Defaults to 'american'.\n",
    "        _action (str, optional): Action to be performed (either 'call' or 'put'). Defaults to 'call'.\n",
    "\n",
    "    Returns:\n",
    "        _type_: _description_\n",
    "    \"\"\"\n",
    "    \n",
    "    # Calculates variables\n",
    "    dt = T/N\n",
    "    u = np.exp( sigma * np.sqrt(dt) )\n",
    "    d =  np.exp( -sigma * np.sqrt(dt) )\n",
    "    pi_u = ( np.exp(r*dt) - d) / (u - d)\n",
    "\n",
    "    # Instantiates arrays\n",
    "    stock_prices = np.zeros((N+1, N+1))\n",
    "    intrinsic_values = np.zeros((N+1, N+1))\n",
    "    option_prices = np.zeros((N+1, N+1))\n",
    "\n",
    "    # Fills the intrinsic value and stock arrays\n",
    "    for i in range(N+1):\n",
    "        for j in range(i+1):\n",
    "            stock_prices[i, j] = S * u**j * d**(i-j)\n",
    "            if _action == 'call':\n",
    "                intrinsic_values[i, j] = max(stock_prices[i, j] - X, 0)\n",
    "            elif _action == 'put':\n",
    "                intrinsic_values[i, j] = max(X - stock_prices[i, j], 0)\n",
    "\n",
    "    # Calculates the option array\n",
    "    option_prices[option_prices.shape[0]-1, :] = intrinsic_values[intrinsic_values.shape[0]-1, :]\n",
    "    for i in list(range(N))[::-1]:\n",
    "        for j in list(range(i+1)):\n",
    "            option_prices[i, j] = ((1-pi_u)*option_prices[i+1, j] + pi_u*option_prices[i+1, j+1])/np.exp(r*dt)\n",
    "\n",
    "    # for american options, substitute the european option price with the maximum between the price and the intrinsic value\n",
    "    if _type=='american':\n",
    "        option_prices = np.maximum(option_prices, intrinsic_values)\n",
    "\n",
    "    return option_prices[0, 0], option_prices, stock_prices\n",
    "\n",
    "\n",
    "def plot_tree(option_prices):\n",
    "\n",
    "    n, _ = option_prices.shape\n",
    "\n",
    "    G = nx.Graph()\n",
    "    for i in range(0, n+1):\n",
    "        for j in range(1, i+1):\n",
    "            if i < n:\n",
    "                G.add_edge( (i, j), (i+1, j) )\n",
    "                G.add_edge( (i, j), (i+1, j+1) )\n",
    "\n",
    "    nx.draw(\n",
    "        G,\n",
    "        node_size=1600,\n",
    "        pos={ node: ( node[0], n+2+node[0]-2*node[1] ) for node in G.nodes() },\n",
    "        labels={ node: f\"${price:.2f}\" for node, price in zip(G.nodes(), option_prices[np.tril_indices(option_prices.shape[0])] ) }\n",
    "    )\n",
    "    plt.show()   \n"
   ]
  },
  {
   "cell_type": "markdown",
   "metadata": {},
   "source": [
    "### Call"
   ]
  },
  {
   "cell_type": "code",
   "execution_count": 9,
   "metadata": {},
   "outputs": [
    {
     "data": {
      "image/png": "[encoded data removed]",
      "text/plain": [
       "<Figure size 1080x288 with 1 Axes>"
      ]
     },
     "metadata": {},
     "output_type": "display_data"
    }
   ],
   "source": [
    "price, option_prices, stock_prices = BOPM(df['close'].iloc[-1], X1, sigma, r, T, 2, _type='american', _action='call')\n",
    "plot_tree(option_prices)"
   ]
  },
  {
   "cell_type": "code",
   "execution_count": 10,
   "metadata": {},
   "outputs": [
    {
     "data": {
      "image/png": "[encoded data removed]",
      "text/plain": [
       "<Figure size 1080x288 with 1 Axes>"
      ]
     },
     "metadata": {},
     "output_type": "display_data"
    }
   ],
   "source": [
    "price, option_prices, stock_prices = BOPM(df['close'].iloc[-1], X2, sigma, r, T, 2, _type='american', _action='call')\n",
    "plot_tree(option_prices)"
   ]
  },
  {
   "cell_type": "markdown",
   "metadata": {},
   "source": [
    "### Put"
   ]
  },
  {
   "cell_type": "code",
   "execution_count": 11,
   "metadata": {},
   "outputs": [
    {
     "data": {
      "image/png": "[encoded data removed]",
      "text/plain": [
       "<Figure size 1080x288 with 1 Axes>"
      ]
     },
     "metadata": {},
     "output_type": "display_data"
    }
   ],
   "source": [
    "price, option_prices, stock_prices = BOPM(df['close'].iloc[-1], X1, sigma, r, T, 2, _type='american', _action='put')\n",
    "plot_tree(option_prices)"
   ]
  },
  {
   "cell_type": "code",
   "execution_count": 12,
   "metadata": {},
   "outputs": [
    {
     "data": {
      "image/png": "[encoded data removed]",
      "text/plain": [
       "<Figure size 1080x288 with 1 Axes>"
      ]
     },
     "metadata": {},
     "output_type": "display_data"
    }
   ],
   "source": [
    "price, option_prices, stock_prices = BOPM(df['close'].iloc[-1], X2, sigma, r, T, 2, _type='american', _action='put')\n",
    "plot_tree(option_prices)"
   ]
  },
  {
   "cell_type": "markdown",
   "metadata": {},
   "source": [
    "## b) European Options Using BSMOPM"
   ]
  },
  {
   "cell_type": "code",
   "execution_count": 13,
   "metadata": {},
   "outputs": [],
   "source": [
    "def BSMOPM(S, X, sigma, r, T, _type='american', action_='call'):\n",
    "    \n",
    "    d1 = (np.log(S/X) + (r+sigma**2/2)*T) / (sigma*np.sqrt(T))\n",
    "    d2 = d1 - sigma*np.sqrt(T)\n",
    "\n",
    "    C = S*stats.norm.cdf(d1) - X*np.exp(-r*T)*stats.norm.cdf(d2)\n",
    "    P = C - S + (X*np.exp(-r*T))\n",
    "\n",
    "    return C if action_ == 'call' else P"
   ]
  },
  {
   "cell_type": "markdown",
   "metadata": {},
   "source": [
    "### Put"
   ]
  },
  {
   "cell_type": "code",
   "execution_count": 14,
   "metadata": {},
   "outputs": [
    {
     "data": {
      "text/plain": [
       "10.612599606065032"
      ]
     },
     "execution_count": 14,
     "metadata": {},
     "output_type": "execute_result"
    }
   ],
   "source": [
    "price = BSMOPM(df['adj close'].iloc[-1], X1, sigma, r, T, action_='put')\n",
    "price"
   ]
  },
  {
   "cell_type": "code",
   "execution_count": 15,
   "metadata": {},
   "outputs": [
    {
     "data": {
      "text/plain": [
       "23.121450518202636"
      ]
     },
     "execution_count": 15,
     "metadata": {},
     "output_type": "execute_result"
    }
   ],
   "source": [
    "price = BSMOPM(df['adj close'].iloc[-1], X2, sigma, r, T, action_='put')\n",
    "price"
   ]
  },
  {
   "cell_type": "markdown",
   "metadata": {},
   "source": [
    "### Call"
   ]
  },
  {
   "cell_type": "code",
   "execution_count": 16,
   "metadata": {},
   "outputs": [
    {
     "data": {
      "text/plain": [
       "19.087948688803692"
      ]
     },
     "execution_count": 16,
     "metadata": {},
     "output_type": "execute_result"
    }
   ],
   "source": [
    "price = BSMOPM(df['adj close'].iloc[-1], X1, sigma, r, T, action_='call')\n",
    "price"
   ]
  },
  {
   "cell_type": "code",
   "execution_count": 17,
   "metadata": {},
   "outputs": [
    {
     "data": {
      "text/plain": [
       "9.71231233493915"
      ]
     },
     "execution_count": 17,
     "metadata": {},
     "output_type": "execute_result"
    }
   ],
   "source": [
    "price = BSMOPM(df['adj close'].iloc[-1], X2, sigma, r, T, action_='call')\n",
    "price"
   ]
  },
  {
   "cell_type": "markdown",
   "metadata": {},
   "source": [
    "## c) Model Comparison"
   ]
  },
  {
   "cell_type": "code",
   "execution_count": 18,
   "metadata": {},
   "outputs": [
    {
     "data": {
      "image/png": "[encoded data removed]",
      "text/plain": [
       "<Figure size 1080x288 with 1 Axes>"
      ]
     },
     "metadata": {},
     "output_type": "display_data"
    }
   ],
   "source": [
    "# Global parameters\n",
    "S = df['adj close'].iloc[-1]\n",
    "X = X1\n",
    "\n",
    "binomial_tree, black_scholes = [], []\n",
    "for N in range(1, 50):\n",
    "\n",
    "    # Appends binomial tree price\n",
    "    price, _, __ = BOPM(S, X, sigma, r, T, N)\n",
    "    binomial_tree.append(price)\n",
    "\n",
    "    # Appends Black Scholes price\n",
    "    price = BSMOPM(S, X, sigma, r, T)\n",
    "    black_scholes.append(price)\n",
    "\n",
    "# Plot\n",
    "plt.plot(range(1, 50), binomial_tree, label=\"Binomial Tree\")\n",
    "plt.plot(range(1, 50), black_scholes, label=\"Black Scholes\")\n",
    "plt.title(\"Convergence of BOPM to BSMOPM\")\n",
    "plt.ylabel(\"Option Price\")\n",
    "plt.xlabel(\"Number of BOPM Timesteps\")\n",
    "plt.legend()\n",
    "plt.show()"
   ]
  },
  {
   "cell_type": "markdown",
   "metadata": {},
   "source": [
    "From the plot above one can observe that the Binary Tree Model tends to converge to the same value as the one obtained through the Black and Scholes method."
   ]
  },
  {
   "cell_type": "markdown",
   "metadata": {},
   "source": [
    "# Question 4"
   ]
  },
  {
   "cell_type": "markdown",
   "metadata": {},
   "source": [
    "## a) Calculating Delta\n",
    "\n",
    "$\\Delta$ measures the change in price of an option ($O$), relative to the change in price of the option’s underlying asset ($S$). Therefore, when the asset’s price changes, so does the delta. Mathematically:\n",
    "\n",
    "\\begin{align*}\n",
    "    \\Delta & = \\frac{\\partial O}{\\partial S}\n",
    "\\end{align*}\n",
    "\n",
    "For European options, delta can be calculated as the $\\mathcal{N}(d_1)$ from the Black-Scholes-Merton option pricing model:\n",
    "\n",
    "\\begin{cases}\n",
    "    \\Delta_{\\text{call}} & = \\mathcal{N}\\left(\\frac{ln\\left(\\frac{S_0}{X}\\right) + \\left(r + \\frac{\\sigma^2}{2} \\right)*T}{\\sigma \\sqrt{T}}\\right) \\\\\n",
    "    \\Delta_{\\text{put}} & = \\mathcal{N}\\left(\\frac{ln\\left(\\frac{S_0}{X}\\right) + \\left(r + \\frac{\\sigma^2}{2} \\right)*T}{\\sigma \\sqrt{T}}\\right) - 1\n",
    "\\end{cases}"
   ]
  },
  {
   "cell_type": "markdown",
   "metadata": {},
   "source": [
    "### European Call"
   ]
  },
  {
   "cell_type": "code",
   "execution_count": 19,
   "metadata": {},
   "outputs": [
    {
     "name": "stdout",
     "output_type": "stream",
     "text": [
      "When AAPL stock price changes by $1, the option will change by $0.638.\n"
     ]
    }
   ],
   "source": [
    "d1 = (np.log(S/X) + (r+sigma**2/2)*T) / (sigma*np.sqrt(T))\n",
    "delta = stats.norm.cdf(d1)\n",
    "\n",
    "print(f\"When AAPL stock price changes by $1, the option will change by ${delta:.3f}.\")"
   ]
  },
  {
   "cell_type": "markdown",
   "metadata": {},
   "source": [
    "### European Put"
   ]
  },
  {
   "cell_type": "code",
   "execution_count": 20,
   "metadata": {},
   "outputs": [
    {
     "name": "stdout",
     "output_type": "stream",
     "text": [
      "When AAPL stock price changes by $1, the option will change by $-0.362.\n"
     ]
    }
   ],
   "source": [
    "d1 = (np.log(S/X) + (r+sigma**2/2)*T) / (sigma*np.sqrt(T))\n",
    "delta = stats.norm.cdf(d1) - 1\n",
    "\n",
    "print(f\"When AAPL stock price changes by $1, the option will change by ${delta:.3f}.\")"
   ]
  },
  {
   "cell_type": "markdown",
   "metadata": {},
   "source": [
    "## b) Delta-Neutral Portfolio\n",
    "\n",
    "Delta neutrality describes a portfolio composed of financial assets and their related options, such that the value of the portfolio remains unchanged when small changes occur in the value of the financial assets’ prices."
   ]
  },
  {
   "cell_type": "markdown",
   "metadata": {},
   "source": [
    "### Covered Call\n",
    "\n",
    "A portfolio composed of $x$ long (=buying) shares of Apple stock and $y$ short (=selling) call options of AAPL. Therefore, an investor is buying $x$ shares of Apple and selling $y$ Apple call options.\n",
    "\n",
    "For a hedge (protection) using call options, the following mathematical formula is applied:\n",
    "\n",
    "\\begin{align*}\n",
    "    \\text{Number of call options needed to hedge} & = \\frac{\\text{Number of shares of an asset}}{\\text{Delta of the call option}}\n",
    "\\end{align*}"
   ]
  },
  {
   "cell_type": "code",
   "execution_count": 21,
   "metadata": {},
   "outputs": [
    {
     "name": "stdout",
     "output_type": "stream",
     "text": [
      "Delta: 0.638\n",
      "To create a delta-neutral portfolio that longs 23000 shares of AAPL stock, it would be necessary to sell 36030.695 AAPL call options.\n"
     ]
    }
   ],
   "source": [
    "# Defines the number of AAPL shares\n",
    "n_shares = 23000\n",
    "\n",
    "# Calculate the delta for the call option\n",
    "d1 = (np.log(S/X) + (r+sigma**2/2)*T) / (sigma*np.sqrt(T))\n",
    "delta = stats.norm.cdf(d1)\n",
    "\n",
    "# Calculates the the number of options necessary to create a delta-neutral portfolio\n",
    "n_options = n_shares/delta\n",
    "\n",
    "print(f\"Delta: {delta:.3f}\")\n",
    "print(f\"To create a delta-neutral portfolio that longs 23000 shares of AAPL stock, it would be necessary to sell {n_options:.3f} AAPL call options.\")"
   ]
  },
  {
   "cell_type": "markdown",
   "metadata": {},
   "source": [
    "### Protective Put\n",
    "\n",
    "A portfolio composed of $x$ long (=buying) shares of Apple stock and $y$ long (=buying) put options of AAPL. Therefore, an investor is buying $x$ shares of Apple and buying $y$ Apple put options.\n",
    "\n",
    "For a hedge (protection) using put options, the following mathematical formula is applied:\n",
    "\n",
    "\\begin{align*}\n",
    "    \\text{Number of put options needed to hedge} & = \\frac{-\\text{Number of shares of an asset}}{\\text{Delta of the call option}}\n",
    "\\end{align*}"
   ]
  },
  {
   "cell_type": "code",
   "execution_count": 22,
   "metadata": {},
   "outputs": [
    {
     "name": "stdout",
     "output_type": "stream",
     "text": [
      "Delta: -0.362\n",
      "To create a delta-neutral portfolio that longs 23000 shares of AAPL stock, it would be necessary to buy 63596.453 AAPL put options.\n"
     ]
    }
   ],
   "source": [
    "# Defines the number of AAPL shares\n",
    "n_shares = 23000\n",
    "\n",
    "# Calculate the delta for the put option\n",
    "d1 = (np.log(S/X) + (r+sigma**2/2)*T) / (sigma*np.sqrt(T))\n",
    "delta = stats.norm.cdf(d1) - 1\n",
    "\n",
    "# Calculates the the number of options necessary to create a delta-neutral portfolio\n",
    "n_options = -n_shares/delta\n",
    "\n",
    "print(f\"Delta: {delta:.3f}\")\n",
    "print(f\"To create a delta-neutral portfolio that longs 23000 shares of AAPL stock, it would be necessary to buy {n_options:.3f} AAPL put options.\")"
   ]
  },
  {
   "cell_type": "markdown",
   "metadata": {},
   "source": [
    "## c and d) Effects on Delta-Neutral Portfolio"
   ]
  },
  {
   "cell_type": "markdown",
   "metadata": {},
   "source": [
    "Now let's see what happens to delta and to the delta-neutral portfolio if the price of the asset increases by $0.85."
   ]
  },
  {
   "cell_type": "markdown",
   "metadata": {},
   "source": [
    "### Covered Call"
   ]
  },
  {
   "cell_type": "code",
   "execution_count": 23,
   "metadata": {},
   "outputs": [
    {
     "name": "stdout",
     "output_type": "stream",
     "text": [
      "Delta: 0.647\n",
      "To create a delta-neutral portfolio that longs 23000 shares of AAPL stock, it would be necessary to sell 35559.014 AAPL call options.\n"
     ]
    }
   ],
   "source": [
    "# Defines the number of AAPL shares\n",
    "n_shares = 23000\n",
    "\n",
    "# Calculate the delta for the call option\n",
    "d1 = (np.log((S+0.85)/X) + (r+sigma**2/2)*T) / (sigma*np.sqrt(T))\n",
    "delta = stats.norm.cdf(d1)\n",
    "\n",
    "# Calculates the the number of options necessary to create a delta-neutral portfolio\n",
    "n_options = n_shares/delta\n",
    "\n",
    "print(f\"Delta: {delta:.3f}\")\n",
    "print(f\"To create a delta-neutral portfolio that longs 23000 shares of AAPL stock, it would be necessary to sell {n_options:.3f} AAPL call options.\")"
   ]
  },
  {
   "cell_type": "markdown",
   "metadata": {},
   "source": [
    "As seen from the output above, if an AAPL stock increases its price by $0.85, considering a covered call strategy, to keep a delta-neutral portfolio, it would be necessary to buy 471 options."
   ]
  },
  {
   "cell_type": "markdown",
   "metadata": {},
   "source": [
    "### Protective Put"
   ]
  },
  {
   "cell_type": "code",
   "execution_count": 24,
   "metadata": {},
   "outputs": [
    {
     "name": "stdout",
     "output_type": "stream",
     "text": [
      "Delta: -0.353\n",
      "To create a delta-neutral portfolio that longs 23000 shares of AAPL stock, it would be necessary to buy 65121.141 AAPL put options.\n"
     ]
    }
   ],
   "source": [
    "# Defines the number of AAPL shares\n",
    "n_shares = 23000\n",
    "\n",
    "# Calculate the delta for the put option\n",
    "d1 = (np.log((S+0.85)/X) + (r+sigma**2/2)*T) / (sigma*np.sqrt(T))\n",
    "delta = stats.norm.cdf(d1) - 1\n",
    "\n",
    "# Calculates the the number of options necessary to create a delta-neutral portfolio\n",
    "n_options = -n_shares/delta\n",
    "\n",
    "print(f\"Delta: {delta:.3f}\")\n",
    "print(f\"To create a delta-neutral portfolio that longs 23000 shares of AAPL stock, it would be necessary to buy {n_options:.3f} AAPL put options.\")"
   ]
  },
  {
   "cell_type": "markdown",
   "metadata": {},
   "source": [
    "As seen from the output above, if an AAPL stock increases its price by $0.85, the delta values also change. For this reason, to maintain delta-neutrality, it is necessary to rebalance the portfolio. For example, considering a covered call strategy, to keep a delta-neutral portfolio, it would be necessary to sell 1525 options."
   ]
  },
  {
   "cell_type": "markdown",
   "metadata": {},
   "source": [
    "# Question 5"
   ]
  },
  {
   "cell_type": "markdown",
   "metadata": {},
   "source": [
    "## a) Calculating Gamma\n",
    "\n",
    "$\\Gamma$ measures the expected change in $\\Delta$ of an option $O$. If $\\Delta$ is changing significantly, the price of its option $O$, will be very volatile. For European options, $\\Gamma$ is calculated as follows:\n",
    "\n",
    "\\begin{align*}\n",
    "    \\Gamma & = \\frac{\\mathcal{N'}(d_1)}{S_0 \\sigma \\sqrt{T}}\n",
    "\\end{align*}\n",
    "\n",
    "Where $\\mathcal{N'} = \\frac{1}{\\sqrt{2\\pi}} e^{-\\frac{x^2}{2}}$.\n",
    "\n",
    "Let's consider a covered call strategy, and following question 4 we will consider the current stock price as well as the current stock price with a $0.85 increase."
   ]
  },
  {
   "cell_type": "code",
   "execution_count": 25,
   "metadata": {},
   "outputs": [
    {
     "name": "stdout",
     "output_type": "stream",
     "text": [
      "For a $1 change in the price of the stock at $154.73, delta will change by 0.01003.\n",
      "For a $1 change in the price of the stock at $155.58, delta will change by 0.00989.\n"
     ]
    }
   ],
   "source": [
    "# Defines the number of AAPL shares\n",
    "n_shares = 23000\n",
    "\n",
    "# Calculate the delta for the call option at S\n",
    "d1 = (np.log((S)/X) + (r+sigma**2/2)*T) / (sigma*np.sqrt(T))\n",
    "gamma = ((1/np.sqrt(2*np.pi))*np.exp(-(d1**2)/2))/((S)*sigma*np.sqrt(T))\n",
    "\n",
    "print(f\"For a $1 change in the price of the stock at ${S:.2f}, delta will change by {gamma:.5f}.\")\n",
    "\n",
    "# Calculate the delta for the call option at S+0.85\n",
    "d1 = (np.log((S+0.85)/X) + (r+sigma**2/2)*T) / (sigma*np.sqrt(T))\n",
    "gamma = ((1/np.sqrt(2*np.pi))*np.exp(-(d1**2)/2))/((S+0.85)*sigma*np.sqrt(T))\n",
    "\n",
    "print(f\"For a $1 change in the price of the stock at ${S+0.85:.2f}, delta will change by {gamma:.5f}.\")"
   ]
  },
  {
   "cell_type": "markdown",
   "metadata": {},
   "source": [
    "Again, we see that the value of gamma changes for different values of the underlying asset."
   ]
  },
  {
   "cell_type": "markdown",
   "metadata": {},
   "source": [
    "## b) Gamma-Neutral Position"
   ]
  },
  {
   "cell_type": "markdown",
   "metadata": {},
   "source": [
    "Assume we want to gamma-hedge a covered-call, delta neutral, portfolio composed of $x$ long (=buying) shares of Apple stock and $y$ short (=selling) call options of AAPL. Therefore, an investor is buying $x$ shares of Apple and selling $y$ Apple call options. The covered-call portfolio for $x=23000$ is:"
   ]
  },
  {
   "cell_type": "code",
   "execution_count": 26,
   "metadata": {},
   "outputs": [
    {
     "name": "stdout",
     "output_type": "stream",
     "text": [
      "Delta: 0.638\n",
      "To create a delta-neutral portfolio that longs 23000 shares of AAPL stock, it would be necessary to sell 36030.695 AAPL call options.\n"
     ]
    }
   ],
   "source": [
    "# Defines the number of AAPL shares\n",
    "n_shares = 23000\n",
    "\n",
    "# Calculate the delta for the call option\n",
    "d1 = (np.log(S/X) + (r+sigma**2/2)*T) / (sigma*np.sqrt(T))\n",
    "delta = stats.norm.cdf(d1)\n",
    "\n",
    "# Calculates the the number of options necessary to create a delta-neutral portfolio\n",
    "n_options = n_shares/delta\n",
    "\n",
    "print(f\"Delta: {delta:.3f}\")\n",
    "print(f\"To create a delta-neutral portfolio that longs 23000 shares of AAPL stock, it would be necessary to sell {n_options:.3f} AAPL call options.\")"
   ]
  },
  {
   "cell_type": "markdown",
   "metadata": {},
   "source": [
    "Now, let's calculate the gamma-neutral position for this portfolio."
   ]
  },
  {
   "cell_type": "code",
   "execution_count": 27,
   "metadata": {},
   "outputs": [
    {
     "name": "stdout",
     "output_type": "stream",
     "text": [
      "Gamma greek position: -361.392\n"
     ]
    }
   ],
   "source": [
    "# gamma greek position of the current portfolio (negative because we are selling options)\n",
    "gamma = ((1/np.sqrt(2*np.pi))*np.exp(-(d1**2)/2))/((S)*sigma*np.sqrt(T))\n",
    "\n",
    "gamma_p = - n_options * gamma\n",
    "print(f\"Gamma greek position: {gamma_p:.3f}\")"
   ]
  },
  {
   "cell_type": "markdown",
   "metadata": {},
   "source": [
    "Now, consider a hypothetical traded option on the underlying asset Z with $\\Delta=0.6$ and $\\Gamma=1.2$. We can establish a gamma-neutral position by buying (or selling) this option."
   ]
  },
  {
   "cell_type": "code",
   "execution_count": 28,
   "metadata": {},
   "outputs": [
    {
     "name": "stdout",
     "output_type": "stream",
     "text": [
      "The gamma neutral position is achieved by buying (or selling, if sign is negative) 301.160 options of asset Z.\n"
     ]
    }
   ],
   "source": [
    "n_options_z = -(gamma_p/1.2)\n",
    "print(f\"The gamma neutral position is achieved by buying (or selling, if sign is negative) {n_options_z:.3f} options of asset Z.\")"
   ]
  },
  {
   "cell_type": "markdown",
   "metadata": {},
   "source": [
    "## c) Portfolio Adjustment"
   ]
  },
  {
   "cell_type": "markdown",
   "metadata": {},
   "source": [
    "By buying options on Z, the portfolio is no longer delta-neutral. Therefore, we have to rebalance it to obtain delta-gamma neutrality."
   ]
  },
  {
   "cell_type": "code",
   "execution_count": 29,
   "metadata": {},
   "outputs": [
    {
     "name": "stdout",
     "output_type": "stream",
     "text": [
      "The current delta greek position on asset Z is 180.696. Therefore, the investor needs to sell (or buy, if sign is negative) 180.696 shares of Z to achieve delta-gamma neutrality.\n"
     ]
    }
   ],
   "source": [
    "delta_z = n_options_z * 0.6\n",
    "print(f\"The current delta greek position on asset Z is {delta_z:.3f}. Therefore, the investor needs to sell (or buy, if sign is negative) {delta_z:.3f} shares of Z to achieve delta-gamma neutrality.\")"
   ]
  },
  {
   "cell_type": "markdown",
   "metadata": {},
   "source": [
    "# Question 6"
   ]
  },
  {
   "cell_type": "markdown",
   "metadata": {},
   "source": [
    "### Calculate Theta ($\\theta$)\n",
    "\n",
    "We will calculate daily $\\theta$ values for both call and put european options."
   ]
  },
  {
   "cell_type": "code",
   "execution_count": 30,
   "metadata": {},
   "outputs": [
    {
     "name": "stdout",
     "output_type": "stream",
     "text": [
      "The value of an european call option decreases by $3.636 each day.\n",
      "The value of an european put option decreases by $3.629 each day.\n"
     ]
    }
   ],
   "source": [
    "# calculate constants\n",
    "d1 = (np.log(S/X) + (r+sigma**2/2)*T) / (sigma*np.sqrt(T))\n",
    "d2 = d1 - sigma*np.sqrt(T)\n",
    "N_prime = (1/np.sqrt(2*np.pi))*np.exp(-(d1**2)/2)\n",
    "\n",
    "# european call options\n",
    "theta_call = - (S*N*sigma)/(2*np.sqrt(T)) - r*X*np.exp(-r*T)*stats.norm.cdf(d2)\n",
    "theta_call /= 252\n",
    "\n",
    "# european put options\n",
    "theta_put = - (S*N*sigma)/(2*np.sqrt(T)) + r*X*np.exp(-r*T)*stats.norm.cdf(-d2)\n",
    "theta_put /= 252\n",
    "\n",
    "print(f\"The value of an european call option decreases by ${abs(theta_call):.3f} each day.\")\n",
    "print(f\"The value of an european put option decreases by ${abs(theta_put):.3f} each day.\")"
   ]
  },
  {
   "cell_type": "markdown",
   "metadata": {},
   "source": [
    "This means that the value of options decrease as they get closer to maturity."
   ]
  },
  {
   "cell_type": "markdown",
   "metadata": {},
   "source": [
    "### Calculate Vega ($\\nu$) and then assume 3.4% increase in volatility"
   ]
  },
  {
   "cell_type": "code",
   "execution_count": 31,
   "metadata": {},
   "outputs": [
    {
     "name": "stdout",
     "output_type": "stream",
     "text": [
      "Vega: 57.978\n"
     ]
    }
   ],
   "source": [
    "N_prime = (1/np.sqrt(2*np.pi))*np.exp(-(d1**2)/2)\n",
    "vega = S*N_prime*np.sqrt(T)\n",
    "\n",
    "print(f\"Vega: {vega:.3f}\")"
   ]
  },
  {
   "cell_type": "markdown",
   "metadata": {},
   "source": [
    "This means that, for a 1% increase in volatility, the option price will increase by approximately $0.58. \n",
    "\n",
    "In case of a 3.4% increase in volatility:"
   ]
  },
  {
   "cell_type": "code",
   "execution_count": 32,
   "metadata": {},
   "outputs": [
    {
     "name": "stdout",
     "output_type": "stream",
     "text": [
      "The value of an european option changes by $1.971 for a 3.4‰ increase in volatility.\n"
     ]
    }
   ],
   "source": [
    "print(f\"The value of an european option changes by ${vega*0.034:.3f} for a 3.4‰ increase in volatility.\")"
   ]
  },
  {
   "cell_type": "markdown",
   "metadata": {},
   "source": [
    "### Calculate Rho ($\\rho$) and then assume 0.3% decrease in the risk-free rate"
   ]
  },
  {
   "cell_type": "markdown",
   "metadata": {},
   "source": [
    "We will calculate $\\rho$ values for both call and put european options."
   ]
  },
  {
   "cell_type": "code",
   "execution_count": 33,
   "metadata": {},
   "outputs": [
    {
     "name": "stdout",
     "output_type": "stream",
     "text": [
      "The value of an european call option changes by $0.797 for every 1‰ increase in RF rate.\n",
      "The value of an european put option changes by $-0.666 for every 1‰ increase in RF rate.\n"
     ]
    }
   ],
   "source": [
    "# calculate constants\n",
    "d1 = (np.log(S/X) + (r+sigma**2/2)*T) / (sigma*np.sqrt(T))\n",
    "d2 = d1 - sigma*np.sqrt(T)\n",
    "\n",
    "# calculate rho\n",
    "rho_call = X*T*np.exp(-r*T)*stats.norm.cdf(d2)\n",
    "rho_put = -X*T*np.exp(-r*T)*stats.norm.cdf(-d2)\n",
    "\n",
    "print(f\"The value of an european call option changes by ${rho_call/100:.3f} for every 1‰ increase in RF rate.\")\n",
    "print(f\"The value of an european put option changes by ${rho_put/100:.3f} for every 1‰ increase in RF rate.\")"
   ]
  },
  {
   "cell_type": "markdown",
   "metadata": {},
   "source": [
    "In case of a 0.3% decrease in the risk free rate:"
   ]
  },
  {
   "cell_type": "code",
   "execution_count": 34,
   "metadata": {},
   "outputs": [
    {
     "name": "stdout",
     "output_type": "stream",
     "text": [
      "The value of an european call option changes by $-0.239 for a 0.3‰ decrease in RF rate.\n",
      "The value of an european put option changes by $0.200 for a 0.3‰ decrease in RF rate.\n"
     ]
    }
   ],
   "source": [
    "print(f\"The value of an european call option changes by ${rho_call*-0.003:.3f} for a 0.3‰ decrease in RF rate.\")\n",
    "print(f\"The value of an european put option changes by ${rho_put*-0.003:.3f} for a 0.3‰ decrease in RF rate.\")"
   ]
  }
 ],
 "metadata": {
  "interpreter": {
   "hash": "d441477d4ac06b2e73b8f68a6e0abbd47d9ed122c6ab8a6ba11dcedf10e55af9"
  },
  "kernelspec": {
   "display_name": "Python 3.9.4 ('venv': venv)",
   "language": "python",
   "name": "python3"
  },
  "language_info": {
   "codemirror_mode": {
    "name": "ipython",
    "version": 3
   },
   "file_extension": ".py",
   "mimetype": "text/x-python",
   "name": "python",
   "nbconvert_exporter": "python",
   "pygments_lexer": "ipython3",
   "version": "3.9.7"
  },
  "orig_nbformat": 4
 },
 "nbformat": 4,
 "nbformat_minor": 2
}
