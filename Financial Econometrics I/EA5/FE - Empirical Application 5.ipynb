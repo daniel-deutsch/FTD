{
 "cells": [
  {
   "cell_type": "markdown",
   "metadata": {},
   "source": [
    "# Empirical Application 5 Financial Econometrics\n",
    "\n",
    "*By Daniel Deutsch, José Lucas Barretto, and Stéphane Roblet*"
   ]
  },
  {
   "cell_type": "markdown",
   "metadata": {},
   "source": [
    "## Data Preparation"
   ]
  },
  {
   "cell_type": "code",
   "execution_count": 205,
   "metadata": {},
   "outputs": [],
   "source": [
    "import numpy as np\n",
    "import pandas as pd\n",
    "import statsmodels.api as sm\n",
    "import statsmodels.tsa as tsa\n",
    "from matplotlib import pyplot as plt"
   ]
  },
  {
   "cell_type": "code",
   "execution_count": 206,
   "metadata": {},
   "outputs": [
    {
     "name": "stderr",
     "output_type": "stream",
     "text": [
      "/home/josebarretto/anaconda3/envs/ftd/lib/python3.7/site-packages/IPython/core/interactiveshell.py:3441: FutureWarning: In a future version of pandas all arguments of read_csv except for the argument 'filepath_or_buffer' will be keyword-only\n",
      "  exec(code_obj, self.user_global_ns, self.user_ns)\n"
     ]
    }
   ],
   "source": [
    "# load datasets\n",
    "russel = pd.read_csv(\"^RUT.csv\", ';', na_values = '.', parse_dates=['Date'])\n",
    "ir = pd.read_csv(\"USD1MTD156N.csv\", na_values = '.', parse_dates=['DATE'])\n",
    "\n",
    "# merge to have equal dates\n",
    "df = russel.merge(ir, left_on='Date', right_on='DATE', how='inner').drop(columns=['DATE'])\n",
    "\n",
    "# rename columns\n",
    "df.rename(columns={\n",
    "    'Date': 'date',\n",
    "    'Close': 'rut',\n",
    "    'USD1MTD156N': 'interest_rate'\n",
    "}, inplace=True)\n",
    "\n",
    "# apply log to russell index prices\n",
    "df['rut'] = np.log(df['rut'])\n",
    "\n",
    "# convert from percentage to decimal\n",
    "df['interest_rate'] = df['interest_rate']/100\n",
    "\n",
    "# calculate the daily index return\n",
    "df['return'] = df['rut'] - df['rut'].shift()"
   ]
  },
  {
   "cell_type": "code",
   "execution_count": 207,
   "metadata": {},
   "outputs": [],
   "source": [
    "# load inflation dataset\n",
    "inflation = pd.read_csv('5y_inflation_expected.csv', na_values = '.', parse_dates=['DATE']).rename(\n",
    "    columns={\n",
    "        'DATE': 'date',\n",
    "        'T5YIE': 'inflation'\n",
    "    })"
   ]
  },
  {
   "cell_type": "code",
   "execution_count": 208,
   "metadata": {},
   "outputs": [],
   "source": [
    "# load VIX dataset\n",
    "vix = pd.read_csv('vix.csv', na_values = '.', parse_dates=['DATE']).rename(\n",
    "    columns={\n",
    "        'DATE': 'date',\n",
    "        'VIXCLS': 'vix'\n",
    "        })\n",
    "\n",
    "# apply log values\n",
    "vix['vix'] = np.log(vix['vix'])"
   ]
  },
  {
   "cell_type": "code",
   "execution_count": 209,
   "metadata": {},
   "outputs": [],
   "source": [
    "# load GDP dataset\n",
    "gdp = pd.read_csv(\n",
    "    'GDP.csv',\n",
    "    na_values = '.',\n",
    "    parse_dates=['DATE']\n",
    "    ).rename(columns={'DATE': 'date', 'GDP': 'gdp'})\n",
    "gdp.set_index('date', inplace=True)\n",
    "gdp.index = pd.to_datetime(gdp.index)\n",
    "\n",
    "# interpolate to obtain daily values\n",
    "gdp = gdp.resample('d').interpolate()\n",
    "gdp.reset_index(inplace=True)\n",
    "\n",
    "# apply log values\n",
    "gdp['gdp'] = np.log(gdp['gdp'])"
   ]
  },
  {
   "cell_type": "code",
   "execution_count": 210,
   "metadata": {},
   "outputs": [],
   "source": [
    "# merge all datasets\n",
    "df = df.merge(inflation, on='date', how='left')\n",
    "df = df.merge(vix, on='date', how='left')\n",
    "df = df.merge(gdp, on='date', how='left')\n",
    "df.dropna(inplace=True)"
   ]
  },
  {
   "cell_type": "code",
   "execution_count": 211,
   "metadata": {},
   "outputs": [
    {
     "data": {
      "text/html": [
       "<div>\n",
       "<style scoped>\n",
       "    .dataframe tbody tr th:only-of-type {\n",
       "        vertical-align: middle;\n",
       "    }\n",
       "\n",
       "    .dataframe tbody tr th {\n",
       "        vertical-align: top;\n",
       "    }\n",
       "\n",
       "    .dataframe thead th {\n",
       "        text-align: right;\n",
       "    }\n",
       "</style>\n",
       "<table border=\"1\" class=\"dataframe\">\n",
       "  <thead>\n",
       "    <tr style=\"text-align: right;\">\n",
       "      <th></th>\n",
       "      <th>date</th>\n",
       "      <th>rut</th>\n",
       "      <th>interest_rate</th>\n",
       "      <th>return</th>\n",
       "      <th>inflation</th>\n",
       "      <th>vix</th>\n",
       "      <th>gdp</th>\n",
       "    </tr>\n",
       "  </thead>\n",
       "  <tbody>\n",
       "    <tr>\n",
       "      <th>1</th>\n",
       "      <td>2015-01-05</td>\n",
       "      <td>7.074413</td>\n",
       "      <td>0.001680</td>\n",
       "      <td>-0.014663</td>\n",
       "      <td>1.25</td>\n",
       "      <td>2.991724</td>\n",
       "      <td>9.798146</td>\n",
       "    </tr>\n",
       "    <tr>\n",
       "      <th>2</th>\n",
       "      <td>2015-01-06</td>\n",
       "      <td>7.057304</td>\n",
       "      <td>0.001678</td>\n",
       "      <td>-0.017109</td>\n",
       "      <td>1.16</td>\n",
       "      <td>3.050220</td>\n",
       "      <td>9.798271</td>\n",
       "    </tr>\n",
       "    <tr>\n",
       "      <th>3</th>\n",
       "      <td>2015-01-07</td>\n",
       "      <td>7.069849</td>\n",
       "      <td>0.001665</td>\n",
       "      <td>0.012545</td>\n",
       "      <td>1.16</td>\n",
       "      <td>2.960623</td>\n",
       "      <td>9.798396</td>\n",
       "    </tr>\n",
       "    <tr>\n",
       "      <th>4</th>\n",
       "      <td>2015-01-08</td>\n",
       "      <td>7.086847</td>\n",
       "      <td>0.001663</td>\n",
       "      <td>0.016998</td>\n",
       "      <td>1.21</td>\n",
       "      <td>2.833801</td>\n",
       "      <td>9.798521</td>\n",
       "    </tr>\n",
       "    <tr>\n",
       "      <th>5</th>\n",
       "      <td>2015-01-09</td>\n",
       "      <td>7.078072</td>\n",
       "      <td>0.001668</td>\n",
       "      <td>-0.008775</td>\n",
       "      <td>1.20</td>\n",
       "      <td>2.865054</td>\n",
       "      <td>9.798646</td>\n",
       "    </tr>\n",
       "  </tbody>\n",
       "</table>\n",
       "</div>"
      ],
      "text/plain": [
       "        date       rut  interest_rate    return  inflation       vix       gdp\n",
       "1 2015-01-05  7.074413       0.001680 -0.014663       1.25  2.991724  9.798146\n",
       "2 2015-01-06  7.057304       0.001678 -0.017109       1.16  3.050220  9.798271\n",
       "3 2015-01-07  7.069849       0.001665  0.012545       1.16  2.960623  9.798396\n",
       "4 2015-01-08  7.086847       0.001663  0.016998       1.21  2.833801  9.798521\n",
       "5 2015-01-09  7.078072       0.001668 -0.008775       1.20  2.865054  9.798646"
      ]
     },
     "execution_count": 211,
     "metadata": {},
     "output_type": "execute_result"
    }
   ],
   "source": [
    "df.head()"
   ]
  },
  {
   "cell_type": "markdown",
   "metadata": {},
   "source": [
    "## Checking stationarity of series"
   ]
  },
  {
   "cell_type": "markdown",
   "metadata": {},
   "source": [
    "Here we will apply ADF Tests to check for thee stationarity of the different series used."
   ]
  },
  {
   "cell_type": "code",
   "execution_count": 212,
   "metadata": {},
   "outputs": [
    {
     "name": "stdout",
     "output_type": "stream",
     "text": [
      "ADF Test P-values - H0: The series contains a unit root -> Non-stationary\n",
      "rut: 0.2112\n",
      "interest_rate: 0.84\n",
      "inflation: 0.0612\n",
      "vix: 0.0008\n",
      "gdp: 0.6539\n"
     ]
    }
   ],
   "source": [
    "print('ADF Test P-values - H0: The series contains a unit root -> Non-stationary')\n",
    "for series in ['rut', 'interest_rate', 'inflation', 'vix', 'gdp']:\n",
    "    print(\n",
    "        f'{series}: {np.round(tsa.stattools.adfuller(df[series])[1], 4)}'\n",
    "    )"
   ]
  },
  {
   "cell_type": "markdown",
   "metadata": {},
   "source": [
    "We can see for all the series, but for the VIX index, the ADF test indicates the presence of a unit root, meaning that they are non-stationary. For this reason, we will use the first difference of the series, except for the VIX index, where the unit root hypothesis is rejected."
   ]
  },
  {
   "cell_type": "code",
   "execution_count": 213,
   "metadata": {},
   "outputs": [],
   "source": [
    "# apply first difference to series with unit roots\n",
    "df['interest_rate'] = df['interest_rate'].diff()\n",
    "df['inflation'] = df['inflation'].diff()\n",
    "df['gdp'] = df['gdp'].diff()\n",
    "\n",
    "df.dropna(inplace=True)"
   ]
  },
  {
   "cell_type": "markdown",
   "metadata": {},
   "source": [
    "## Estimating Russell 2000 returns with a Linear Model"
   ]
  },
  {
   "cell_type": "markdown",
   "metadata": {},
   "source": [
    "Now, let's use a linear model to use as a baseline."
   ]
  },
  {
   "cell_type": "code",
   "execution_count": 265,
   "metadata": {},
   "outputs": [
    {
     "name": "stdout",
     "output_type": "stream",
     "text": [
      "                            OLS Regression Results                            \n",
      "==============================================================================\n",
      "Dep. Variable:                 return   R-squared:                       0.526\n",
      "Model:                            OLS   Adj. R-squared:                  0.522\n",
      "Method:                 Least Squares   F-statistic:                     139.3\n",
      "Date:                Sun, 14 Nov 2021   Prob (F-statistic):          9.77e-215\n",
      "Time:                        19:02:21   Log-Likelihood:                 4431.3\n",
      "No. Observations:                1393   AIC:                            -8839.\n",
      "Df Residuals:                    1381   BIC:                            -8776.\n",
      "Df Model:                          11                                         \n",
      "Covariance Type:            nonrobust                                         \n",
      "======================================================================================\n",
      "                         coef    std err          t      P>|t|      [0.025      0.975]\n",
      "--------------------------------------------------------------------------------------\n",
      "const                  0.0072      0.002      3.225      0.001       0.003       0.012\n",
      "interest_rate          4.8210      1.623      2.971      0.003       1.638       8.004\n",
      "inflation              0.0744      0.008      9.541      0.000       0.059       0.090\n",
      "vix                   -0.0989      0.003    -29.490      0.000      -0.105      -0.092\n",
      "gdp                    4.3013      0.656      6.561      0.000       3.015       5.587\n",
      "interest_rate_lag1    -9.8841      1.630     -6.064      0.000     -13.082      -6.687\n",
      "inflation_lag1         0.0404      0.008      5.104      0.000       0.025       0.056\n",
      "vix_lag1               0.0962      0.003     28.635      0.000       0.090       0.103\n",
      "gdp_lag1              -2.3375      0.659     -3.546      0.000      -3.631      -1.044\n",
      "return_lag1           -0.1137      0.021     -5.329      0.000      -0.156      -0.072\n",
      "return_lag2            0.1179      0.020      5.935      0.000       0.079       0.157\n",
      "return_lag3           -0.0106      0.019     -0.552      0.581      -0.048       0.027\n",
      "==============================================================================\n",
      "Omnibus:                      274.026   Durbin-Watson:                   2.111\n",
      "Prob(Omnibus):                  0.000   Jarque-Bera (JB):             7429.701\n",
      "Skew:                           0.086   Prob(JB):                         0.00\n",
      "Kurtosis:                      14.313   Cond. No.                     2.50e+04\n",
      "==============================================================================\n",
      "\n",
      "Notes:\n",
      "[1] Standard Errors assume that the covariance matrix of the errors is correctly specified.\n",
      "[2] The condition number is large, 2.5e+04. This might indicate that there are\n",
      "strong multicollinearity or other numerical problems.\n"
     ]
    },
    {
     "name": "stderr",
     "output_type": "stream",
     "text": [
      "/home/josebarretto/anaconda3/envs/ftd/lib/python3.7/site-packages/statsmodels/tsa/tsatools.py:142: FutureWarning: In a future version of pandas all arguments of concat except for the argument 'objs' will be keyword-only\n",
      "  x = pd.concat(x[::order], 1)\n"
     ]
    }
   ],
   "source": [
    "# calculate order 3 lags of each variable\n",
    "for series in ['interest_rate', 'inflation', 'vix', 'gdp']:\n",
    "    df[f'{series}_lag1'] = df[series].shift(1)\n",
    "\n",
    "df['return_lag1'] = df['return'].shift(1)\n",
    "df['return_lag2'] = df['return'].shift(2)\n",
    "df['return_lag3'] = df['return'].shift(3)\n",
    "\n",
    "df.dropna(inplace=True)\n",
    "\n",
    "# build feature dataset\n",
    "X = sm.add_constant(df.drop(columns=['rut', 'return']).set_index('date'))\n",
    "y = df[['date', 'return']].set_index('date')\n",
    "\n",
    "# run OLS model\n",
    "linear_model = sm.OLS(y, X).fit()\n",
    "print(linear_model.summary())"
   ]
  },
  {
   "cell_type": "markdown",
   "metadata": {},
   "source": [
    "## Testing for linearity with transition variable $y_{t-1}$"
   ]
  },
  {
   "cell_type": "code",
   "execution_count": 261,
   "metadata": {},
   "outputs": [
    {
     "name": "stderr",
     "output_type": "stream",
     "text": [
      "/home/josebarretto/anaconda3/envs/ftd/lib/python3.7/site-packages/statsmodels/base/model.py:1834: ValueWarning: covariance of constraints does not have full rank. The number of constraints is 77, but rank is 38\n",
      "  'rank is %d' % (J, J_), ValueWarning)\n"
     ]
    }
   ],
   "source": [
    "X = df.drop(columns=['rut', 'return']).set_index('date')\n",
    "\n",
    "wald_cols = []\n",
    "for j in range(1,4):\n",
    "    for col in X.columns:\n",
    "        wald_cols.append(f'{col}*return_lag1^{j}')\n",
    "        X[f'{col}*return_lag1^{j}'] = X[col]*X['return_lag1']**j\n",
    "\n",
    "X = sm.add_constant(X)\n",
    "y = df[['date', 'return']].set_index('date')\n",
    "\n",
    "# run OLS model\n",
    "linear_model = sm.OLS(y, X).fit()\n",
    "\n",
    "# set-up hypothesis\n",
    "hypothesis = ' = 0, '.join(wald_cols)\n",
    "hypothesis = '(' + hypothesis + ' = 0)'\n",
    "\n",
    "# run wald test\n",
    "test = linear_model.wald_test(hypothesis)\n",
    "p_value = test.pvalue.item()"
   ]
  },
  {
   "cell_type": "code",
   "execution_count": 264,
   "metadata": {},
   "outputs": [
    {
     "name": "stdout",
     "output_type": "stream",
     "text": [
      "P-value for null hypothesis of linearity: 4.3597910233333997e-44\n"
     ]
    }
   ],
   "source": [
    "print('P-value for null hypothesis of linearity:', p_value)"
   ]
  },
  {
   "cell_type": "markdown",
   "metadata": {},
   "source": [
    "We can see that we strongly reject the null hypothesis of linearity."
   ]
  },
  {
   "cell_type": "markdown",
   "metadata": {},
   "source": [
    "## Selecting a good transition variable"
   ]
  }
 ],
 "metadata": {
  "interpreter": {
   "hash": "156cdd08ff571162fd182190bad6186649972fd0b052e8c370942bcc6aa575ea"
  },
  "kernelspec": {
   "display_name": "Python 3 (ipykernel)",
   "language": "python",
   "name": "python3"
  },
  "language_info": {
   "codemirror_mode": {
    "name": "ipython",
    "version": 3
   },
   "file_extension": ".py",
   "mimetype": "text/x-python",
   "name": "python",
   "nbconvert_exporter": "python",
   "pygments_lexer": "ipython3",
   "version": "3.7.6"
  }
 },
 "nbformat": 4,
 "nbformat_minor": 2
}
