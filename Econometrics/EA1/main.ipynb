{
 "cells": [
  {
   "cell_type": "markdown",
   "source": [
    "# EA1:\r\n",
    "\r\n",
    "*By Daniel Deutsch and José Lucas Barretto*"
   ],
   "metadata": {}
  },
  {
   "cell_type": "code",
   "execution_count": 13,
   "source": [
    "import numpy as np\n",
    "import pandas as pd\n",
    "import statsmodels.tsa.stattools as sm"
   ],
   "outputs": [],
   "metadata": {}
  },
  {
   "cell_type": "code",
   "execution_count": 55,
   "source": [
    "# read AAA corporate bonds data\n",
    "df_corpbonds = pd.read_csv('datasets/AAA_corpbonds_yields.csv', na_values='.')\n",
    "\n",
    "# convert date columns to datetime\n",
    "df_corpbonds['DATE'] = pd.to_datetime(df_corpbonds['DATE'], format='%Y-%m-%d')\n",
    "\n",
    "# apply log transform to values\n",
    "df_corpbonds['DAAA'] = np.log(df_corpbonds['DAAA'])"
   ],
   "outputs": [],
   "metadata": {}
  },
  {
   "cell_type": "code",
   "execution_count": 284,
   "source": [
    "df_corpbonds.dropna(inplace=True)\n",
    "\n",
    "adf_res = sm.adfuller(df_corpbonds['DAAA'], regression='ct', maxlag=1, autolag=None, regresults=True)"
   ],
   "outputs": [],
   "metadata": {}
  },
  {
   "cell_type": "code",
   "execution_count": 292,
   "source": [
    "print(adf_res[3].resols.summary())"
   ],
   "outputs": [
    {
     "output_type": "stream",
     "name": "stdout",
     "text": [
      "                            OLS Regression Results                            \n",
      "==============================================================================\n",
      "Dep. Variable:                      y   R-squared:                       0.007\n",
      "Model:                            OLS   Adj. R-squared:                  0.005\n",
      "Method:                 Least Squares   F-statistic:                     3.023\n",
      "Date:                Wed, 08 Sep 2021   Prob (F-statistic):             0.0288\n",
      "Time:                        16:09:56   Log-Likelihood:                 3346.8\n",
      "No. Observations:                1249   AIC:                            -6686.\n",
      "Df Residuals:                    1245   BIC:                            -6665.\n",
      "Df Model:                           3                                         \n",
      "Covariance Type:            nonrobust                                         \n",
      "==============================================================================\n",
      "                 coef    std err          t      P>|t|      [0.025      0.975]\n",
      "------------------------------------------------------------------------------\n",
      "x1            -0.0114      0.004     -2.926      0.003      -0.019      -0.004\n",
      "x2             0.0050      0.028      0.176      0.860      -0.051       0.060\n",
      "const          0.0169      0.006      2.952      0.003       0.006       0.028\n",
      "x3         -5.865e-06   2.13e-06     -2.749      0.006      -1e-05   -1.68e-06\n",
      "==============================================================================\n",
      "Omnibus:                      457.781   Durbin-Watson:                   2.000\n",
      "Prob(Omnibus):                  0.000   Jarque-Bera (JB):            18892.042\n",
      "Skew:                           0.971   Prob(JB):                         0.00\n",
      "Kurtosis:                      21.954   Cond. No.                     4.34e+04\n",
      "==============================================================================\n",
      "\n",
      "Notes:\n",
      "[1] Standard Errors assume that the covariance matrix of the errors is correctly specified.\n",
      "[2] The condition number is large, 4.34e+04. This might indicate that there are\n",
      "strong multicollinearity or other numerical problems.\n"
     ]
    }
   ],
   "metadata": {}
  },
  {
   "cell_type": "markdown",
   "source": [
    "1. Check if x1's t-stat is below critical value -> t-stat for x1 = -2.926 -> we do not reject $H_0: \\rho = 0$.\n",
    "\n",
    "2. Check if coefficient of the trend is statistically significant -> t-stat for x3 = -2.749 -> the coef. of the trend is not significant.\n",
    "\n",
    "3. Run test again without trend."
   ],
   "metadata": {}
  },
  {
   "cell_type": "code",
   "execution_count": null,
   "source": [],
   "outputs": [],
   "metadata": {}
  }
 ],
 "metadata": {
  "orig_nbformat": 4,
  "language_info": {
   "name": "python",
   "version": "3.7.11",
   "mimetype": "text/x-python",
   "codemirror_mode": {
    "name": "ipython",
    "version": 3
   },
   "pygments_lexer": "ipython3",
   "nbconvert_exporter": "python",
   "file_extension": ".py"
  },
  "kernelspec": {
   "name": "python3",
   "display_name": "Python 3.7.11 64-bit ('ftd': conda)"
  },
  "interpreter": {
   "hash": "5c6d81ea1cf499ba5c79af05705e41eaa826a3ee2278c6ca22370c968e33e53b"
  }
 },
 "nbformat": 4,
 "nbformat_minor": 2
}