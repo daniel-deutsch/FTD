{
 "cells": [
  {
   "cell_type": "markdown",
   "metadata": {},
   "source": [
    "# Asset Pricing - Final Project"
   ]
  },
  {
   "cell_type": "code",
   "execution_count": 1,
   "metadata": {},
   "outputs": [],
   "source": [
    "import getFamaFrenchFactors as gff\n",
    "import matplotlib.pyplot as plt\n",
    "import numpy as np\n",
    "import pandas as pd\n",
    "import statsmodels.api as sm\n",
    "import statsmodels.tsa.api as tsa\n",
    "import yfinance as yf\n"
   ]
  },
  {
   "cell_type": "code",
   "execution_count": 2,
   "metadata": {},
   "outputs": [],
   "source": [
    "plt.style.use('fivethirtyeight')\n",
    "plt.rcParams.update({\n",
    "    'font.family': 'serif',\n",
    "    'font.serif': 'Ubuntu',\n",
    "    'font.monospace': 'Ubuntu Mono',\n",
    "    'font.size': 14,\n",
    "\n",
    "    'axes.labelweight': 'normal',\n",
    "    'axes.labelcolor': 'black',\n",
    "    'axes.titleweight': 'normal',\n",
    "    'axes.titlesize': 16,\n",
    "    'axes.titlelocation': 'center',\n",
    "    'axes.labelpad': 10,\n",
    "    'axes.titleweight': 'bold',\n",
    "    'axes.titlepad': 15,\n",
    "    \n",
    "    'xtick.labelsize': 14,\n",
    "    'ytick.labelsize': 14,\n",
    "    'legend.fontsize': 14,\n",
    "    \n",
    "    'figure.titlesize': 18,\n",
    "    'figure.figsize': (10, 6),\n",
    "    'figure.autolayout': True,\n",
    "    'figure.subplot.wspace': 0.25,\n",
    "    'figure.subplot.wspace': 0.4,\n",
    "\n",
    "    'lines.linewidth': 2\n",
    "})"
   ]
  },
  {
   "cell_type": "markdown",
   "metadata": {},
   "source": [
    "## Data Loading and Preprocessing"
   ]
  },
  {
   "cell_type": "markdown",
   "metadata": {},
   "source": [
    "### Load Fama-French 3-Factor Model"
   ]
  },
  {
   "cell_type": "code",
   "execution_count": 12,
   "metadata": {},
   "outputs": [],
   "source": [
    "daily_factors = pd.read_csv(\n",
    "    'datasets/ff_3factor_daily.csv',\n",
    "    skiprows=5,\n",
    "    skipfooter=1,\n",
    "    names=['date', 'mkt-rf', 'smb', 'hml', 'rf'],\n",
    "    index_col=[0],\n",
    "    parse_dates=[0],\n",
    "    engine='python'\n",
    "    )/100\n",
    "\n",
    "monthly_factors = pd.read_csv(\n",
    "    'datasets/ff_3factor_monthly.csv',\n",
    "    skiprows=5,\n",
    "    skipfooter=1,\n",
    "    names=['date', 'mkt-rf', 'smb', 'hml', 'rf'],\n",
    "    index_col=[0],\n",
    "    parse_dates=[0],\n",
    "    date_parser=lambda x: pd.to_datetime(x, format='%Y%m'),\n",
    "    engine='python'\n",
    "    )/100\n",
    "monthly_factors.index = monthly_factors.index.to_period('M')\n",
    "\n",
    "annual_factors = pd.read_csv(\n",
    "    'datasets/ff_3factor_annual.csv',\n",
    "    skiprows=5,\n",
    "    skipfooter=1,\n",
    "    names=['date', 'mkt-rf', 'smb', 'hml', 'rf'],\n",
    "    index_col=[0],\n",
    "    parse_dates=[0],\n",
    "    engine='python'\n",
    "    )/100\n",
    "annual_factors.index = annual_factors.index.to_period('Y')"
   ]
  },
  {
   "cell_type": "markdown",
   "metadata": {},
   "source": [
    "### Load US Stock Market Sector Indexes"
   ]
  },
  {
   "cell_type": "code",
   "execution_count": 13,
   "metadata": {},
   "outputs": [
    {
     "name": "stdout",
     "output_type": "stream",
     "text": [
      "[*********************100%***********************]  9 of 9 completed\n"
     ]
    }
   ],
   "source": [
    "indexes = ['XLY', 'XLP', 'XLE', 'XLF', 'XLV', 'XLI', 'XLB', 'XLK', 'XLU']\n",
    "start_date = \"2004-01-01\"\n",
    "end_date = \"2012-01-01\"\n",
    "\n",
    "# load index prices from yahoo finance\n",
    "daily_prices = yf.download(\n",
    "    indexes,\n",
    "    start=start_date,\n",
    "    )['Close']\n",
    "daily_prices.index.rename('date', inplace=True)\n",
    "\n",
    "# calculate daily, monthly, and annual returns\n",
    "daily_returns = daily_prices.pct_change().dropna()\n",
    "\n",
    "monthly_returns = daily_prices.resample('MS').last().pct_change().dropna()\n",
    "monthly_returns.index = monthly_returns.index.to_period('M')\n",
    "\n",
    "annual_returns = daily_prices.resample('YS').last().pct_change().dropna()\n",
    "annual_returns.index = annual_returns.index.to_period('A')"
   ]
  },
  {
   "cell_type": "markdown",
   "metadata": {},
   "source": [
    "### Merge dataframes and subtract $R_f$ from index returns"
   ]
  },
  {
   "cell_type": "code",
   "execution_count": 22,
   "metadata": {},
   "outputs": [],
   "source": [
    "# merge daily factors and index returns\n",
    "df_daily = pd.merge(\n",
    "    daily_factors, daily_returns,\n",
    "    left_index=True, right_index=True,\n",
    "    how='inner'\n",
    "    )\n",
    "\n",
    "# merge monthly factors and index returns\n",
    "df_monthly = pd.merge(\n",
    "    monthly_factors, monthly_returns,\n",
    "    left_index=True, right_index=True,\n",
    "    how='inner'\n",
    "    )\n",
    "\n",
    "# merge annual factors and index returns\n",
    "df_annual = pd.merge(\n",
    "    annual_factors, annual_returns,\n",
    "    left_index=True, right_index=True,\n",
    "    how='inner'\n",
    "    )\n",
    "\n",
    "# subtract risk free rate from index returns\n",
    "for index in indexes: \n",
    "    df_daily[index] = df_daily[index] - df_daily['rf']\n",
    "    df_monthly[index] = df_monthly[index] - df_monthly['rf']\n",
    "    df_annual[index] = df_annual[index] - df_annual['rf']"
   ]
  },
  {
   "cell_type": "code",
   "execution_count": null,
   "metadata": {},
   "outputs": [],
   "source": []
  }
 ],
 "metadata": {
  "interpreter": {
   "hash": "156cdd08ff571162fd182190bad6186649972fd0b052e8c370942bcc6aa575ea"
  },
  "kernelspec": {
   "display_name": "Python 3.7.11 64-bit ('ftd': conda)",
   "name": "python3"
  },
  "language_info": {
   "codemirror_mode": {
    "name": "ipython",
    "version": 3
   },
   "file_extension": ".py",
   "mimetype": "text/x-python",
   "name": "python",
   "nbconvert_exporter": "python",
   "pygments_lexer": "ipython3",
   "version": "3.7.11"
  },
  "orig_nbformat": 4
 },
 "nbformat": 4,
 "nbformat_minor": 2
}
