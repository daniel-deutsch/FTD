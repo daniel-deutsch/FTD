{
 "cells": [
  {
   "cell_type": "code",
   "execution_count": 3,
   "metadata": {},
   "outputs": [],
   "source": [
    "import matplotlib.pyplot as plt\n",
    "import numpy as np\n",
    "import pandas as pd\n",
    "import statsmodels.api as sm\n"
   ]
  },
  {
   "cell_type": "code",
   "execution_count": 41,
   "metadata": {},
   "outputs": [],
   "source": [
    "div = pd.read_csv('MCD_Dividends.csv', index_col='Date', parse_dates=[0]).sort_index()\n",
    "close = pd.read_csv('MCD.csv', index_col='Date', parse_dates=[0], usecols=[0,4])\n",
    "rf = pd.read_csv('RF.csv', index_col='Date', names=['Date', 'RF'], skiprows=1)"
   ]
  },
  {
   "cell_type": "code",
   "execution_count": 35,
   "metadata": {},
   "outputs": [
    {
     "name": "stderr",
     "output_type": "stream",
     "text": [
      "/home/josebarretto/anaconda3/envs/ftd/lib/python3.7/site-packages/ipykernel_launcher.py:1: FutureWarning: Dropping of nuisance columns in DataFrame reductions (with 'numeric_only=None') is deprecated; in a future version this will raise TypeError.  Select only valid columns before calling the reduction.\n",
      "  \"\"\"Entry point for launching an IPython kernel.\n"
     ]
    },
    {
     "data": {
      "text/plain": [
       "Year                       2010.000000\n",
       " Equity Risk Premium          5.021905\n",
       " Expected Market Return       9.841905\n",
       "dtype: float64"
      ]
     },
     "execution_count": 35,
     "metadata": {},
     "output_type": "execute_result"
    }
   ],
   "source": [
    "pd.read_csv('Riskpremium.csv', delimiter=';').mean()"
   ]
  }
 ],
 "metadata": {
  "interpreter": {
   "hash": "156cdd08ff571162fd182190bad6186649972fd0b052e8c370942bcc6aa575ea"
  },
  "kernelspec": {
   "display_name": "Python 3.7.11 64-bit ('ftd': conda)",
   "name": "python3"
  },
  "language_info": {
   "codemirror_mode": {
    "name": "ipython",
    "version": 3
   },
   "file_extension": ".py",
   "mimetype": "text/x-python",
   "name": "python",
   "nbconvert_exporter": "python",
   "pygments_lexer": "ipython3",
   "version": "3.7.11"
  },
  "orig_nbformat": 4
 },
 "nbformat": 4,
 "nbformat_minor": 2
}
