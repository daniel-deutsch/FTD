{
 "cells": [
  {
   "cell_type": "markdown",
   "metadata": {},
   "source": [
    "# Financial Econometrics II: Final Project\n",
    "\n",
    "*By Basri Satiroglu, Daniel Deutsch and José Lucas Barretto*"
   ]
  },
  {
   "cell_type": "code",
   "execution_count": 1,
   "metadata": {},
   "outputs": [],
   "source": [
    "import pandas as pd\n",
    "import matplotlib.pyplot as plt"
   ]
  },
  {
   "cell_type": "code",
   "execution_count": 2,
   "metadata": {},
   "outputs": [],
   "source": [
    "# Matplotlib styles\n",
    "plt.style.use('ggplot')\n",
    "plt.rcParams.update({\n",
    "    'figure.figsize': (15, 7),\n",
    "    'axes.prop_cycle': plt.cycler(color=['#4C72B0', '#C44E52', '#55A868', '#8172B2', '#CCB974', '#64B5CD']),\n",
    "    'axes.facecolor': '#EAEAF2'\n",
    "})"
   ]
  },
  {
   "cell_type": "markdown",
   "metadata": {},
   "source": [
    "## Section 1"
   ]
  },
  {
   "cell_type": "markdown",
   "metadata": {},
   "source": [
    "### Data Loading"
   ]
  },
  {
   "cell_type": "code",
   "execution_count": 14,
   "metadata": {},
   "outputs": [],
   "source": [
    "# read raw dataset\n",
    "df_raw = pd.read_stata('Diane-data.dta')\n",
    "\n",
    "# rename columns\n",
    "df_raw.rename(\n",
    "    columns = {\n",
    "        'siren': 'siren_float',\n",
    "        'sirenID': 'siren',\n",
    "        'companyname': 'company',\n",
    "        'regioncode': 'region_code',\n",
    "        'départementcode': 'department_code',\n",
    "        'cashNbank': 'cash',\n",
    "        'totalDebt': 'totaldebt'\n",
    "    },\n",
    "    inplace=True\n",
    ")\n",
    "\n",
    "# select desired columns from data\n",
    "columns = [\n",
    "    'siren', 'year', 'company', 'totalassets', 'marketable_sec', 'cash', \n",
    "    'totaldebt', 'inventory', 'creditors', 'tradedebts', 'taxes', 'otherdebts', \n",
    "    'netincome'\n",
    "]\n",
    "\n",
    "# filter desired department and columns\n",
    "df = df_raw.loc[df_raw['department_code'] == 33, columns]\n",
    "\n",
    "# drop na values\n",
    "df.dropna(inplace=True)\n",
    "\n",
    "# set siren and date as indexes\n",
    "df = df.sort_values(['siren', 'year']).set_index(['siren', 'year'], verify_integrity=True)"
   ]
  },
  {
   "cell_type": "markdown",
   "metadata": {},
   "source": [
    "### Data Transformations"
   ]
  },
  {
   "cell_type": "markdown",
   "metadata": {},
   "source": [
    "#### Cash + Marketable Securities Ratio"
   ]
  },
  {
   "cell_type": "code",
   "execution_count": 15,
   "metadata": {},
   "outputs": [],
   "source": [
    "# create filters for numerator and denominator\n",
    "mask_num = (df['cash'] + df['marketable_sec']) >= 0\n",
    "mask_den = df['totalassets'] >= 1\n",
    "\n",
    "# compute ratio\n",
    "df['cash_mktsec_ratio'] = ((df['cash'] + df['marketable_sec'])[mask_num]) / (df['totalassets'][mask_den])"
   ]
  },
  {
   "cell_type": "markdown",
   "metadata": {},
   "source": [
    "#### Other Ratios"
   ]
  },
  {
   "cell_type": "code",
   "execution_count": 16,
   "metadata": {},
   "outputs": [],
   "source": [
    "# create filter for ratios\n",
    "mask = (df['cash'] >= 0) & (df['marketable_sec'] >= 0) & (df['totaldebt'] >= 0)\n",
    "\n",
    "# calculate working capital\n",
    "df['nwc'] = (df['inventory'] + df['creditors'] - df['tradedebts'] - df['taxes'] - df['otherdebts'])/df['totalassets']\n",
    "\n",
    "# calculate other ratios\n",
    "df['netincome_ratio'] = (df['netincome']/df['totalassets'])[mask]\n",
    "df['totaldebt_ratio'] = (df['totaldebt']/df['totalassets'])[mask]\n",
    "df['inventory_ratio'] = df['inventory']/df['totalassets']  \n",
    "df['creditors_ratio'] = df['creditors']/df['totalassets']  \n",
    "df['tradedebts_ratio'] = df['tradedebts']/df['totalassets']  \n",
    "df['taxes_ratio'] = df['taxes']/df['totalassets']  \n",
    "df['otherdebts_ratio'] = df['otherdebts']/df['totalassets']  "
   ]
  },
  {
   "cell_type": "markdown",
   "metadata": {},
   "source": [
    "#### Between and Within Transformations"
   ]
  },
  {
   "cell_type": "code",
   "execution_count": 24,
   "metadata": {},
   "outputs": [],
   "source": [
    "between = df.groupby(level=0).mean()\n",
    "within = df.subtract(df.groupby(level=0).mean(), level=0)"
   ]
  },
  {
   "cell_type": "markdown",
   "metadata": {},
   "source": [
    "## Section 2"
   ]
  },
  {
   "cell_type": "markdown",
   "metadata": {},
   "source": []
  }
 ],
 "metadata": {
  "interpreter": {
   "hash": "813085b8088f594363e9b4d9e28d21197abe0cf5634fbed84af7f515a4ba725b"
  },
  "kernelspec": {
   "display_name": "Python 3.9.7 ('ftd')",
   "language": "python",
   "name": "python3"
  },
  "language_info": {
   "codemirror_mode": {
    "name": "ipython",
    "version": 3
   },
   "file_extension": ".py",
   "mimetype": "text/x-python",
   "name": "python",
   "nbconvert_exporter": "python",
   "pygments_lexer": "ipython3",
   "version": "3.9.7"
  },
  "orig_nbformat": 4
 },
 "nbformat": 4,
 "nbformat_minor": 2
}
